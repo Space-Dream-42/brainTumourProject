{
 "cells": [
  {
   "cell_type": "markdown",
   "id": "5d513afc",
   "metadata": {},
   "source": [
    "Simple Segmentation Net"
   ]
  },
  {
   "cell_type": "code",
   "execution_count": 14,
   "id": "bbb58639",
   "metadata": {},
   "outputs": [],
   "source": [
    "# overview\n",
    "Scans = {\n",
    "    0: 'FLAIR',\n",
    "    1: 'T1w',\n",
    "    2: 't1gd',\n",
    "    3: 'T2w'}\n",
    "\n",
    "Labels = {\n",
    "    0: 'background',\n",
    "    1: 'edema',\n",
    "    2: 'non-enhancing tumor',\n",
    "    3: 'enhancing tumour'}"
   ]
  },
  {
   "cell_type": "code",
   "execution_count": 2,
   "id": "67611cbe",
   "metadata": {},
   "outputs": [
    {
     "data": {
      "text/plain": [
       "<torch._C.Generator at 0x7f6ba0068a90>"
      ]
     },
     "execution_count": 2,
     "metadata": {},
     "output_type": "execute_result"
    }
   ],
   "source": [
    "import torch\n",
    "import torchvision as tv\n",
    "import torchvision.transforms as transforms\n",
    "from torchvision.datasets.vision import StandardTransform\n",
    "from torch.utils.data import DataLoader\n",
    "from torchvision.utils import make_grid\n",
    "\n",
    "import torch.nn as nn\n",
    "import torch.optim as optim\n",
    "import torch.nn.functional as F\n",
    "\n",
    "import numpy as np\n",
    "import pandas as pd \n",
    "from PIL import Image\n",
    "import matplotlib.pyplot as plt \n",
    "%matplotlib inline \n",
    "import json\n",
    "import os\n",
    "\n",
    "import SimpleITK as sitk\n",
    "\n",
    "from Dataset_Utils import BraTS_TrainingDataset\n",
    "from Dataset_Utils import BraTS_TestDataset\n",
    "from Dataset_Utils import plot_batch\n",
    "\n",
    "torch.manual_seed(0)"
   ]
  },
  {
   "cell_type": "markdown",
   "id": "17a19da9",
   "metadata": {},
   "source": [
    "Data Loading"
   ]
  },
  {
   "cell_type": "code",
   "execution_count": 7,
   "id": "89006248",
   "metadata": {},
   "outputs": [
    {
     "name": "stdout",
     "output_type": "stream",
     "text": [
      "/media/z/Ubuntu-Storage/BT_Segmentation_Project/Task01_BrainTumour/extracted/imagesTr\n",
      "/media/z/Ubuntu-Storage/BT_Segmentation_Project/Task01_BrainTumour/extracted/labelsTr\n",
      "torch.Size([2, 4, 155, 240, 240])\n",
      "torch.Size([2, 155, 240, 240])\n"
     ]
    }
   ],
   "source": [
    "# PATH\n",
    "dataset_path = '/media/z/Ubuntu-Storage/BT_Segmentation_Project/Task01_BrainTumour/extracted/'\n",
    "\n",
    "train_data = BraTS_TrainingDataset(dataset_path)\n",
    "\n",
    "trainloader = torch.utils.data.DataLoader(\n",
    "    train_data, batch_size=2, shuffle=True, num_workers=0)\n",
    "\n",
    "train_iter = iter(trainloader)\n",
    "\n",
    "sample_batch = train_iter.next()\n",
    "print(sample_batch['image'].shape)\n",
    "print(sample_batch['label'].shape)\n",
    "\n",
    "# plot_batch(sample_batch, num_rows=2, height=75)"
   ]
  },
  {
   "cell_type": "markdown",
   "id": "fdf3be24",
   "metadata": {},
   "source": [
    "Create the model"
   ]
  },
  {
   "cell_type": "code",
   "execution_count": 231,
   "id": "73501f98",
   "metadata": {},
   "outputs": [
    {
     "name": "stdout",
     "output_type": "stream",
     "text": [
      "SmallSegNet(\n",
      "  (sm): Softmax(dim=1)\n",
      "  (layers): Sequential(\n",
      "    (0): Conv3d(4, 8, kernel_size=(2, 2, 2), stride=(1, 1, 1))\n",
      "    (1): ReLU()\n",
      "    (2): Conv3d(8, 8, kernel_size=(1, 1, 1), stride=(1, 1, 1))\n",
      "    (3): ReLU()\n",
      "    (4): ConvTranspose3d(8, 4, kernel_size=(2, 2, 2), stride=(1, 1, 1))\n",
      "  )\n",
      ")\n"
     ]
    }
   ],
   "source": [
    "class SmallSegNet(nn.Module):\n",
    "    \n",
    "    def __init__(self, in_channels=4, num_classes=4, img_height=5, img_width=5):\n",
    "        super(SmallSegNet, self).__init__()\n",
    "        self.sm = nn.Softmax(dim=1)\n",
    "        self.layers = nn.Sequential(\n",
    "        \n",
    "        # decrease x,y and increase channels\n",
    "            # Conv\n",
    "            nn.Conv3d(in_channels,8,2,stride=1,padding=0),\n",
    "            # nn.Batchnorm\n",
    "            nn.ReLU(),\n",
    "        \n",
    "        # change number of channels\n",
    "            # 1x1 Conv\n",
    "            nn.Conv3d(8,8,1,stride=1,padding=0),\n",
    "            # nn.Batchnorm\n",
    "            nn.ReLU(),\n",
    "        \n",
    "        # increase x,y and decrease channels\n",
    "            # Transpose-Conv\n",
    "            nn.ConvTranspose3d(8, num_classes, 2, stride=1, padding=0)\n",
    "        )\n",
    "    \n",
    "    def forward(self, x):\n",
    "        x = torch.FloatTensor(x)\n",
    "        x = self.layers(x)\n",
    "        # x = self.sm(x)\n",
    "        # Skip Softmax because Torch CrossEntropyLoss\n",
    "        # takes logits and already applies Softmax.\n",
    "        return x\n",
    "\n",
    "# summary\n",
    "print(SmallSegNet())\n",
    "\n",
    "model = SmallSegNet(in_channels=4, num_classes=4, img_height=240, img_width=240)"
   ]
  },
  {
   "cell_type": "code",
   "execution_count": 195,
   "id": "e5be49bf",
   "metadata": {},
   "outputs": [
    {
     "name": "stdout",
     "output_type": "stream",
     "text": [
      "torch.Size([2, 4, 155, 240, 240])\n"
     ]
    },
    {
     "data": {
      "text/plain": [
       "torch.Size([2, 4, 155, 240, 240])"
      ]
     },
     "execution_count": 195,
     "metadata": {},
     "output_type": "execute_result"
    }
   ],
   "source": [
    "x = sample_batch['image']\n",
    "print(x.shape)\n",
    "\n",
    "y_hat = model.forward(x)\n",
    "y_hat.shape"
   ]
  },
  {
   "cell_type": "code",
   "execution_count": 210,
   "id": "388b8b29",
   "metadata": {},
   "outputs": [
    {
     "name": "stdout",
     "output_type": "stream",
     "text": [
      "torch.Size([2, 155, 240, 240])\n"
     ]
    },
    {
     "data": {
      "text/plain": [
       "<matplotlib.image.AxesImage at 0x7f6ad4d0ddf0>"
      ]
     },
     "execution_count": 210,
     "metadata": {},
     "output_type": "execute_result"
    },
    {
     "data": {
      "image/png": "[encoded data removed]",
      "text/plain": [
       "<Figure size 432x288 with 1 Axes>"
      ]
     },
     "metadata": {
      "needs_background": "light"
     },
     "output_type": "display_data"
    }
   ],
   "source": [
    "probs, out = torch.max(y_hat, dim=1)\n",
    "print(out.shape)\n",
    "plt.imshow(out[0, 70, :, :])"
   ]
  },
  {
   "cell_type": "markdown",
   "id": "dbf6d3ba",
   "metadata": {},
   "source": [
    "Crossentropy Loss"
   ]
  },
  {
   "cell_type": "code",
   "execution_count": 211,
   "id": "2dcfcff5",
   "metadata": {},
   "outputs": [],
   "source": [
    "criterion = nn.CrossEntropyLoss()"
   ]
  },
  {
   "cell_type": "code",
   "execution_count": 226,
   "id": "abcc46c6",
   "metadata": {},
   "outputs": [
    {
     "name": "stdout",
     "output_type": "stream",
     "text": [
      "torch.Size([2, 4, 155, 240, 240])\n",
      "torch.Size([2, 155, 240, 240])\n",
      "torch.Size([2, 4, 155, 240, 240])\n"
     ]
    },
    {
     "data": {
      "text/plain": [
       "tensor(6.3037, grad_fn=<NllLoss2DBackward0>)"
      ]
     },
     "execution_count": 226,
     "metadata": {},
     "output_type": "execute_result"
    }
   ],
   "source": [
    "print(sample_batch['image'].shape)\n",
    "print(sample_batch['label'].shape)\n",
    "print(y_hat.shape)\n",
    "\n",
    "loss = criterion(y_hat, sample_batch['label'].long())\n",
    "loss"
   ]
  },
  {
   "cell_type": "markdown",
   "id": "ed690fd3",
   "metadata": {},
   "source": [
    "Training loop: Overfit to one sample"
   ]
  },
  {
   "cell_type": "code",
   "execution_count": 227,
   "id": "a1a5a37f",
   "metadata": {},
   "outputs": [],
   "source": [
    "optim = torch.optim.Adam(model.parameters(), lr=0.1)"
   ]
  },
  {
   "cell_type": "code",
   "execution_count": 228,
   "id": "1acb6972",
   "metadata": {},
   "outputs": [],
   "source": [
    "# training loop\n",
    "epochs = 10\n",
    "losses = []\n",
    "for epoch in range(epochs):\n",
    "    # get output\n",
    "    voxel_logits_batch = model.forward(sample_batch['image'])\n",
    "    \n",
    "    # get loss\n",
    "    loss = criterion(voxel_logits_batch, sample_batch['label'].long())\n",
    "    losses.append(loss)\n",
    "    \n",
    "    # backprop loss\n",
    "    optim.zero_grad()\n",
    "    loss.backward()\n",
    "    optim.step()"
   ]
  },
  {
   "cell_type": "code",
   "execution_count": 229,
   "id": "816538af",
   "metadata": {
    "scrolled": true
   },
   "outputs": [
    {
     "data": {
      "text/plain": [
       "[<matplotlib.lines.Line2D at 0x7f6ace8a1280>]"
      ]
     },
     "execution_count": 229,
     "metadata": {},
     "output_type": "execute_result"
    },
    {
     "data": {
      "image/png": "[encoded data removed]",
      "text/plain": [
       "<Figure size 432x288 with 1 Axes>"
      ]
     },
     "metadata": {
      "needs_background": "light"
     },
     "output_type": "display_data"
    }
   ],
   "source": [
    "losses_array = [l.detach().numpy() for l in losses]\n",
    "plt.plot(losses_array)"
   ]
  },
  {
   "cell_type": "markdown",
   "id": "d7815ecd",
   "metadata": {},
   "source": [
    "Predict"
   ]
  },
  {
   "cell_type": "code",
   "execution_count": 230,
   "id": "dc068972",
   "metadata": {},
   "outputs": [],
   "source": [
    "voxel_logits_batch = model.forward(sample_batch['image'])"
   ]
  },
  {
   "cell_type": "code",
   "execution_count": 237,
   "id": "de30b950",
   "metadata": {},
   "outputs": [
    {
     "data": {
      "text/plain": [
       "torch.Size([2, 4, 155, 240, 240])"
      ]
     },
     "execution_count": 237,
     "metadata": {},
     "output_type": "execute_result"
    }
   ],
   "source": [
    "voxel_probs_batch = model.sm(voxel_logits_batch)\n",
    "voxel_probs_batch.shape"
   ]
  },
  {
   "cell_type": "code",
   "execution_count": 240,
   "id": "f5a85bf5",
   "metadata": {},
   "outputs": [
    {
     "data": {
      "text/plain": [
       "torch.Size([2, 155, 240, 240])"
      ]
     },
     "execution_count": 240,
     "metadata": {},
     "output_type": "execute_result"
    }
   ],
   "source": [
    "probs, out = torch.max(voxel_probs_batch, dim=1)\n",
    "out.shape"
   ]
  },
  {
   "cell_type": "code",
   "execution_count": 253,
   "id": "6b13d35f",
   "metadata": {},
   "outputs": [
    {
     "name": "stdout",
     "output_type": "stream",
     "text": [
      "prediction:\n"
     ]
    },
    {
     "data": {
      "text/plain": [
       "<matplotlib.image.AxesImage at 0x7f6ad354fc70>"
      ]
     },
     "execution_count": 253,
     "metadata": {},
     "output_type": "execute_result"
    },
    {
     "data": {
      "image/png": "[encoded data removed]",
      "text/plain": [
       "<Figure size 432x288 with 1 Axes>"
      ]
     },
     "metadata": {
      "needs_background": "light"
     },
     "output_type": "display_data"
    }
   ],
   "source": [
    "print('prediction:')\n",
    "plt.imshow(out[0, 70, :, :])"
   ]
  },
  {
   "cell_type": "code",
   "execution_count": 254,
   "id": "862a1f8d",
   "metadata": {},
   "outputs": [
    {
     "name": "stdout",
     "output_type": "stream",
     "text": [
      "label:\n"
     ]
    },
    {
     "data": {
      "text/plain": [
       "<matplotlib.image.AxesImage at 0x7f6ad34ec310>"
      ]
     },
     "execution_count": 254,
     "metadata": {},
     "output_type": "execute_result"
    },
    {
     "data": {
      "image/png": "[encoded data removed]",
      "text/plain": [
       "<Figure size 432x288 with 1 Axes>"
      ]
     },
     "metadata": {
      "needs_background": "light"
     },
     "output_type": "display_data"
    }
   ],
   "source": [
    "print('label:')\n",
    "plt.imshow(sample_batch['label'][0, 70, :, :])"
   ]
  },
  {
   "cell_type": "code",
   "execution_count": 255,
   "id": "06ab2260",
   "metadata": {},
   "outputs": [
    {
     "data": {
      "text/plain": [
       "<Figure size 432x288 with 0 Axes>"
      ]
     },
     "metadata": {},
     "output_type": "display_data"
    },
    {
     "data": {
      "image/png": "[encoded data removed]",
      "text/plain": [
       "<Figure size 864x432 with 5 Axes>"
      ]
     },
     "metadata": {
      "needs_background": "light"
     },
     "output_type": "display_data"
    }
   ],
   "source": [
    "plot_batch(sample_batch, 1)"
   ]
  },
  {
   "cell_type": "code",
   "execution_count": null,
   "id": "577e31e7",
   "metadata": {},
   "outputs": [],
   "source": []
  }
 ],
 "metadata": {
  "kernelspec": {
   "display_name": "Python 3 (ipykernel)",
   "language": "python",
   "name": "python3"
  },
  "language_info": {
   "codemirror_mode": {
    "name": "ipython",
    "version": 3
   },
   "file_extension": ".py",
   "mimetype": "text/x-python",
   "name": "python",
   "nbconvert_exporter": "python",
   "pygments_lexer": "ipython3",
   "version": "3.8.10"
  }
 },
 "nbformat": 4,
 "nbformat_minor": 5
}
