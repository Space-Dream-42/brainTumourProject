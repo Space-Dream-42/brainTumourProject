{
 "cells": [
  {
   "cell_type": "markdown",
   "id": "276bae4e",
   "metadata": {},
   "source": [
    "Simple Segmentation Net"
   ]
  },
  {
   "cell_type": "code",
   "execution_count": 7,
   "id": "d88614b3",
   "metadata": {
    "scrolled": false
   },
   "outputs": [
    {
     "data": {
      "text/plain": [
       "<torch._C.Generator at 0x7f07a40e3ed0>"
      ]
     },
     "execution_count": 7,
     "metadata": {},
     "output_type": "execute_result"
    }
   ],
   "source": [
    "import torch\n",
    "import torchvision as tv\n",
    "import torchvision.transforms as transforms\n",
    "from torchvision.datasets.vision import StandardTransform\n",
    "from torch.utils.data import DataLoader\n",
    "from torchvision.utils import make_grid\n",
    "\n",
    "import torch.nn as nn\n",
    "import torch.optim as optim\n",
    "import torch.nn.functional as F\n",
    "\n",
    "import numpy as np\n",
    "import pandas as pd \n",
    "from PIL import Image\n",
    "import matplotlib.pyplot as plt \n",
    "%matplotlib inline \n",
    "import json\n",
    "import os\n",
    "\n",
    "import SimpleITK as sitk\n",
    "\n",
    "from Dataset_Utils import BraTS_TrainingDataset\n",
    "from Dataset_Utils import plot_batch, crop_batch, decrop_batch, split_cube\n",
    "\n",
    "torch.manual_seed(42)"
   ]
  },
  {
   "cell_type": "markdown",
   "id": "aa390054",
   "metadata": {},
   "source": [
    "Data Loading"
   ]
  },
  {
   "cell_type": "code",
   "execution_count": 8,
   "id": "5dcd294b",
   "metadata": {},
   "outputs": [],
   "source": [
    "Scans = {\n",
    "    0: 'FLAIR',\n",
    "    1: 'T1w',\n",
    "    2: 't1gd',\n",
    "    3: 'T2w'}\n",
    "\n",
    "Labels = {\n",
    "    0: 'background',\n",
    "    1: 'edema',\n",
    "    2: 'non-enhancing tumor',\n",
    "    3: 'enhancing tumour'}"
   ]
  },
  {
   "cell_type": "code",
   "execution_count": 9,
   "id": "6f7a3cdd",
   "metadata": {},
   "outputs": [
    {
     "name": "stdout",
     "output_type": "stream",
     "text": [
      "/media/linux/Extreme SSD/brainTumourProject/Task01_BrainTumour/cropped/imagesTr\n",
      "/media/linux/Extreme SSD/brainTumourProject/Task01_BrainTumour/cropped/labelsTr\n",
      "torch.Size([1, 4, 155, 192, 192])\n",
      "torch.Size([1, 155, 192, 192])\n"
     ]
    }
   ],
   "source": [
    "# PATH\n",
    "dataset_path = '/media/linux/Extreme SSD/brainTumourProject/Task01_BrainTumour/cropped/'\n",
    "\n",
    "train_data = BraTS_TrainingDataset(dataset_path)\n",
    "\n",
    "trainloader = torch.utils.data.DataLoader(\n",
    "    train_data, batch_size=1, shuffle=True, num_workers=0)\n",
    "\n",
    "train_iter = iter(trainloader)\n",
    "\n",
    "sample_batch = train_iter.next()\n",
    "print(sample_batch['image'].shape)\n",
    "print(sample_batch['label'].shape)\n",
    "\n",
    "# plot_batch(sample_batch, num_rows=2, height=75)"
   ]
  },
  {
   "cell_type": "markdown",
   "id": "6794d3e7",
   "metadata": {},
   "source": [
    "Create the model"
   ]
  },
  {
   "cell_type": "code",
   "execution_count": 10,
   "id": "b3b87e8f",
   "metadata": {},
   "outputs": [
    {
     "name": "stdout",
     "output_type": "stream",
     "text": [
      "cpu\n"
     ]
    }
   ],
   "source": [
    "device = torch.device('cuda' if torch.cuda.is_available() else 'cpu')\n",
    "print(device)\n",
    "if torch.cuda.is_available():\n",
    "    print(torch.cuda.get_device_name(0))"
   ]
  },
  {
   "cell_type": "code",
   "execution_count": 21,
   "id": "eca861ba",
   "metadata": {},
   "outputs": [],
   "source": [
    "# Armin's alternative centercrop function (needs some editing in the return statement)\n",
    "def center_cropping(z,x,y,img):\n",
    "    to_crop_z = img.shape[1] - z\n",
    "    to_crop_x = img.shape[2] - x\n",
    "    to_crop_y = img.shape[3] - y\n",
    "    get_bound = lambda x,length: (x/2,(length-2/2)+ 1) if x%2 == 0 else (x//2 + 1, length-x//2)\n",
    "    slice_z = get_bound(to_crop_z,img.shape[1])\n",
    "    slice_x = get_bound(to_crop_x,img.shape[2])\n",
    "    slice_y = get_bound(to_crop_y,img.shape[3])\n",
    "    return img[:,slice_z(0):slice_z(1),slice_x(0):slice_x(1),slice_y(0):slice_y(1)] "
   ]
  },
  {
   "cell_type": "code",
   "execution_count": 12,
   "id": "17561405",
   "metadata": {},
   "outputs": [],
   "source": [
    "class SmallBTSegNet(nn.Module):\n",
    "\n",
    "    def downward_block(self, in_channels, out_channels, kernel_size=3, stride=1, padding=0):\n",
    "        \"\"\"\n",
    "        The downward blocks are part of the contracting path.\n",
    "        Utility:\n",
    "        - decrease the depth, height and width.\n",
    "        - increase the number of channels.\n",
    "        The result is that features get more high level\n",
    "        and spatial information decreases with each downward block.\n",
    "        \"\"\"\n",
    "        downward_block = nn.Sequential(\n",
    "            nn.Conv3d(in_channels=in_channels, out_channels=out_channels,\n",
    "                      kernel_size=kernel_size, stride=stride, padding=padding),\n",
    "            nn.ReLU(),\n",
    "            # nn.BatchNorm3d(out_channels),\n",
    "                \n",
    "            nn.Conv3d(in_channels=out_channels, out_channels=out_channels,\n",
    "                      kernel_size=kernel_size, stride=stride, padding=padding),\n",
    "            nn.ReLU(),\n",
    "            # nn.BatchNorm3d(out_channels),\n",
    "            )\n",
    "        return downward_block\n",
    "    \n",
    "    def upward_block(self, in_channels, out_channels, kernel_size=3, stride=1, padding=0):\n",
    "        \"\"\"\n",
    "        The upward blocks are part of the expanding path.\n",
    "        Utility:\n",
    "        - increase the number of depth, height and width.\n",
    "        - decrease the number of channels.\n",
    "        The result is a segmentation map that increases\n",
    "        in resolution for each upward block.\n",
    "        \"\"\"\n",
    "        mid_channels = in_channels//2\n",
    "        # E.g.: in_c = 512, mid_c = 256, out_c = 128\n",
    "        \n",
    "        upward_block = nn.Sequential(\n",
    "            nn.Conv3d(in_channels=in_channels, out_channels=mid_channels,\n",
    "                      kernel_size=kernel_size, stride=stride, padding=padding),\n",
    "            nn.ReLU(),\n",
    "            # nn.BatchNorm3d(mid_channels),\n",
    "                \n",
    "            nn.Conv3d(in_channels=mid_channels, out_channels=out_channels,\n",
    "                      kernel_size=kernel_size, stride=stride, padding=padding),\n",
    "            nn.ReLU(),\n",
    "            # nn.BatchNorm3d(out_channels))\n",
    "        )\n",
    "        \n",
    "        return upward_block\n",
    "    \n",
    "    def __init__(self, num_modalities, num_classes, img_height, img_width):\n",
    "        \n",
    "        self.DEBUG = True\n",
    "        \n",
    "        super(SmallBTSegNet, self).__init__()\n",
    "        self.maxpool = nn.MaxPool3d(kernel_size=2, stride=2)\n",
    "        \n",
    "        # downward layers\n",
    "        self.down1 = self.downward_block(in_channels=num_modalities, out_channels=64, \n",
    "                                      kernel_size=3, stride=1, padding=0)\n",
    "    \n",
    "        self.down2 = self.downward_block(in_channels=64, out_channels=128, \n",
    "                                      kernel_size=3, stride=1, padding=0)\n",
    "        \n",
    "        self.down3 = self.downward_block(in_channels=128, out_channels=256, \n",
    "                                      kernel_size=3, stride=1, padding=0)\n",
    "        \n",
    "        self.down4 = self.downward_block(in_channels=256, out_channels=512, \n",
    "                                      kernel_size=3, stride=1, padding=0)\n",
    "            \n",
    "        #self.same_conv = nn.Sequential(\n",
    "        #    nn.Conv3d(in_channels=32, out_channels=32,\n",
    "        #              kernel_size=3, stride=1, padding=1),\n",
    "        #    nn.ReLU(),\n",
    "        #    nn.BatchNorm3d(32),\n",
    "        #)\n",
    "        \n",
    "        self.upconv1 = nn.ConvTranspose3d(in_channels=512, out_channels=256,\n",
    "                              kernel_size=2, stride=2, padding=0, output_padding=1)\n",
    "        \n",
    "        self.up1 = self.upward_block(in_channels=512, out_channels=256, \n",
    "                                     kernel_size=3, stride=1, padding=0)\n",
    "        \n",
    "        self.upconv2 = nn.ConvTranspose3d(in_channels=256, out_channels=128,\n",
    "                              kernel_size=2, stride=2, padding=0, output_padding=1)\n",
    "        \n",
    "        self.up2 = self.upward_block(in_channels=256, out_channels=128, \n",
    "                                     kernel_size=3, stride=1, padding=0)\n",
    "        \n",
    "        self.upconv3 = nn.ConvTranspose3d(in_channels=128, out_channels=64,\n",
    "                              kernel_size=2, stride=2, padding=0, output_padding=1)\n",
    "        \n",
    "        self.up3 = self.upward_block(in_channels=128, out_channels=64, \n",
    "                                     kernel_size=3, stride=1, padding=0)\n",
    "            \n",
    "        self.out_conv = nn.Sequential(\n",
    "            nn.Conv3d(in_channels=64, out_channels=4,\n",
    "                      kernel_size=3, stride=1, padding=0),\n",
    "            # nn.ReLU(),\n",
    "        )\n",
    "        \n",
    "    def forward(self, x):\n",
    "        x = torch.FloatTensor(x).to(device)\n",
    "        \n",
    "        # downward layers\n",
    "        x = self.down1(x)\n",
    "        l1_out = torch.clone(x)\n",
    "        l1_transform = transforms.CenterCrop((55)) # CenterCrop transform only handles 2D\n",
    "        l1_out_crop = l1_transform(torch.clone(x)) # Apply transform\n",
    "        l1_out_crop = l1_out_crop[:,58:93,:,:] # Take care of 3rd dim. separately\n",
    "        x = self.maxpool(x)\n",
    "        \n",
    "        x = self.down2(x)\n",
    "        l2_transform = transforms.CenterCrop((59))\n",
    "        l2_out_crop = l2_transform(torch.clone(x))\n",
    "        l2_out_crop = l2_out_crop[:,16:55,:,:]\n",
    "        l2_out = torch.clone(x)\n",
    "        x = self.maxpool(x)\n",
    "        \n",
    "        x = self.down3(x)\n",
    "        l3_transform = transforms.CenterCrop((33))\n",
    "        l3_out_crop = l3_transform(torch.clone(x))\n",
    "        l3_out_crop = l3_out_crop[:,4:27,:,:]\n",
    "        l3_out = torch.clone(x)\n",
    "        x = self.maxpool(x)\n",
    "            \n",
    "        x = self.down4(x)\n",
    "        l4_out = torch.clone(x)\n",
    "        # x = self.maxpool(x)\n",
    "        \n",
    "        # bottom floor\n",
    "        # x = self.same_conv(x)\n",
    "        # x = self.same_conv(x)\n",
    "        \n",
    "        if self.DEBUG:\n",
    "            print('l1_out:', l1_out.shape)\n",
    "            print('l1_out_crop:', l1_out_crop.shape)\n",
    "            print('l2_out:', l2_out.shape)\n",
    "            print('l2_out_crop:', l2_out_crop.shape)\n",
    "            print('l3_out:', l3_out.shape)\n",
    "            print('l3_out_crop:', l3_out_crop.shape)\n",
    "            print('l4_out:', l4_out.shape)\n",
    "            print('x:', x.shape)\n",
    "        \n",
    "        # upward layers\n",
    "        x = self.upconv1(x)\n",
    "        if self.DEBUG:\n",
    "            print('after upconv1:', x.shape)\n",
    "        x = torch.cat((l3_out_crop, x), dim=0)\n",
    "        if self.DEBUG:\n",
    "            print('after cat:', x.shape)\n",
    "        x = self.up1(x)\n",
    "        if self.DEBUG:\n",
    "            print('after up1:', x.shape)\n",
    "        \n",
    "        x = self.upconv2(x)\n",
    "        if self.DEBUG:\n",
    "            print('after upconv2:', x.shape)\n",
    "        x = torch.cat((l2_out_crop, x), dim=0)\n",
    "        if self.DEBUG:\n",
    "            print('after cat:', x.shape)\n",
    "        x = self.up2(x)\n",
    "        if self.DEBUG:\n",
    "            print('after up2:', x.shape)\n",
    "        \n",
    "        x = self.upconv3(x)\n",
    "        if self.DEBUG:\n",
    "            print('after upconv3:', x.shape)\n",
    "        x = torch.cat((l1_out_crop, x), dim=0)\n",
    "        if self.DEBUG:\n",
    "            print('after cat:', x.shape)\n",
    "        x = self.up3(x)\n",
    "        if self.DEBUG:\n",
    "            print('after up3:', x.shape)\n",
    "        \n",
    "        # output conv block\n",
    "        x = self.out_conv(x)\n",
    "        if self.DEBUG:\n",
    "            print('after out conv:', x.shape)       \n",
    "        return x\n",
    "    \n",
    "# summary\n",
    "# print(SmallBTSegNet(num_modalities=4, num_classes=4, img_height=96, img_width=96))\n",
    "\n",
    "# init model\n",
    "# model = SmallBTSegNet(num_modalities=4, num_classes=4, img_height=96, img_width=96).to(device)\n",
    "model = SmallBTSegNet(num_modalities=4, num_classes=4, img_height=192, img_width=192).to(device)"
   ]
  },
  {
   "cell_type": "markdown",
   "id": "c29e8e8d",
   "metadata": {},
   "source": [
    "Test & debug model"
   ]
  },
  {
   "cell_type": "code",
   "execution_count": 13,
   "id": "033a922f",
   "metadata": {},
   "outputs": [],
   "source": [
    "# Sample a minicube batch\n",
    "# minicube_batch = split_cube(train_iter.next())"
   ]
  },
  {
   "cell_type": "code",
   "execution_count": 14,
   "id": "91b630e3",
   "metadata": {},
   "outputs": [],
   "source": [
    "# voxel_logits_batch = model.forward(minicube_batch['image'][:1,:,:,:,:])"
   ]
  },
  {
   "cell_type": "code",
   "execution_count": 9,
   "id": "a6bb1124",
   "metadata": {},
   "outputs": [],
   "source": [
    "# test on a sample image (WHOLE)\n",
    "dat = np.load(\"0.npy\")\n",
    "\n",
    "fdat = model.forward(dat)"
   ]
  },
  {
   "cell_type": "markdown",
   "id": "4762bd25",
   "metadata": {},
   "source": [
    "Training loop utils"
   ]
  },
  {
   "cell_type": "code",
   "execution_count": 15,
   "id": "6cf91d67",
   "metadata": {
    "scrolled": true
   },
   "outputs": [],
   "source": [
    "# test alternative centercrop on a sample tensor\n",
    "Z = torch.zeros(4, 155, 192, 192)\n",
    "Z.shape"
   ]
  },
  {
   "cell_type": "code",
   "execution_count": 22,
   "id": "f9e79ed0",
   "metadata": {},
   "outputs": [
    {
     "ename": "TypeError",
     "evalue": "'tuple' object is not callable",
     "output_type": "error",
     "traceback": [
      "\u001b[0;31m---------------------------------------------------------------------------\u001b[0m",
      "\u001b[0;31mTypeError\u001b[0m                                 Traceback (most recent call last)",
      "Input \u001b[0;32mIn [22]\u001b[0m, in \u001b[0;36m<cell line: 1>\u001b[0;34m()\u001b[0m\n\u001b[0;32m----> 1\u001b[0m out \u001b[38;5;241m=\u001b[39m \u001b[43mcenter_cropping\u001b[49m\u001b[43m(\u001b[49m\u001b[38;5;241;43m100\u001b[39;49m\u001b[43m,\u001b[49m\u001b[38;5;241;43m100\u001b[39;49m\u001b[43m,\u001b[49m\u001b[38;5;241;43m100\u001b[39;49m\u001b[43m,\u001b[49m\u001b[43mZ\u001b[49m\u001b[43m)\u001b[49m\n\u001b[1;32m      2\u001b[0m \u001b[38;5;28mprint\u001b[39m(out\u001b[38;5;241m.\u001b[39mshape)\n",
      "Input \u001b[0;32mIn [21]\u001b[0m, in \u001b[0;36mcenter_cropping\u001b[0;34m(z, x, y, img)\u001b[0m\n\u001b[1;32m      7\u001b[0m slice_x \u001b[38;5;241m=\u001b[39m get_bound(to_crop_x,img\u001b[38;5;241m.\u001b[39mshape[\u001b[38;5;241m2\u001b[39m])\n\u001b[1;32m      8\u001b[0m slice_y \u001b[38;5;241m=\u001b[39m get_bound(to_crop_y,img\u001b[38;5;241m.\u001b[39mshape[\u001b[38;5;241m3\u001b[39m])\n\u001b[0;32m----> 9\u001b[0m \u001b[38;5;28;01mreturn\u001b[39;00m img[:,\u001b[43mslice_z\u001b[49m\u001b[43m(\u001b[49m\u001b[38;5;241;43m0\u001b[39;49m\u001b[43m)\u001b[49m:slice_z(\u001b[38;5;241m1\u001b[39m),slice_x(\u001b[38;5;241m0\u001b[39m):slice_x(\u001b[38;5;241m1\u001b[39m),slice_y(\u001b[38;5;241m0\u001b[39m):slice_y(\u001b[38;5;241m1\u001b[39m)]\n",
      "\u001b[0;31mTypeError\u001b[0m: 'tuple' object is not callable"
     ]
    }
   ],
   "source": [
    "## errors to be fixed\n",
    "out = center_cropping(100,100,100,Z)\n",
    "print(out.shape)"
   ]
  },
  {
   "cell_type": "code",
   "execution_count": null,
   "id": "d57ffaa6",
   "metadata": {},
   "outputs": [
    {
     "name": "stdout",
     "output_type": "stream",
     "text": [
      "l1_out: torch.Size([64, 151, 188, 188])\n",
      "l1_out_crop: torch.Size([64, 35, 55, 55])\n",
      "l2_out: torch.Size([128, 71, 90, 90])\n",
      "l2_out_crop: torch.Size([128, 39, 59, 59])\n",
      "l3_out: torch.Size([256, 31, 41, 41])\n",
      "l3_out_crop: torch.Size([256, 23, 33, 33])\n",
      "l4_out: torch.Size([512, 11, 16, 16])\n",
      "x: torch.Size([512, 11, 16, 16])\n",
      "after upconv1: torch.Size([256, 23, 33, 33])\n",
      "after cat: torch.Size([512, 23, 33, 33])\n"
     ]
    }
   ],
   "source": [
    "# test forward path on zeros\n",
    "# zdat = model.forward(Z)"
   ]
  },
  {
   "cell_type": "code",
   "execution_count": 9,
   "id": "24e5117a",
   "metadata": {},
   "outputs": [],
   "source": [
    "criterion = nn.CrossEntropyLoss()"
   ]
  },
  {
   "cell_type": "code",
   "execution_count": 10,
   "id": "ea86aaae",
   "metadata": {},
   "outputs": [],
   "source": [
    "def get_minicube_batch_loss(minicube_batch, step, device):\n",
    "    if step%4 == 0:\n",
    "        voxel_logits_batch = model.forward(minicube_batch['image'][:2,:,:,:,:])\n",
    "        loss = criterion(voxel_logits_batch, minicube_batch['label'][:2,:,:,:].long().to(device))\n",
    "        return loss\n",
    "    \n",
    "    elif step%4 == 1:\n",
    "        voxel_logits_batch = model.forward(minicube_batch['image'][2:4,:,:,:,:])\n",
    "        loss = criterion(voxel_logits_batch, minicube_batch['label'][2:4,:,:,:].long().to(device))\n",
    "        return loss\n",
    "    \n",
    "    elif step%4 == 2:\n",
    "        voxel_logits_batch = model.forward(minicube_batch['image'][4:6,:,:,:,:])\n",
    "        loss = criterion(voxel_logits_batch, minicube_batch['label'][4:6,:,:,:].long().to(device))\n",
    "        return loss\n",
    "    \n",
    "    else:\n",
    "        voxel_logits_batch = model.forward(minicube_batch['image'][6:,:,:,:,:])\n",
    "        loss = criterion(voxel_logits_batch, minicube_batch['label'][6:,:,:,:].long().to(device))\n",
    "        return loss"
   ]
  },
  {
   "cell_type": "markdown",
   "id": "ca806af8",
   "metadata": {},
   "source": [
    "Training Loop"
   ]
  },
  {
   "cell_type": "code",
   "execution_count": 11,
   "id": "5735f80e",
   "metadata": {
    "scrolled": true
   },
   "outputs": [
    {
     "name": "stdout",
     "output_type": "stream",
     "text": [
      "epoch 0: step   0: loss=1.407\n",
      "epoch 0: step  20: loss=0.843\n",
      "epoch 0: step  40: loss=0.590\n",
      "epoch 0: step  60: loss=0.507\n",
      "epoch 0: step  80: loss=0.456\n",
      "epoch 0: step 100: loss=0.418\n",
      "epoch 0: step 120: loss=0.424\n",
      "epoch 0: step 140: loss=0.283\n",
      "epoch 0: step 160: loss=0.260\n",
      "epoch 0: step 180: loss=0.327\n",
      "epoch 0: step 200: loss=0.226\n",
      "epoch 0: step 220: loss=0.162\n",
      "epoch 0: step 240: loss=0.158\n",
      "epoch 0: step 260: loss=0.113\n",
      "epoch 0: step 280: loss=0.121\n",
      "epoch 0: step 300: loss=0.081\n",
      "epoch 0: step 320: loss=0.072\n",
      "epoch 0: step 340: loss=0.145\n",
      "epoch 0: step 360: loss=0.077\n",
      "epoch 0: step 380: loss=0.086\n",
      "epoch 1: step   0: loss=0.080\n",
      "epoch 1: step  20: loss=0.103\n",
      "epoch 1: step  40: loss=0.090\n",
      "epoch 1: step  60: loss=0.085\n",
      "epoch 1: step  80: loss=0.066\n",
      "epoch 1: step 100: loss=0.048\n",
      "epoch 1: step 120: loss=0.070\n",
      "epoch 1: step 140: loss=0.050\n",
      "epoch 1: step 160: loss=0.086\n",
      "epoch 1: step 180: loss=0.053\n",
      "epoch 1: step 200: loss=0.062\n",
      "epoch 1: step 220: loss=0.049\n",
      "epoch 1: step 240: loss=0.050\n",
      "epoch 1: step 260: loss=0.047\n",
      "epoch 1: step 280: loss=0.095\n",
      "epoch 1: step 300: loss=0.076\n",
      "epoch 1: step 320: loss=0.102\n",
      "epoch 1: step 340: loss=0.063\n",
      "epoch 1: step 360: loss=0.043\n",
      "epoch 1: step 380: loss=0.030\n",
      "epoch 2: step   0: loss=0.046\n",
      "epoch 2: step  20: loss=0.036\n",
      "epoch 2: step  40: loss=0.201\n",
      "epoch 2: step  60: loss=0.096\n",
      "epoch 2: step  80: loss=0.152\n",
      "epoch 2: step 100: loss=0.136\n",
      "epoch 2: step 120: loss=0.036\n",
      "epoch 2: step 140: loss=0.081\n",
      "epoch 2: step 160: loss=0.057\n",
      "epoch 2: step 180: loss=0.032\n",
      "epoch 2: step 200: loss=0.045\n",
      "epoch 2: step 220: loss=0.134\n",
      "epoch 2: step 240: loss=0.035\n",
      "epoch 2: step 260: loss=0.082\n",
      "epoch 2: step 280: loss=0.026\n",
      "epoch 2: step 300: loss=0.027\n",
      "epoch 2: step 320: loss=0.065\n",
      "epoch 2: step 340: loss=0.037\n",
      "epoch 2: step 360: loss=0.028\n",
      "epoch 2: step 380: loss=0.069\n",
      "epoch 3: step   0: loss=0.047\n",
      "epoch 3: step  20: loss=0.039\n",
      "epoch 3: step  40: loss=0.035\n",
      "epoch 3: step  60: loss=0.037\n",
      "epoch 3: step  80: loss=0.078\n",
      "epoch 3: step 100: loss=0.025\n",
      "epoch 3: step 120: loss=0.049\n",
      "epoch 3: step 140: loss=0.071\n",
      "epoch 3: step 160: loss=0.075\n",
      "epoch 3: step 180: loss=0.044\n",
      "epoch 3: step 200: loss=0.037\n",
      "epoch 3: step 220: loss=0.061\n",
      "epoch 3: step 240: loss=0.058\n",
      "epoch 3: step 260: loss=0.184\n",
      "epoch 3: step 280: loss=0.034\n",
      "epoch 3: step 300: loss=0.026\n",
      "epoch 3: step 320: loss=0.030\n",
      "epoch 3: step 340: loss=0.062\n",
      "epoch 3: step 360: loss=0.029\n",
      "epoch 3: step 380: loss=0.018\n"
     ]
    }
   ],
   "source": [
    "# define optimizer\n",
    "optim = torch.optim.Adam(model.parameters(), lr=0.001)\n",
    "\n",
    "# training settings\n",
    "epochs = 4\n",
    "steps_per_epoch = 400\n",
    "losses = []\n",
    "\n",
    "# training loop\n",
    "for epoch in range(epochs):\n",
    "    for step in range(steps_per_epoch):\n",
    "        \n",
    "        if step%8 == 0:\n",
    "            # Get a new minicube batch\n",
    "            minicube_batch = split_cube(train_iter.next())\n",
    "        \n",
    "        loss = get_minicube_batch_loss(minicube_batch, step, device=device)\n",
    "        losses.append(loss)\n",
    "        \n",
    "        if step%20 == 0:\n",
    "            print(f'epoch {epoch}: step {step:3d}: loss={loss:3.3f}')\n",
    "            path = f'../Weights/weights_epoch{epoch}_step{step}_loss{loss:3.3f}.h5'\n",
    "            torch.save(model.state_dict(), path)\n",
    "        \n",
    "        # backprop loss\n",
    "        optim.zero_grad()\n",
    "        loss.backward()\n",
    "        optim.step()"
   ]
  },
  {
   "cell_type": "code",
   "execution_count": 80,
   "id": "7cebb103",
   "metadata": {},
   "outputs": [
    {
     "data": {
      "text/plain": [
       "[<matplotlib.lines.Line2D at 0x7ff760166430>]"
      ]
     },
     "execution_count": 80,
     "metadata": {},
     "output_type": "execute_result"
    },
    {
     "data": {
      "image/png": "[encoded data removed]",
      "text/plain": [
       "<Figure size 432x288 with 1 Axes>"
      ]
     },
     "metadata": {
      "needs_background": "light"
     },
     "output_type": "display_data"
    }
   ],
   "source": [
    "losses_array = [l.detach().cpu().numpy() for l in losses]\n",
    "np.savetxt('losses.csv', losses_array, delimiter=',', fmt='%f')\n",
    "plt.plot(losses_array)\n",
    "savefig('losses.png', bbox_inches='tight')"
   ]
  },
  {
   "cell_type": "code",
   "execution_count": 81,
   "id": "bff26c89",
   "metadata": {},
   "outputs": [
    {
     "data": {
      "text/plain": [
       "SmallBTSegNet(\n",
       "  (maxpool): MaxPool3d(kernel_size=2, stride=2, padding=0, dilation=1, ceil_mode=False)\n",
       "  (down1): Sequential(\n",
       "    (0): Conv3d(4, 8, kernel_size=(3, 3, 3), stride=(1, 1, 1), padding=(1, 1, 1))\n",
       "    (1): ReLU()\n",
       "    (2): BatchNorm3d(8, eps=1e-05, momentum=0.1, affine=True, track_running_stats=True)\n",
       "    (3): Conv3d(8, 8, kernel_size=(3, 3, 3), stride=(1, 1, 1), padding=(1, 1, 1))\n",
       "    (4): ReLU()\n",
       "    (5): BatchNorm3d(8, eps=1e-05, momentum=0.1, affine=True, track_running_stats=True)\n",
       "  )\n",
       "  (down2): Sequential(\n",
       "    (0): Conv3d(8, 8, kernel_size=(3, 3, 3), stride=(1, 1, 1), padding=(1, 1, 1))\n",
       "    (1): ReLU()\n",
       "    (2): BatchNorm3d(8, eps=1e-05, momentum=0.1, affine=True, track_running_stats=True)\n",
       "    (3): Conv3d(8, 8, kernel_size=(3, 3, 3), stride=(1, 1, 1), padding=(1, 1, 1))\n",
       "    (4): ReLU()\n",
       "    (5): BatchNorm3d(8, eps=1e-05, momentum=0.1, affine=True, track_running_stats=True)\n",
       "  )\n",
       "  (down3): Sequential(\n",
       "    (0): Conv3d(8, 16, kernel_size=(3, 3, 3), stride=(1, 1, 1), padding=(1, 1, 1))\n",
       "    (1): ReLU()\n",
       "    (2): BatchNorm3d(16, eps=1e-05, momentum=0.1, affine=True, track_running_stats=True)\n",
       "    (3): Conv3d(16, 16, kernel_size=(3, 3, 3), stride=(1, 1, 1), padding=(1, 1, 1))\n",
       "    (4): ReLU()\n",
       "    (5): BatchNorm3d(16, eps=1e-05, momentum=0.1, affine=True, track_running_stats=True)\n",
       "  )\n",
       "  (same_conv): Sequential(\n",
       "    (0): Conv3d(16, 16, kernel_size=(3, 3, 3), stride=(1, 1, 1), padding=(1, 1, 1))\n",
       "    (1): ReLU()\n",
       "    (2): BatchNorm3d(16, eps=1e-05, momentum=0.1, affine=True, track_running_stats=True)\n",
       "  )\n",
       "  (upconv1): ConvTranspose3d(16, 16, kernel_size=(3, 3, 3), stride=(2, 2, 2), padding=(1, 1, 1), output_padding=(1, 1, 1))\n",
       "  (up1): Sequential(\n",
       "    (0): Conv3d(32, 16, kernel_size=(3, 3, 3), stride=(1, 1, 1))\n",
       "    (1): ReLU()\n",
       "    (2): BatchNorm3d(16, eps=1e-05, momentum=0.1, affine=True, track_running_stats=True)\n",
       "    (3): Conv3d(16, 16, kernel_size=(3, 3, 3), stride=(1, 1, 1))\n",
       "    (4): ReLU()\n",
       "    (5): BatchNorm3d(16, eps=1e-05, momentum=0.1, affine=True, track_running_stats=True)\n",
       "  )\n",
       "  (upconv2): ConvTranspose3d(16, 8, kernel_size=(10, 10, 10), stride=(2, 2, 2))\n",
       "  (up2): Sequential(\n",
       "    (0): Conv3d(16, 8, kernel_size=(3, 3, 3), stride=(1, 1, 1))\n",
       "    (1): ReLU()\n",
       "    (2): BatchNorm3d(8, eps=1e-05, momentum=0.1, affine=True, track_running_stats=True)\n",
       "    (3): Conv3d(8, 8, kernel_size=(3, 3, 3), stride=(1, 1, 1))\n",
       "    (4): ReLU()\n",
       "    (5): BatchNorm3d(8, eps=1e-05, momentum=0.1, affine=True, track_running_stats=True)\n",
       "  )\n",
       "  (upconv3): ConvTranspose3d(8, 4, kernel_size=(9, 9, 9), stride=(2, 2, 2), output_padding=(1, 1, 1))\n",
       "  (up3): Sequential(\n",
       "    (0): Conv3d(12, 6, kernel_size=(3, 3, 3), stride=(1, 1, 1), padding=(1, 1, 1))\n",
       "    (1): ReLU()\n",
       "    (2): BatchNorm3d(6, eps=1e-05, momentum=0.1, affine=True, track_running_stats=True)\n",
       "    (3): Conv3d(6, 4, kernel_size=(3, 3, 3), stride=(1, 1, 1), padding=(1, 1, 1))\n",
       "    (4): ReLU()\n",
       "    (5): BatchNorm3d(4, eps=1e-05, momentum=0.1, affine=True, track_running_stats=True)\n",
       "  )\n",
       "  (out_conv): Sequential(\n",
       "    (0): Conv3d(4, 4, kernel_size=(3, 3, 3), stride=(1, 1, 1), padding=(1, 1, 1))\n",
       "    (1): ReLU()\n",
       "  )\n",
       ")"
      ]
     },
     "execution_count": 81,
     "metadata": {},
     "output_type": "execute_result"
    }
   ],
   "source": [
    "# load weights\n",
    "weights_filename = 'weights_epoch3_step300_loss0.026.h5'\n",
    "inference_model = SmallBTSegNet(num_modalities=4, num_classes=4, img_height=96, img_width=96).to(device)\n",
    "inference_model.load_state_dict(torch.load('../Weights/' + weights_filename))\n",
    "inference_model.eval()"
   ]
  },
  {
   "cell_type": "markdown",
   "id": "4169b86a",
   "metadata": {},
   "source": [
    "Predict"
   ]
  },
  {
   "cell_type": "code",
   "execution_count": 109,
   "id": "1a89bf9b",
   "metadata": {},
   "outputs": [
    {
     "name": "stdout",
     "output_type": "stream",
     "text": [
      "loss: 0.175\n",
      "torch.Size([1, 4, 80, 96, 96])\n"
     ]
    }
   ],
   "source": [
    "# predict batch\n",
    "voxel_logits_batch = inference_model.forward(minicube_batch['image'][None,4,:,:,:,:])\n",
    "\n",
    "# get loss\n",
    "loss = criterion(voxel_logits_batch, minicube_batch['label'][None,4,:,:,:].long().to(device))\n",
    "print(f'loss: {loss.item():3.3f}')\n",
    "\n",
    "sm = nn.Softmax(dim=1)\n",
    "voxel_probs_batch = sm(voxel_logits_batch)\n",
    "print(voxel_probs_batch.shape)\n",
    "\n",
    "probs, out = torch.max(voxel_probs_batch, dim=1)"
   ]
  },
  {
   "cell_type": "code",
   "execution_count": 99,
   "id": "16d64fb1",
   "metadata": {},
   "outputs": [
    {
     "name": "stdout",
     "output_type": "stream",
     "text": [
      "prediction:\n"
     ]
    },
    {
     "data": {
      "text/plain": [
       "<matplotlib.image.AxesImage at 0x7ff75fb76e50>"
      ]
     },
     "execution_count": 99,
     "metadata": {},
     "output_type": "execute_result"
    },
    {
     "data": {
      "image/png": "[encoded data removed]",
      "text/plain": [
       "<Figure size 432x288 with 1 Axes>"
      ]
     },
     "metadata": {
      "needs_background": "light"
     },
     "output_type": "display_data"
    }
   ],
   "source": [
    "print('prediction:')\n",
    "plt.imshow(out[0, 5, :,:].cpu())\n",
    "savefig('prediction1.png', bbox_inches='tight')"
   ]
  },
  {
   "cell_type": "code",
   "execution_count": 100,
   "id": "7bac150f",
   "metadata": {},
   "outputs": [
    {
     "name": "stdout",
     "output_type": "stream",
     "text": [
      "label:\n"
     ]
    },
    {
     "data": {
      "text/plain": [
       "<matplotlib.image.AxesImage at 0x7ff75fae1400>"
      ]
     },
     "execution_count": 100,
     "metadata": {},
     "output_type": "execute_result"
    },
    {
     "data": {
      "image/png": "[encoded data removed]",
      "text/plain": [
       "<Figure size 432x288 with 1 Axes>"
      ]
     },
     "metadata": {
      "needs_background": "light"
     },
     "output_type": "display_data"
    }
   ],
   "source": [
    "print('label:')\n",
    "plt.imshow(minicube_batch['label'][4, 5, :, :].cpu())\n",
    "savefig('prediction2.png', bbox_inches='tight')"
   ]
  }
 ],
 "metadata": {
  "kernelspec": {
   "display_name": "Python 3 (ipykernel)",
   "language": "python",
   "name": "python3"
  },
  "language_info": {
   "codemirror_mode": {
    "name": "ipython",
    "version": 3
   },
   "file_extension": ".py",
   "mimetype": "text/x-python",
   "name": "python",
   "nbconvert_exporter": "python",
   "pygments_lexer": "ipython3",
   "version": "3.9.12"
  }
 },
 "nbformat": 4,
 "nbformat_minor": 5
}
