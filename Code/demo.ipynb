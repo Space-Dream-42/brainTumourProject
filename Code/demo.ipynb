{
 "cells": [
  {
   "cell_type": "markdown",
   "id": "276bae4e",
   "metadata": {
    "pycharm": {
     "name": "#%% md\n"
    }
   },
   "source": [
    "BraTS Challenge Demo-Notebook"
   ]
  },
  {
   "cell_type": "code",
   "execution_count": null,
   "outputs": [],
   "source": [
    "import torch\n",
    "import torch.nn as nn\n",
    "import numpy as np\n",
    "import matplotlib.pyplot as plt\n",
    "%matplotlib inline\n",
    "import os\n",
    "os.environ[\"KMP_DUPLICATE_LIB_OK\"]=\"TRUE\"\n",
    "from data_loading import BraTS_Dataset\n",
    "from dataset_utils import split_cube, slice_cube, segment_entire_3d_cube\n",
    "from dataset_utils import plot_batch, plot_minicube_pred_label, plot_cube_pred_label, plot_loss, animate_cube\n",
    "from data_loading import get_train_test_iters\n",
    "torch.manual_seed(42)\n",
    "from Architectures.unet_3d import UNet3D\n",
    "from Architectures.unet_3d_context import UNet3D_Mini\n",
    "from Architectures.unet_2d import UNet2D\n",
    "from train import train_model\n",
    "from custom_losses import get_loss, DiceLoss, FocalTverskyLoss"
   ],
   "metadata": {
    "collapsed": false,
    "pycharm": {
     "name": "#%%\n"
    }
   }
  },
  {
   "cell_type": "markdown",
   "source": [
    "Data Loading"
   ],
   "metadata": {
    "collapsed": false,
    "pycharm": {
     "name": "#%% md\n"
    }
   }
  },
  {
   "cell_type": "code",
   "execution_count": null,
   "outputs": [],
   "source": [
    "batch_size = 1\n",
    "train_iter, test_iter = get_train_test_iters(os.path.join('..', 'Task01_BrainTumour', 'cropped'), batch_size=batch_size, shuffle=True, num_workers=0)"
   ],
   "metadata": {
    "collapsed": false,
    "pycharm": {
     "name": "#%%\n"
    }
   }
  },
  {
   "cell_type": "code",
   "execution_count": null,
   "outputs": [],
   "source": [
    "batch = split_cube(train_iter.next(), add_context=False)\n",
    "batch['image'].shape"
   ],
   "metadata": {
    "collapsed": false,
    "pycharm": {
     "name": "#%%\n"
    }
   }
  },
  {
   "cell_type": "markdown",
   "source": [
    "Create the model"
   ],
   "metadata": {
    "collapsed": false,
    "pycharm": {
     "name": "#%% md\n"
    }
   }
  },
  {
   "cell_type": "code",
   "execution_count": null,
   "outputs": [],
   "source": [
    "device = torch.device('cuda' if torch.cuda.is_available() else 'cpu')\n",
    "print(device)\n",
    "if torch.cuda.is_available():\n",
    "    print(torch.cuda.get_device_name(0))"
   ],
   "metadata": {
    "collapsed": false,
    "pycharm": {
     "name": "#%%\n"
    }
   }
  },
  {
   "cell_type": "markdown",
   "source": [
    "Training Loop"
   ],
   "metadata": {
    "collapsed": false,
    "pycharm": {
     "name": "#%% md\n"
    }
   }
  },
  {
   "cell_type": "code",
   "execution_count": null,
   "outputs": [],
   "source": [
    "# hyperparameters\n",
    "train_3d = True\n",
    "add_context = False\n",
    "compute_test_loss = True\n",
    "epochs = 2\n",
    "batches_per_epoch = 1\n",
    "learning_rate = 0.1\n",
    "\n",
    "# init model\n",
    "if train_3d:\n",
    "    if add_context:\n",
    "        model = UNet3D_Mini(num_modalities=4, num_classes=4).to(device)\n",
    "    else:\n",
    "        model = UNet3D(num_modalities=4, num_classes=4).to(device)\n",
    "else:\n",
    "    model = UNet2D().to(device)\n",
    "\n",
    "# init optimizer and loss_fn\n",
    "optim = torch.optim.Adam(model.parameters(), lr=learning_rate)\n",
    "loss_fn = DiceLoss()\n",
    "\n",
    "print(f'training {model.__class__.__name__}:')\n",
    "train_losses, test_losses = train_model(model, optim, loss_fn, epochs, device, train_3d, add_context,\n",
    "                                        train_iter, test_iter, compute_test_loss, batches_per_epoch)"
   ],
   "metadata": {
    "collapsed": false,
    "pycharm": {
     "name": "#%%\n"
    }
   }
  },
  {
   "cell_type": "markdown",
   "source": [
    "Plot losses"
   ],
   "metadata": {
    "collapsed": false,
    "pycharm": {
     "name": "#%% md\n"
    }
   }
  },
  {
   "cell_type": "code",
   "execution_count": null,
   "outputs": [],
   "source": [
    "print(f'Loss curve using {loss_fn}:')\n",
    "plot_loss(train_losses, test_losses)"
   ],
   "metadata": {
    "collapsed": false,
    "pycharm": {
     "name": "#%%\n"
    }
   }
  },
  {
   "cell_type": "markdown",
   "source": [
    "Load inference model"
   ],
   "metadata": {
    "collapsed": false,
    "pycharm": {
     "name": "#%% md\n"
    }
   }
  },
  {
   "cell_type": "code",
   "execution_count": null,
   "outputs": [],
   "source": [
    "weights_path = os.path.join('..','Weights')\n",
    "weights_filename = os.listdir(weights_path)[len(os.listdir(weights_path))-1]\n",
    "if train_3d:\n",
    "    if add_context:\n",
    "        inference_model = UNet3D_Mini(num_modalities=4, num_classes=4).to(device)\n",
    "    else:\n",
    "        inference_model = UNet3D(num_modalities=4, num_classes=4).to(device)\n",
    "else:\n",
    "    inference_model = UNet2D().to(device)\n",
    "#inference_model.load_state_dict(torch.load(os.path.join(weights_path, weights_filename)))\n",
    "inference_model.eval();"
   ],
   "metadata": {
    "collapsed": false,
    "pycharm": {
     "name": "#%%\n"
    }
   }
  },
  {
   "cell_type": "markdown",
   "source": [
    "Predict"
   ],
   "metadata": {
    "collapsed": false,
    "pycharm": {
     "name": "#%% md\n"
    }
   }
  },
  {
   "cell_type": "code",
   "execution_count": null,
   "outputs": [],
   "source": [
    "batch = train_iter.next()\n",
    "%matplotlib notebook\n",
    "\n",
    "ani = animate_cube(inference_model, batch, add_context, device, train_3d)\n",
    "plt.show()"
   ],
   "metadata": {
    "collapsed": false,
    "pycharm": {
     "name": "#%%\n"
    }
   }
  },
  {
   "cell_type": "code",
   "execution_count": null,
   "id": "60c3be1c",
   "metadata": {
    "pycharm": {
     "name": "#%%\n"
    }
   },
   "outputs": [],
   "source": []
  }
 ],
 "metadata": {
  "kernelspec": {
   "display_name": "Python 3 (ipykernel)",
   "language": "python",
   "name": "python3"
  },
  "language_info": {
   "codemirror_mode": {
    "name": "ipython",
    "version": 3
   },
   "file_extension": ".py",
   "mimetype": "text/x-python",
   "name": "python",
   "nbconvert_exporter": "python",
   "pygments_lexer": "ipython3",
   "version": "3.9.12"
  },
  "vscode": {
   "interpreter": {
    "hash": "f9f85f796d01129d0dd105a088854619f454435301f6ffec2fea96ecbd9be4ac"
   }
  }
 },
 "nbformat": 4,
 "nbformat_minor": 5
}