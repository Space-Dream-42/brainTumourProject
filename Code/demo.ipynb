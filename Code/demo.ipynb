{
 "cells": [
  {
   "cell_type": "markdown",
   "id": "276bae4e",
   "metadata": {
    "pycharm": {
     "name": "#%% md\n"
    }
   },
   "source": [
    "Simple Segmentation Net"
   ]
  },
  {
   "cell_type": "code",
   "execution_count": 1,
   "id": "d88614b3",
   "metadata": {
    "pycharm": {
     "name": "#%%\n"
    }
   },
   "outputs": [],
   "source": [
    "import torch\n",
    "import os\n",
    "import torch.nn as nn\n",
    "import matplotlib.pyplot as plt \n",
    "%matplotlib inline\n",
    "os.environ[\"KMP_DUPLICATE_LIB_OK\"]=\"TRUE\"\n",
    "from data_loading import BraTS_Dataset\n",
    "from dataset_utils import plot_batch, crop_batch, decrop_batch, split_cube, slice_cube\n",
    "from data_loading import get_train_test_iters\n",
    "torch.manual_seed(42)\n",
    "from Architectures.unet_3d import UNet3D\n",
    "from Architectures.unet_2d import UNet2D\n",
    "from train import train_model\n",
    "from custom_losses import get_loss, DiceLoss"
   ]
  },
  {
   "cell_type": "markdown",
   "id": "aa390054",
   "metadata": {
    "pycharm": {
     "name": "#%% md\n"
    }
   },
   "source": [
    "Data Loading"
   ]
  },
  {
   "cell_type": "code",
   "execution_count": 2,
   "outputs": [
    {
     "name": "stdout",
     "output_type": "stream",
     "text": [
      "../Task01_BrainTumour/cropped\\imagesTr\n",
      "../Task01_BrainTumour/cropped\\labelsTr\n",
      "../Task01_BrainTumour/cropped\\imagesTs\n",
      "../Task01_BrainTumour/cropped\\labelsTs\n"
     ]
    }
   ],
   "source": [
    "train_iter, test_iter = get_train_test_iters('../Task01_BrainTumour/cropped', batch_size=1, shuffle=True, num_workers=0)"
   ],
   "metadata": {
    "collapsed": false,
    "pycharm": {
     "name": "#%%\n"
    }
   }
  },
  {
   "cell_type": "markdown",
   "id": "6794d3e7",
   "metadata": {
    "pycharm": {
     "name": "#%% md\n"
    }
   },
   "source": [
    "Create the model"
   ]
  },
  {
   "cell_type": "code",
   "execution_count": 3,
   "id": "b3b87e8f",
   "metadata": {
    "pycharm": {
     "name": "#%%\n"
    }
   },
   "outputs": [
    {
     "name": "stdout",
     "output_type": "stream",
     "text": [
      "cuda\n",
      "NVIDIA GeForce RTX 3060 Laptop GPU\n"
     ]
    }
   ],
   "source": [
    "device = torch.device('cuda' if torch.cuda.is_available() else 'cpu')\n",
    "print(device)\n",
    "if torch.cuda.is_available():\n",
    "    print(torch.cuda.get_device_name(0))"
   ]
  },
  {
   "cell_type": "code",
   "execution_count": 6,
   "outputs": [],
   "source": [
    "train_3d = True\n",
    "\n",
    "optim = torch.optim.Adam(model.parameters(), lr=0.001)\n",
    "loss = DiceLoss()\n",
    "\n",
    "if train_3d:\n",
    "    model = UNet3D(num_modalities=4, num_classes=4, img_height=96, img_width=96).to(device)\n",
    "    has_minicubes = True\n",
    "else:\n",
    "    model = UNet2D().to(device)\n",
    "    has_minicubes = False\n",
    "\n",
    "losses = train_model(model, optim, loss, 2, device, has_minicubes, train_iter, steps_per_epoch = 400)"
   ],
   "metadata": {
    "collapsed": false,
    "pycharm": {
     "name": "#%%\n"
    }
   }
  },
  {
   "cell_type": "markdown",
   "id": "c29e8e8d",
   "metadata": {
    "pycharm": {
     "name": "#%% md\n"
    }
   },
   "source": [
    "Test & debug model"
   ]
  },
  {
   "cell_type": "code",
   "execution_count": null,
   "id": "033a922f",
   "metadata": {
    "pycharm": {
     "name": "#%%\n"
    }
   },
   "outputs": [],
   "source": [
    "# Sample a minicube batch\n",
    "minicube_batch = split_cube(train_iter.next()) # 8 minicubes per image"
   ]
  },
  {
   "cell_type": "code",
   "execution_count": null,
   "id": "91b630e3",
   "metadata": {
    "pycharm": {
     "name": "#%%\n"
    }
   },
   "outputs": [],
   "source": [
    "voxel_logits_batch = model.forward(minicube_batch['image'][:1,:,:,:,:])"
   ]
  },
  {
   "cell_type": "markdown",
   "id": "4762bd25",
   "metadata": {
    "pycharm": {
     "name": "#%% md\n"
    }
   },
   "source": [
    "Training loop utils"
   ]
  },
  {
   "cell_type": "markdown",
   "id": "ca806af8",
   "metadata": {
    "pycharm": {
     "name": "#%% md\n"
    }
   },
   "source": [
    "Training Loop"
   ]
  },
  {
   "cell_type": "code",
   "execution_count": null,
   "id": "7cebb103",
   "metadata": {
    "pycharm": {
     "name": "#%%\n"
    }
   },
   "outputs": [],
   "source": [
    "losses_array = [l.detach().cpu().numpy() for l in losses]\n",
    "plt.plot(losses_array)"
   ]
  },
  {
   "cell_type": "code",
   "execution_count": null,
   "id": "bff26c89",
   "metadata": {
    "pycharm": {
     "name": "#%%\n"
    }
   },
   "outputs": [],
   "source": [
    "# load weights\n",
    "weights_filename = 'weights_epoch3_step300_loss0.026.h5'\n",
    "inference_model = SmallBTSegNet(num_modalities=4, num_classes=4, img_height=96, img_width=96).to(device)\n",
    "inference_model.load_state_dict(torch.load('../Weights/' + weights_filename))\n",
    "_ = inference_model.eval()"
   ]
  },
  {
   "cell_type": "markdown",
   "id": "4169b86a",
   "metadata": {
    "pycharm": {
     "name": "#%% md\n"
    }
   },
   "source": [
    "Predict"
   ]
  },
  {
   "cell_type": "code",
   "execution_count": null,
   "id": "1a89bf9b",
   "metadata": {
    "pycharm": {
     "name": "#%%\n"
    }
   },
   "outputs": [],
   "source": [
    "# predict batch\n",
    "voxel_logits_batch = inference_model.forward(minicube_batch['image'][None,4,:,:,:,:])\n",
    "\n",
    "# get loss\n",
    "loss = criterion(voxel_logits_batch, minicube_batch['label'][None,4,:,:,:].long().to(device))\n",
    "print(f'loss: {loss.item():3.3f}')\n",
    "\n",
    "sm = nn.Softmax(dim=1)\n",
    "voxel_probs_batch = sm(voxel_logits_batch)\n",
    "print(voxel_probs_batch.shape)\n",
    "\n",
    "probs, out = torch.max(voxel_probs_batch, dim=1)"
   ]
  },
  {
   "cell_type": "code",
   "execution_count": null,
   "id": "16d64fb1",
   "metadata": {
    "pycharm": {
     "name": "#%%\n"
    }
   },
   "outputs": [],
   "source": [
    "print('prediction:')\n",
    "plt.imshow(out[0, 5, :,:].cpu())"
   ]
  },
  {
   "cell_type": "code",
   "execution_count": null,
   "id": "7bac150f",
   "metadata": {
    "pycharm": {
     "name": "#%%\n"
    }
   },
   "outputs": [],
   "source": [
    "print('label:')\n",
    "plt.imshow(minicube_batch['label'][4, 5, :, :].cpu())"
   ]
  }
 ],
 "metadata": {
  "kernelspec": {
   "display_name": "Python 3 (ipykernel)",
   "language": "python",
   "name": "python3"
  },
  "language_info": {
   "codemirror_mode": {
    "name": "ipython",
    "version": 3
   },
   "file_extension": ".py",
   "mimetype": "text/x-python",
   "name": "python",
   "nbconvert_exporter": "python",
   "pygments_lexer": "ipython3",
   "version": "3.8.10"
  }
 },
 "nbformat": 4,
 "nbformat_minor": 5
}