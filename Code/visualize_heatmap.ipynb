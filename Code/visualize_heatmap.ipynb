{
 "cells": [
  {
   "cell_type": "code",
   "execution_count": 3,
   "id": "452d286f",
   "metadata": {},
   "outputs": [],
   "source": [
    "import SimpleITK as sitk\n",
    "import numpy as np\n",
    "import matplotlib.pyplot as plt\n",
    "from skimage.transform import resize\n",
    "from operator import itemgetter\n",
    "import torchvision.transforms"
   ]
  },
  {
   "cell_type": "code",
   "execution_count": 6,
   "id": "7b174f59",
   "metadata": {},
   "outputs": [],
   "source": [
    "image_directory = '../Task01_BrainTumour/extracted/imagesTr/%i.npy'\n",
    "label_directory = '../Task01_BrainTumour/extracted/labelsTr/%i.npy'\n",
    "def get_image_and_target(i):\n",
    "    return np.load(image_directory % i), np.load(label_directory % i)"
   ]
  },
  {
   "cell_type": "code",
   "execution_count": 9,
   "id": "d581d159",
   "metadata": {},
   "outputs": [],
   "source": [
    "patients = []\n",
    "for i in range(100):\n",
    "    patients.append(get_image_and_target(i))\n"
   ]
  },
  {
   "cell_type": "code",
   "execution_count": 10,
   "id": "8bb6e924",
   "metadata": {},
   "outputs": [
    {
     "name": "stdout",
     "output_type": "stream",
     "text": [
      "(4, 155, 240, 240)\n"
     ]
    }
   ],
   "source": [
    "print(patients[5][0].shape)"
   ]
  },
  {
   "cell_type": "code",
   "execution_count": 12,
   "id": "ddf3e547",
   "metadata": {},
   "outputs": [],
   "source": [
    "heatmap_image = np.zeros((240, 240))\n",
    "for i in range(100):\n",
    "    for j in range(4):\n",
    "        for k in range(155):\n",
    "            heatmap_image = heatmap_image + patients[i][0][j][k]"
   ]
  },
  {
   "cell_type": "code",
   "execution_count": 13,
   "id": "fbd671f9",
   "metadata": {},
   "outputs": [
    {
     "data": {
      "text/plain": [
       "<matplotlib.image.AxesImage at 0x1b6f6928340>"
      ]
     },
     "execution_count": 13,
     "metadata": {},
     "output_type": "execute_result"
    },
    {
     "data": {
      "image/png": "[encoded data removed]",
      "text/plain": [
       "<Figure size 432x288 with 1 Axes>"
      ]
     },
     "metadata": {
      "needs_background": "light"
     },
     "output_type": "display_data"
    }
   ],
   "source": [
    "plt.imshow(heatmap_image, cmap=\"gray\", origin=\"lower\")"
   ]
  },
  {
   "cell_type": "code",
   "execution_count": 5,
   "id": "dd935cf7",
   "metadata": {},
   "outputs": [],
   "source": [
    "def resize_sample(x, size=256):\n",
    "    volume, mask = x\n",
    "    v_shape = volume.shape\n",
    "    m_shape = mask.shape\n",
    "    out_shape = (m_shape[0], size, size)\n",
    "    mask = resize(\n",
    "        mask,\n",
    "        output_shape=out_shape,\n",
    "        order=0,\n",
    "        mode=\"constant\",\n",
    "        cval=0,\n",
    "        anti_aliasing=False,\n",
    "    )\n",
    "    out_shape = (v_shape[0], v_shape[1], size, size)\n",
    "    volume = resize(\n",
    "        volume,\n",
    "        output_shape=out_shape,\n",
    "        order=2,\n",
    "        mode=\"constant\",\n",
    "        cval=0,\n",
    "        anti_aliasing=False,\n",
    "    )\n",
    "    return volume, mask"
   ]
  },
  {
   "cell_type": "code",
   "execution_count": 46,
   "id": "1f68a57b",
   "metadata": {},
   "outputs": [
    {
     "name": "stdout",
     "output_type": "stream",
     "text": [
      "(155, 240, 240)\n"
     ]
    }
   ],
   "source": [
    "print(patients[1][1].shape)"
   ]
  },
  {
   "cell_type": "code",
   "execution_count": null,
   "id": "cdf05f66",
   "metadata": {},
   "outputs": [],
   "source": [
    "# and access the numpy array:\n",
    "t1 = sitk.GetArrayFromImage(sitk_t1)\n",
    "t1.shape"
   ]
  },
  {
   "cell_type": "code",
   "execution_count": null,
   "id": "cda83128",
   "metadata": {},
   "outputs": [],
   "source": [
    "x_slice = t1[2, 70, :, :]\n",
    "print(x_slice.shape)\n",
    "\n",
    "plt.imshow(x_slice, cmap=\"gray\", origin=\"lower\")"
   ]
  },
  {
   "cell_type": "code",
   "execution_count": null,
   "id": "50c05739",
   "metadata": {},
   "outputs": [],
   "source": []
  }
 ],
 "metadata": {
  "kernelspec": {
   "display_name": "Python 3 (ipykernel)",
   "language": "python",
   "name": "python3"
  },
  "language_info": {
   "codemirror_mode": {
    "name": "ipython",
    "version": 3
   },
   "file_extension": ".py",
   "mimetype": "text/x-python",
   "name": "python",
   "nbconvert_exporter": "python",
   "pygments_lexer": "ipython3",
   "version": "3.8.13"
  }
 },
 "nbformat": 4,
 "nbformat_minor": 5
}
