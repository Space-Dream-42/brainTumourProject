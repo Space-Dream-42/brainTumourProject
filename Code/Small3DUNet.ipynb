{
 "cells": [
  {
   "cell_type": "markdown",
   "id": "276bae4e",
   "metadata": {},
   "source": [
    "Simple Segmentation Net"
   ]
  },
  {
   "cell_type": "code",
   "execution_count": 1,
   "id": "cefd59b3",
   "metadata": {},
   "outputs": [],
   "source": [
    "# overview\n",
    "Scans = {\n",
    "    0: 'FLAIR',\n",
    "    1: 'T1w',\n",
    "    2: 't1gd',\n",
    "    3: 'T2w'}\n",
    "\n",
    "Labels = {\n",
    "    0: 'background',\n",
    "    1: 'edema',\n",
    "    2: 'non-enhancing tumor',\n",
    "    3: 'enhancing tumour'}"
   ]
  },
  {
   "cell_type": "code",
   "execution_count": 2,
   "id": "8446e26c",
   "metadata": {},
   "outputs": [
    {
     "data": {
      "text/plain": [
       "<torch._C.Generator at 0x7f4ee6121af0>"
      ]
     },
     "execution_count": 2,
     "metadata": {},
     "output_type": "execute_result"
    }
   ],
   "source": [
    "import torch\n",
    "import torchvision as tv\n",
    "import torchvision.transforms as transforms\n",
    "from torchvision.datasets.vision import StandardTransform\n",
    "from torch.utils.data import DataLoader\n",
    "from torchvision.utils import make_grid\n",
    "\n",
    "import torch.nn as nn\n",
    "import torch.optim as optim\n",
    "import torch.nn.functional as F\n",
    "\n",
    "import numpy as np\n",
    "import pandas as pd \n",
    "from PIL import Image\n",
    "import matplotlib.pyplot as plt \n",
    "%matplotlib inline \n",
    "import json\n",
    "import os\n",
    "\n",
    "import SimpleITK as sitk\n",
    "\n",
    "from Dataset_Utils import BraTS_TrainingDataset\n",
    "from Dataset_Utils import plot_batch, crop_batch, decrop_batch, split_cube\n",
    "\n",
    "torch.manual_seed(42)"
   ]
  },
  {
   "cell_type": "markdown",
   "id": "aa390054",
   "metadata": {},
   "source": [
    "Data Loading"
   ]
  },
  {
   "cell_type": "code",
   "execution_count": 3,
   "id": "6f7a3cdd",
   "metadata": {},
   "outputs": [
    {
     "name": "stdout",
     "output_type": "stream",
     "text": [
      "/media/z/Ubuntu-Storage/BT_Segmentation_Project/Task01_BrainTumour/cropped/imagesTr\n",
      "/media/z/Ubuntu-Storage/BT_Segmentation_Project/Task01_BrainTumour/cropped/labelsTr\n",
      "torch.Size([1, 4, 155, 192, 192])\n",
      "torch.Size([1, 155, 192, 192])\n"
     ]
    }
   ],
   "source": [
    "# PATH\n",
    "dataset_path = '/media/z/Ubuntu-Storage/BT_Segmentation_Project/Task01_BrainTumour/cropped/'\n",
    "\n",
    "train_data = BraTS_TrainingDataset(dataset_path)\n",
    "\n",
    "trainloader = torch.utils.data.DataLoader(\n",
    "    train_data, batch_size=1, shuffle=True, num_workers=0)\n",
    "\n",
    "train_iter = iter(trainloader)\n",
    "\n",
    "sample_batch = train_iter.next()\n",
    "print(sample_batch['image'].shape)\n",
    "print(sample_batch['label'].shape)\n",
    "\n",
    "# plot_batch(sample_batch, num_rows=2, height=75)"
   ]
  },
  {
   "cell_type": "markdown",
   "id": "6794d3e7",
   "metadata": {},
   "source": [
    "Create the model"
   ]
  },
  {
   "cell_type": "code",
   "execution_count": 4,
   "id": "2803f1d0",
   "metadata": {
    "scrolled": false
   },
   "outputs": [],
   "source": [
    "# don't run this cell, it needs too much memory\n",
    "\n",
    "# class BTSegNet(nn.Module):\n",
    "#         \n",
    "#     def downward_block(self, in_channels, out_channels, kernel_size=3, stride=1, padding=1):\n",
    "#         \"\"\"\n",
    "#         The downward blocks are part of the contracting path.\n",
    "#         Utility:\n",
    "#         - decrease the depth, height and width.\n",
    "#         - increase the number of channels.\n",
    "#         The result is that features get more high level\n",
    "#         and spatial information decreases with each downward block.\n",
    "#         \"\"\"\n",
    "#         downward_block = nn.Sequential(\n",
    "#             nn.Conv3d(in_channels=in_channels, out_channels=out_channels,\n",
    "#                       kernel_size=kernel_size, stride=stride, padding=padding),\n",
    "#             nn.ReLU(),\n",
    "#             nn.BatchNorm3d(out_channels),\n",
    "#                 \n",
    "#             nn.Conv3d(in_channels=out_channels, out_channels=out_channels,\n",
    "#                       kernel_size=kernel_size, stride=stride, padding=padding),\n",
    "#             nn.ReLU(),\n",
    "#             nn.BatchNorm3d(out_channels),\n",
    "#             )\n",
    "#         return downward_block\n",
    "#     \n",
    "#     def upward_block(self, in_channels, out_channels, kernel_size=3, stride=1, padding=1):\n",
    "#         \"\"\"\n",
    "#         The upward blocks are part of the expanding path.\n",
    "#         Utility:\n",
    "#         - increase the number of depth, height and width.\n",
    "#         - decrease the number of channels.\n",
    "#         The result is a segmentation map that increases\n",
    "#         in resolution for each upward block.\n",
    "#         \"\"\"\n",
    "#         mid_channels = in_channels//2\n",
    "#         # E.g.: in_c = 512, mid_c = 256, out_c = 128\n",
    "#         \n",
    "#         upward_block = nn.Sequential(\n",
    "#             nn.Conv3d(in_channels=in_channels, out_channels=mid_channels,\n",
    "#                       kernel_size=kernel_size, stride=stride, padding=padding),\n",
    "#             nn.ReLU(),\n",
    "#             nn.BatchNorm3d(mid_channels),\n",
    "#                 \n",
    "#             nn.Conv3d(in_channels=mid_channels, out_channels=out_channels,\n",
    "#                       kernel_size=kernel_size, stride=stride, padding=padding),\n",
    "#             nn.ReLU(),\n",
    "#             nn.BatchNorm3d(out_channels))\n",
    "#         \n",
    "#         return upward_block\n",
    "#     \n",
    "#     def __init__(self, num_modalities, num_classes, img_height, img_width):\n",
    "#         \n",
    "#         self.DEBUG = False\n",
    "#         \n",
    "#         super(BTSegNet, self).__init__()\n",
    "#         self.maxpool = nn.MaxPool3d(kernel_size=2, stride=2)\n",
    "#         \n",
    "#         # downward layers\n",
    "#         self.down1 = self.downward_block(in_channels=num_modalities, out_channels=32, \n",
    "#                                       kernel_size=3, stride=1, padding=1)\n",
    "#     \n",
    "#         self.down2 = self.downward_block(in_channels=32, out_channels=32, \n",
    "#                                       kernel_size=3, stride=1, padding=1)\n",
    "#         \n",
    "#         self.down3 = self.downward_block(in_channels=32, out_channels=64, \n",
    "#                                       kernel_size=3, stride=1, padding=1)\n",
    "#         \n",
    "#         self.same_conv = nn.Sequential(\n",
    "#             nn.Conv3d(in_channels=64, out_channels=64,\n",
    "#                       kernel_size=3, stride=1, padding=1),\n",
    "#             nn.ReLU(),\n",
    "#             nn.BatchNorm3d(64),\n",
    "#         )\n",
    "#         \n",
    "#         self.upconv1 = nn.ConvTranspose3d(in_channels=64, out_channels=64,\n",
    "#                               kernel_size=3, stride=2, padding=1, output_padding=1)\n",
    "#         \n",
    "#         self.up1 = self.upward_block(in_channels=128, out_channels=64, \n",
    "#                                      kernel_size=3, stride=1, padding=0)\n",
    "#         \n",
    "#         self.upconv2 = nn.ConvTranspose3d(in_channels=64, out_channels=32,\n",
    "#                               kernel_size=10, stride=2, padding=0, output_padding=0)\n",
    "#         \n",
    "#         self.up2 = self.upward_block(in_channels=64, out_channels=32, \n",
    "#                                      kernel_size=3, stride=1, padding=0)\n",
    "#         \n",
    "#         self.upconv3 = nn.ConvTranspose3d(in_channels=32, out_channels=16,\n",
    "#                               kernel_size=9, stride=2, padding=0, output_padding=1)\n",
    "#         \n",
    "#         self.up3 = self.upward_block(in_channels=48, out_channels=8, \n",
    "#                                      kernel_size=3, stride=1, padding=1)\n",
    "#         \n",
    "#         self.out_conv = nn.Sequential(\n",
    "#             nn.Conv3d(in_channels=8, out_channels=4,\n",
    "#                       kernel_size=3, stride=1, padding=1),\n",
    "#             nn.ReLU(),\n",
    "#         )\n",
    "#         \n",
    "#     def forward(self, x):\n",
    "#         x = torch.FloatTensor(x)\n",
    "#         \n",
    "#         # downward layers\n",
    "#         x = self.down1(x)\n",
    "#         l1_out = torch.clone(x)\n",
    "#         x = self.maxpool(x)\n",
    "#         \n",
    "#         x = self.down2(x)\n",
    "#         l2_out = torch.clone(x)\n",
    "#         x = self.maxpool(x)\n",
    "#         \n",
    "#         x = self.down3(x)\n",
    "#         l3_out = torch.clone(x)\n",
    "#         x = self.maxpool(x)\n",
    "#         \n",
    "#         # bottom floor\n",
    "#         x = self.same_conv(x)\n",
    "#         x = self.same_conv(x)\n",
    "#         \n",
    "#         if self.DEBUG:\n",
    "#             print('l1_out:', l1_out.shape)\n",
    "#             print('l2_out:', l2_out.shape)\n",
    "#             print('l3_out:', l3_out.shape)\n",
    "#             print('x:', x.shape)\n",
    "#         \n",
    "#         # upward layers\n",
    "#         x = self.upconv1(x)\n",
    "#         if self.DEBUG:\n",
    "#             print('after upconv1:', x.shape)\n",
    "#         x = torch.cat((l3_out, x), dim=1) # x:[1, 64, 20, 24, 24] and l3:[1, 64, 20, 24, 24]\n",
    "#         if self.DEBUG:\n",
    "#             print('after cat:', x.shape)\n",
    "#         x = self.up1(x)\n",
    "#         if self.DEBUG:\n",
    "#             print('after up1:', x.shape)\n",
    "#         \n",
    "#         x = self.upconv2(x)\n",
    "#         if self.DEBUG:\n",
    "#             print('after upconv2:', x.shape)\n",
    "#         x = torch.cat((l2_out, x), dim=1) # x:[1, 32, 40, 48, 48] and l2: [1, 32, 40, 48, 48]\n",
    "#         if self.DEBUG:\n",
    "#             print('after cat:', x.shape)\n",
    "#         x = self.up2(x)\n",
    "#         if self.DEBUG:\n",
    "#             print('after up2:', x.shape)\n",
    "#         \n",
    "#         x = self.upconv3(x)\n",
    "#         if self.DEBUG:\n",
    "#             print('after upconv3:', x.shape)\n",
    "#         x = torch.cat((l1_out, x), dim=1) # x:[1, 32, 80, 96, 96] and l1: [1, 32, 80, 96, 96]\n",
    "#         if self.DEBUG:\n",
    "#             print('after cat:', x.shape)\n",
    "#         x = self.up3(x)\n",
    "#         if self.DEBUG:\n",
    "#             print('after up3:', x.shape)\n",
    "#         \n",
    "#         # output conv block\n",
    "#         x = self.out_conv(x)\n",
    "#         if self.DEBUG:\n",
    "#             print('after out conv:', x.shape)       \n",
    "#         return x\n",
    "#     \n",
    "# # summary\n",
    "# # print(BTSegNet(num_modalities=4, num_classes=4, img_height=96, img_width=96))\n",
    "# \n",
    "# # init model\n",
    "# model = BTSegNet(num_modalities=4, num_classes=4, img_height=96, img_width=96)"
   ]
  },
  {
   "cell_type": "code",
   "execution_count": 5,
   "id": "17561405",
   "metadata": {},
   "outputs": [],
   "source": [
    "class SmallBTSegNet(nn.Module):\n",
    "        \n",
    "    def downward_block(self, in_channels, out_channels, kernel_size=3, stride=1, padding=1):\n",
    "        \"\"\"\n",
    "        The downward blocks are part of the contracting path.\n",
    "        Utility:\n",
    "        - decrease the depth, height and width.\n",
    "        - increase the number of channels.\n",
    "        The result is that features get more high level\n",
    "        and spatial information decreases with each downward block.\n",
    "        \"\"\"\n",
    "        downward_block = nn.Sequential(\n",
    "            nn.Conv3d(in_channels=in_channels, out_channels=out_channels,\n",
    "                      kernel_size=kernel_size, stride=stride, padding=padding),\n",
    "            nn.ReLU(),\n",
    "            nn.BatchNorm3d(out_channels),\n",
    "                \n",
    "            nn.Conv3d(in_channels=out_channels, out_channels=out_channels,\n",
    "                      kernel_size=kernel_size, stride=stride, padding=padding),\n",
    "            nn.ReLU(),\n",
    "            nn.BatchNorm3d(out_channels),\n",
    "            )\n",
    "        return downward_block\n",
    "    \n",
    "    def upward_block(self, in_channels, out_channels, kernel_size=3, stride=1, padding=1):\n",
    "        \"\"\"\n",
    "        The upward blocks are part of the expanding path.\n",
    "        Utility:\n",
    "        - increase the number of depth, height and width.\n",
    "        - decrease the number of channels.\n",
    "        The result is a segmentation map that increases\n",
    "        in resolution for each upward block.\n",
    "        \"\"\"\n",
    "        mid_channels = in_channels//2\n",
    "        # E.g.: in_c = 512, mid_c = 256, out_c = 128\n",
    "        \n",
    "        upward_block = nn.Sequential(\n",
    "            nn.Conv3d(in_channels=in_channels, out_channels=mid_channels,\n",
    "                      kernel_size=kernel_size, stride=stride, padding=padding),\n",
    "            nn.ReLU(),\n",
    "            nn.BatchNorm3d(mid_channels),\n",
    "                \n",
    "            nn.Conv3d(in_channels=mid_channels, out_channels=out_channels,\n",
    "                      kernel_size=kernel_size, stride=stride, padding=padding),\n",
    "            nn.ReLU(),\n",
    "            nn.BatchNorm3d(out_channels))\n",
    "        \n",
    "        return upward_block\n",
    "    \n",
    "    def __init__(self, num_modalities, num_classes, img_height, img_width):\n",
    "        \n",
    "        self.DEBUG = False\n",
    "        \n",
    "        super(SmallBTSegNet, self).__init__()\n",
    "        self.maxpool = nn.MaxPool3d(kernel_size=2, stride=2)\n",
    "        \n",
    "        # downward layers\n",
    "        self.down1 = self.downward_block(in_channels=num_modalities, out_channels=8, \n",
    "                                      kernel_size=3, stride=1, padding=1)\n",
    "    \n",
    "        self.down2 = self.downward_block(in_channels=8, out_channels=8, \n",
    "                                      kernel_size=3, stride=1, padding=1)\n",
    "        \n",
    "        self.down3 = self.downward_block(in_channels=8, out_channels=16, \n",
    "                                      kernel_size=3, stride=1, padding=1)\n",
    "        \n",
    "        self.same_conv = nn.Sequential(\n",
    "            nn.Conv3d(in_channels=16, out_channels=16,\n",
    "                      kernel_size=3, stride=1, padding=1),\n",
    "            nn.ReLU(),\n",
    "            nn.BatchNorm3d(16),\n",
    "        )\n",
    "        \n",
    "        self.upconv1 = nn.ConvTranspose3d(in_channels=16, out_channels=16,\n",
    "                              kernel_size=3, stride=2, padding=1, output_padding=1)\n",
    "        \n",
    "        self.up1 = self.upward_block(in_channels=32, out_channels=16, \n",
    "                                     kernel_size=3, stride=1, padding=0)\n",
    "        \n",
    "        self.upconv2 = nn.ConvTranspose3d(in_channels=16, out_channels=8,\n",
    "                              kernel_size=10, stride=2, padding=0, output_padding=0)\n",
    "        \n",
    "        self.up2 = self.upward_block(in_channels=16, out_channels=8, \n",
    "                                     kernel_size=3, stride=1, padding=0)\n",
    "        \n",
    "        self.upconv3 = nn.ConvTranspose3d(in_channels=8, out_channels=4,\n",
    "                              kernel_size=9, stride=2, padding=0, output_padding=1)\n",
    "        \n",
    "        self.up3 = self.upward_block(in_channels=12, out_channels=4, \n",
    "                                     kernel_size=3, stride=1, padding=1)\n",
    "        \n",
    "        self.out_conv = nn.Sequential(\n",
    "            nn.Conv3d(in_channels=4, out_channels=4,\n",
    "                      kernel_size=3, stride=1, padding=1),\n",
    "            nn.ReLU(),\n",
    "        )\n",
    "        \n",
    "    def forward(self, x):\n",
    "        x = torch.FloatTensor(x)\n",
    "        \n",
    "        # downward layers\n",
    "        x = self.down1(x)\n",
    "        l1_out = torch.clone(x)\n",
    "        x = self.maxpool(x)\n",
    "        \n",
    "        x = self.down2(x)\n",
    "        l2_out = torch.clone(x)\n",
    "        x = self.maxpool(x)\n",
    "        \n",
    "        x = self.down3(x)\n",
    "        l3_out = torch.clone(x)\n",
    "        x = self.maxpool(x)\n",
    "        \n",
    "        # bottom floor\n",
    "        x = self.same_conv(x)\n",
    "        x = self.same_conv(x)\n",
    "        \n",
    "        if self.DEBUG:\n",
    "            print('l1_out:', l1_out.shape)\n",
    "            print('l2_out:', l2_out.shape)\n",
    "            print('l3_out:', l3_out.shape)\n",
    "            print('x:', x.shape)\n",
    "        \n",
    "        # upward layers\n",
    "        x = self.upconv1(x)\n",
    "        if self.DEBUG:\n",
    "            print('after upconv1:', x.shape)\n",
    "        x = torch.cat((l3_out, x), dim=1)\n",
    "        if self.DEBUG:\n",
    "            print('after cat:', x.shape)\n",
    "        x = self.up1(x)\n",
    "        if self.DEBUG:\n",
    "            print('after up1:', x.shape)\n",
    "        \n",
    "        x = self.upconv2(x)\n",
    "        if self.DEBUG:\n",
    "            print('after upconv2:', x.shape)\n",
    "        x = torch.cat((l2_out, x), dim=1)\n",
    "        if self.DEBUG:\n",
    "            print('after cat:', x.shape)\n",
    "        x = self.up2(x)\n",
    "        if self.DEBUG:\n",
    "            print('after up2:', x.shape)\n",
    "        \n",
    "        x = self.upconv3(x)\n",
    "        if self.DEBUG:\n",
    "            print('after upconv3:', x.shape)\n",
    "        x = torch.cat((l1_out, x), dim=1)\n",
    "        if self.DEBUG:\n",
    "            print('after cat:', x.shape)\n",
    "        x = self.up3(x)\n",
    "        if self.DEBUG:\n",
    "            print('after up3:', x.shape)\n",
    "        \n",
    "        # output conv block\n",
    "        x = self.out_conv(x)\n",
    "        if self.DEBUG:\n",
    "            print('after out conv:', x.shape)       \n",
    "        return x\n",
    "    \n",
    "# summary\n",
    "# print(SmallBTSegNet(num_modalities=4, num_classes=4, img_height=96, img_width=96))\n",
    "\n",
    "# init model\n",
    "model = SmallBTSegNet(num_modalities=4, num_classes=4, img_height=96, img_width=96)"
   ]
  },
  {
   "cell_type": "code",
   "execution_count": 6,
   "id": "033a922f",
   "metadata": {},
   "outputs": [],
   "source": [
    "# Sample a minicube batch\n",
    "minicube_batch = split_cube(train_iter.next())"
   ]
  },
  {
   "cell_type": "code",
   "execution_count": 7,
   "id": "91b630e3",
   "metadata": {},
   "outputs": [],
   "source": [
    "voxel_logits_batch = model.forward(minicube_batch['image'][:1,:,:,:,:])"
   ]
  },
  {
   "cell_type": "code",
   "execution_count": 8,
   "id": "24e5117a",
   "metadata": {},
   "outputs": [],
   "source": [
    "criterion = nn.CrossEntropyLoss()"
   ]
  },
  {
   "cell_type": "markdown",
   "id": "5c963d86",
   "metadata": {},
   "source": [
    "Training loop: Overfit to one sample"
   ]
  },
  {
   "cell_type": "code",
   "execution_count": 9,
   "id": "ea86aaae",
   "metadata": {},
   "outputs": [],
   "source": [
    "def split_minicube_batch(minicube_batch, epoch):\n",
    "    if epoch%4 == 0:\n",
    "        voxel_logits_batch = model.forward(minicube_batch['image'][:2,:,:,:,:])\n",
    "        loss = criterion(voxel_logits_batch, minicube_batch['label'][:2,:,:,:].long())\n",
    "        return loss\n",
    "    \n",
    "    elif epoch%4 == 1:\n",
    "        voxel_logits_batch = model.forward(minicube_batch['image'][2:4,:,:,:,:])\n",
    "        loss = criterion(voxel_logits_batch, minicube_batch['label'][2:4,:,:,:].long())\n",
    "        return loss\n",
    "    \n",
    "    elif epoch%4 == 2:\n",
    "        voxel_logits_batch = model.forward(minicube_batch['image'][4:6,:,:,:,:])\n",
    "        loss = criterion(voxel_logits_batch, minicube_batch['label'][4:6,:,:,:].long())\n",
    "        return loss\n",
    "    \n",
    "    else:\n",
    "        voxel_logits_batch = model.forward(minicube_batch['image'][6:,:,:,:,:])\n",
    "        loss = criterion(voxel_logits_batch, minicube_batch['label'][6:,:,:,:].long())\n",
    "        return loss"
   ]
  },
  {
   "cell_type": "code",
   "execution_count": 10,
   "id": "5735f80e",
   "metadata": {},
   "outputs": [
    {
     "name": "stdout",
     "output_type": "stream",
     "text": [
      "epoch   0: loss=1.407\n",
      "epoch   1: loss=1.776\n",
      "epoch   2: loss=1.217\n",
      "epoch   3: loss=0.786\n",
      "epoch   4: loss=0.569\n",
      "epoch   5: loss=0.513\n",
      "epoch   6: loss=0.475\n",
      "epoch   7: loss=0.380\n",
      "epoch   8: loss=0.330\n",
      "epoch   9: loss=0.365\n",
      "epoch  10: loss=0.259\n",
      "epoch  11: loss=0.297\n",
      "epoch  12: loss=0.273\n",
      "epoch  13: loss=0.253\n",
      "epoch  14: loss=0.213\n",
      "epoch  15: loss=0.206\n",
      "epoch  16: loss=0.214\n",
      "epoch  17: loss=0.116\n",
      "epoch  18: loss=0.565\n",
      "epoch  19: loss=0.119\n"
     ]
    }
   ],
   "source": [
    "# define optimizer\n",
    "optim = torch.optim.Adam(model.parameters(), lr=0.05)\n",
    "\n",
    "# training loop\n",
    "epochs = 20\n",
    "losses = []\n",
    "for epoch in range(epochs):\n",
    "    \n",
    "    if epoch%8 == 0:\n",
    "        # Get a new minicube batch\n",
    "        minicube_batch = split_cube(train_iter.next())\n",
    "    \n",
    "    loss = split_minicube_batch(minicube_batch, epoch)\n",
    "    losses.append(loss)\n",
    "    \n",
    "    print(f'epoch {epoch:3d}: loss={loss:3.3f}')\n",
    "    \n",
    "    # backprop loss\n",
    "    optim.zero_grad()\n",
    "    loss.backward()\n",
    "    optim.step()"
   ]
  },
  {
   "cell_type": "code",
   "execution_count": 11,
   "id": "0018641e",
   "metadata": {
    "scrolled": true
   },
   "outputs": [
    {
     "data": {
      "text/plain": [
       "[<matplotlib.lines.Line2D at 0x7f4e4933b190>]"
      ]
     },
     "execution_count": 11,
     "metadata": {},
     "output_type": "execute_result"
    },
    {
     "data": {
      "image/png": "[encoded data removed]",
      "text/plain": [
       "<Figure size 432x288 with 1 Axes>"
      ]
     },
     "metadata": {
      "needs_background": "light"
     },
     "output_type": "display_data"
    }
   ],
   "source": [
    "losses_array = [l.detach().numpy() for l in losses]\n",
    "plt.plot(losses_array)"
   ]
  },
  {
   "cell_type": "markdown",
   "id": "4169b86a",
   "metadata": {},
   "source": [
    "Predict"
   ]
  },
  {
   "cell_type": "code",
   "execution_count": 12,
   "id": "1a89bf9b",
   "metadata": {},
   "outputs": [],
   "source": [
    "voxel_logits_batch = model.forward(minicube_batch['image'][None,5,:,:,:,:])"
   ]
  },
  {
   "cell_type": "code",
   "execution_count": 13,
   "id": "a6098dcf",
   "metadata": {},
   "outputs": [
    {
     "data": {
      "text/plain": [
       "torch.Size([1, 4, 80, 96, 96])"
      ]
     },
     "execution_count": 13,
     "metadata": {},
     "output_type": "execute_result"
    }
   ],
   "source": [
    "sm = nn.Softmax(dim=1)\n",
    "voxel_probs_batch = sm(voxel_logits_batch)\n",
    "voxel_probs_batch.shape"
   ]
  },
  {
   "cell_type": "code",
   "execution_count": 14,
   "id": "6b71e289",
   "metadata": {},
   "outputs": [
    {
     "data": {
      "text/plain": [
       "torch.Size([1, 80, 96, 96])"
      ]
     },
     "execution_count": 14,
     "metadata": {},
     "output_type": "execute_result"
    }
   ],
   "source": [
    "probs, out = torch.max(voxel_probs_batch, dim=1)\n",
    "out.shape"
   ]
  },
  {
   "cell_type": "code",
   "execution_count": 15,
   "id": "16d64fb1",
   "metadata": {},
   "outputs": [
    {
     "name": "stdout",
     "output_type": "stream",
     "text": [
      "prediction:\n"
     ]
    },
    {
     "data": {
      "text/plain": [
       "<matplotlib.image.AxesImage at 0x7f4e5e4a60a0>"
      ]
     },
     "execution_count": 15,
     "metadata": {},
     "output_type": "execute_result"
    },
    {
     "data": {
      "image/png": "[encoded data removed]",
      "text/plain": [
       "<Figure size 432x288 with 1 Axes>"
      ]
     },
     "metadata": {
      "needs_background": "light"
     },
     "output_type": "display_data"
    }
   ],
   "source": [
    "print('prediction:')\n",
    "plt.imshow(out[0, 30, :, :])"
   ]
  },
  {
   "cell_type": "code",
   "execution_count": 16,
   "id": "7bac150f",
   "metadata": {},
   "outputs": [
    {
     "name": "stdout",
     "output_type": "stream",
     "text": [
      "label:\n"
     ]
    },
    {
     "data": {
      "text/plain": [
       "<matplotlib.image.AxesImage at 0x7f4e5e408d00>"
      ]
     },
     "execution_count": 16,
     "metadata": {},
     "output_type": "execute_result"
    },
    {
     "data": {
      "image/png": "[encoded data removed]",
      "text/plain": [
       "<Figure size 432x288 with 1 Axes>"
      ]
     },
     "metadata": {
      "needs_background": "light"
     },
     "output_type": "display_data"
    }
   ],
   "source": [
    "print('label:')\n",
    "plt.imshow(minicube_batch['label'][5, 30, :, :])"
   ]
  }
 ],
 "metadata": {
  "kernelspec": {
   "display_name": "Python 3 (ipykernel)",
   "language": "python",
   "name": "python3"
  },
  "language_info": {
   "codemirror_mode": {
    "name": "ipython",
    "version": 3
   },
   "file_extension": ".py",
   "mimetype": "text/x-python",
   "name": "python",
   "nbconvert_exporter": "python",
   "pygments_lexer": "ipython3",
   "version": "3.8.10"
  }
 },
 "nbformat": 4,
 "nbformat_minor": 5
}
