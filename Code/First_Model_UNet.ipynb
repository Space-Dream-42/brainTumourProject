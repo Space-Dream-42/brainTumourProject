{
 "cells": [
  {
   "cell_type": "markdown",
   "id": "5b84f9c8",
   "metadata": {
    "pycharm": {
     "name": "#%% md\n"
    }
   },
   "source": [
    "[![Colab](https://colab.research.google.com/assets/colab-badge.svg)](https://colab.research.google.com/github/Space-Dream-42/brainTumourProject/blob/main/Code/First_Model_UNet.ipynb)"
   ]
  },
  {
   "cell_type": "markdown",
   "id": "caf3d43d",
   "metadata": {
    "pycharm": {
     "name": "#%% md\n"
    }
   },
   "source": [
    "## First approach: UNet  "
   ]
  },
  {
   "cell_type": "code",
   "execution_count": 1,
   "id": "a2c75132",
   "metadata": {
    "pycharm": {
     "name": "#%%\n"
    }
   },
   "outputs": [],
   "source": [
    "import torch\n",
    "import torchvision as tv\n",
    "import torchvision.transforms as transforms\n",
    "from torchvision.datasets.vision import StandardTransform\n",
    "from torch.utils.data import DataLoader\n",
    "from torchvision.utils import make_grid\n",
    "from torch.optim import Adam\n",
    "\n",
    "import torch.nn as nn\n",
    "import torch.optim as optim\n",
    "import torch.nn.functional as F\n",
    "\n",
    "import numpy as np\n",
    "import pandas as pd \n",
    "from PIL import Image\n",
    "import matplotlib.pyplot as plt \n",
    "%matplotlib inline \n",
    "import json\n",
    "import os\n",
    "os.environ[\"KMP_DUPLICATE_LIB_OK\"]=\"TRUE\"\n",
    "\n",
    "import SimpleITK as sitk\n",
    "\n",
    "from Dataset_Utils import BraTS_TrainingDataset\n",
    "from Dataset_Utils import BraTS_TestDataset\n",
    "from Dataset_Utils import plot_batch\n",
    "\n",
    "from unet_short import UNet\n",
    "from mateusbuda_utils import dsc, dsc_per_volume\n",
    "from mateusbuda_loss import DiceLoss\n",
    "device = 'cuda:0'"
   ]
  },
  {
   "cell_type": "code",
   "execution_count": 2,
   "id": "668bd3d2",
   "metadata": {
    "pycharm": {
     "name": "#%%\n"
    }
   },
   "outputs": [
    {
     "data": {
      "text/plain": [
       "<torch._C.Generator at 0x1e3685a14d0>"
      ]
     },
     "execution_count": 2,
     "metadata": {},
     "output_type": "execute_result"
    }
   ],
   "source": [
    "torch.manual_seed(0)"
   ]
  },
  {
   "cell_type": "code",
   "execution_count": 3,
   "id": "5de4c7b7",
   "metadata": {
    "pycharm": {
     "name": "#%%\n"
    }
   },
   "outputs": [
    {
     "data": {
      "text/plain": [
       "True"
      ]
     },
     "execution_count": 3,
     "metadata": {},
     "output_type": "execute_result"
    }
   ],
   "source": [
    "torch.cuda.is_available()"
   ]
  },
  {
   "cell_type": "code",
   "execution_count": 4,
   "id": "784e421c",
   "metadata": {
    "pycharm": {
     "name": "#%%\n"
    }
   },
   "outputs": [
    {
     "data": {
      "text/plain": [
       "'NVIDIA GeForce RTX 3060 Laptop GPU'"
      ]
     },
     "execution_count": 4,
     "metadata": {},
     "output_type": "execute_result"
    }
   ],
   "source": [
    "torch.cuda.get_device_name(0)"
   ]
  },
  {
   "cell_type": "markdown",
   "id": "58959e03",
   "metadata": {
    "pycharm": {
     "name": "#%% md\n"
    }
   },
   "source": [
    "## Data loading setup"
   ]
  },
  {
   "cell_type": "code",
   "execution_count": 5,
   "id": "990616e2",
   "metadata": {
    "pycharm": {
     "name": "#%%\n"
    }
   },
   "outputs": [
    {
     "name": "stdout",
     "output_type": "stream",
     "text": [
      "../Task01_BrainTumour/cropped\\imagesTr\n",
      "../Task01_BrainTumour/cropped\\labelsTr\n",
      "../Task01_BrainTumour/cropped\\imagesTr\n",
      "../Task01_BrainTumour/cropped\\labelsTr\n"
     ]
    }
   ],
   "source": [
    "# PATH\n",
    "dataset_path = '../Task01_BrainTumour/cropped'\n",
    "\n",
    "train_data = BraTS_TrainingDataset(dataset_path, 84, 42)\n",
    "test_data = BraTS_TestDataset(dataset_path, 84, 42)"
   ]
  },
  {
   "cell_type": "code",
   "execution_count": 6,
   "id": "18e9893a",
   "metadata": {
    "pycharm": {
     "name": "#%%\n"
    }
   },
   "outputs": [],
   "source": [
    "trainloader = torch.utils.data.DataLoader(\n",
    "    train_data, batch_size=20, shuffle=True)\n",
    "\n",
    "testloader = torch.utils.data.DataLoader(\n",
    "    test_data, batch_size=20, shuffle=True)\n",
    "\n",
    "train_iter = iter(trainloader)\n",
    "test_iter = iter(testloader)"
   ]
  },
  {
   "cell_type": "code",
   "execution_count": 7,
   "id": "c327562e",
   "metadata": {
    "pycharm": {
     "name": "#%%\n"
    }
   },
   "outputs": [
    {
     "name": "stdout",
     "output_type": "stream",
     "text": [
      "torch.Size([20, 4, 155, 192, 192])\n",
      "torch.Size([20, 1, 155, 192, 192])\n"
     ]
    }
   ],
   "source": [
    "sample_batch = test_iter.next()\n",
    "print(sample_batch['image'].shape)\n",
    "print(sample_batch['label'].shape)\n",
    "# plot_batch(sample_batch, num_rows=2, height=75)"
   ]
  },
  {
   "cell_type": "markdown",
   "id": "91cea80f",
   "metadata": {
    "pycharm": {
     "name": "#%% md\n"
    }
   },
   "source": [
    "## Create the model"
   ]
  },
  {
   "cell_type": "code",
   "execution_count": 8,
   "id": "1dce320e",
   "metadata": {
    "pycharm": {
     "name": "#%%\n"
    }
   },
   "outputs": [],
   "source": [
    "# predefined models:\n",
    "# https://pytorch.org/hub/mateuszbuda_brain-segmentation-pytorch_unet/\n",
    "# https://github.com/Project-MONAI/tutorials/blob/main/3d_segmentation/spleen_segmentation_3d.ipynb\n",
    "\n",
    "# unet implementation\n",
    "# https://github.com/milesial/Pytorch-UNet"
   ]
  },
  {
   "cell_type": "code",
   "execution_count": 9,
   "id": "2f1591cd",
   "metadata": {
    "pycharm": {
     "name": "#%%\n"
    }
   },
   "outputs": [],
   "source": [
    "# taken from https://www.kaggle.com/code/bigironsphere/loss-function-library-keras-pytorch/notebook\n"
   ]
  },
  {
   "cell_type": "code",
   "execution_count": 10,
   "id": "4bd5aa85",
   "metadata": {
    "pycharm": {
     "name": "#%%\n"
    }
   },
   "outputs": [],
   "source": []
  },
  {
   "cell_type": "code",
   "execution_count": 11,
   "id": "01ecba0d",
   "metadata": {
    "pycharm": {
     "name": "#%%\n"
    }
   },
   "outputs": [
    {
     "name": "stdout",
     "output_type": "stream",
     "text": [
      "20\n",
      "40\n",
      "60\n",
      "80\n",
      "100\n",
      "120\n",
      "140\n",
      "160\n",
      "180\n",
      "200\n",
      "220\n",
      "240\n",
      "260\n",
      "280\n",
      "300\n",
      "320\n",
      "340\n",
      "360\n",
      "380\n",
      "400\n",
      "420\n",
      "440\n",
      "460\n"
     ]
    }
   ],
   "source": [
    "device = 'cuda:0'\n",
    "loaders = {\"train\": trainloader, \"valid\": testloader}\n",
    "unet = UNet(in_channels=4, out_channels=4, init_features=32)\n",
    "unet.to(device)\n",
    "dice_loss = DiceLoss()\n",
    "best_validation_dsc = 0.0\n",
    "optimizer = optim.Adam(unet.parameters(), lr=0.0001)\n",
    "loss_train = []\n",
    "overall_loss = []\n",
    "\n",
    "step = 0\n",
    "\n",
    "\n",
    "for epoch in range(1):\n",
    "    for phase in [\"train\"]:\n",
    "        if phase == \"train\":\n",
    "            unet.train()\n",
    "        else:\n",
    "            unet.eval()\n",
    "\n",
    "        validation_pred = []\n",
    "        validation_true = []\n",
    "\n",
    "        for i, data in enumerate(loaders[phase]):\n",
    "            if phase == \"train\":\n",
    "                step += 1\n",
    "            print(step*20)\n",
    "            x_whole = data['image']\n",
    "            y_true_whole = data['label']\n",
    "            loss_train = []\n",
    "            for i in range(len(x_whole[0, 0])):\n",
    "                x, y_true = x_whole[:, :, i, :, :].to(device), y_true_whole[:, :, i, :, :].to(device)\n",
    "                optimizer.zero_grad()\n",
    "\n",
    "                with torch.set_grad_enabled(phase == \"train\"):\n",
    "                    y_pred = unet(x)\n",
    "                    y_true = y_true[:, 0, :, :].type(torch.LongTensor).to(device)\n",
    "                    loss = dice_loss(y_pred, y_true)\n",
    "                    if phase == \"train\":\n",
    "                        loss_train.append(loss.item())\n",
    "                        loss.backward()\n",
    "                        optimizer.step()\n",
    "            overall_loss.append(np.mean(loss_train))\n",
    "        torch.save(unet.state_dict(), '../Saved_Models/model_weights_%i' % epoch)"
   ]
  },
  {
   "cell_type": "code",
   "execution_count": 13,
   "id": "92c5fc13",
   "metadata": {
    "pycharm": {
     "name": "#%%\n"
    }
   },
   "outputs": [
    {
     "data": {
      "image/png": "[encoded data removed]",
      "text/plain": [
       "<Figure size 432x288 with 1 Axes>"
      ]
     },
     "metadata": {
      "needs_background": "light"
     },
     "output_type": "display_data"
    }
   ],
   "source": [
    "plt.plot(range(23), overall_loss)\n",
    "plt.show()"
   ]
  },
  {
   "cell_type": "code",
   "execution_count": 15,
   "id": "e9fd3512",
   "metadata": {
    "pycharm": {
     "name": "#%%\n"
    }
   },
   "outputs": [],
   "source": [
    "unet_loaded = UNet(in_channels=4, out_channels=4, init_features=32)\n",
    "unet_loaded.load_state_dict(torch.load('../Saved_Models/model_weights_0'))\n",
    "_ = unet_loaded.to(device)"
   ]
  },
  {
   "cell_type": "markdown",
   "id": "42f2de7e",
   "metadata": {
    "pycharm": {
     "name": "#%% md\n"
    }
   },
   "source": [
    "# Evaluation"
   ]
  },
  {
   "cell_type": "markdown",
   "id": "42f40a69",
   "metadata": {
    "pycharm": {
     "name": "#%% md\n"
    }
   },
   "source": [
    "mean of the % of the intercept of all classes:"
   ]
  },
  {
   "cell_type": "code",
   "execution_count": 16,
   "id": "60d4fee4",
   "metadata": {
    "pycharm": {
     "name": "#%%\n"
    }
   },
   "outputs": [],
   "source": [
    "class Dice_Metric(nn.Module):\n",
    "    def __init__(self, weight=None, size_average=True):\n",
    "        super(Dice_Metric, self).__init__()\n",
    "\n",
    "    def forward(self, inputs, targets):\n",
    "        \n",
    "        loss_count = []\n",
    "        for i in range(len(inputs[0])):\n",
    "            current_class = targets.clone()\n",
    "            current_class[current_class!=i] = 0\n",
    "            current_class[current_class==i] = 1\n",
    "            loss_count.append(1-dice_loss_one_image(inputs[:, i], current_class).cpu().item())\n",
    "        \n",
    "        return loss_count"
   ]
  },
  {
   "cell_type": "code",
   "execution_count": 17,
   "id": "ac0d9990",
   "metadata": {
    "pycharm": {
     "name": "#%%\n"
    }
   },
   "outputs": [
    {
     "ename": "KeyboardInterrupt",
     "evalue": "",
     "output_type": "error",
     "traceback": [
      "\u001B[1;31m---------------------------------------------------------------------------\u001B[0m",
      "\u001B[1;31mKeyboardInterrupt\u001B[0m                         Traceback (most recent call last)",
      "Input \u001B[1;32mIn [17]\u001B[0m, in \u001B[0;36m<cell line: 5>\u001B[1;34m()\u001B[0m\n\u001B[0;32m     10\u001B[0m \u001B[38;5;28;01mwith\u001B[39;00m torch\u001B[38;5;241m.\u001B[39mset_grad_enabled(\u001B[38;5;28;01mFalse\u001B[39;00m):\n\u001B[0;32m     11\u001B[0m     y_pred \u001B[38;5;241m=\u001B[39m unet_loaded(x)\n\u001B[1;32m---> 12\u001B[0m     y_true \u001B[38;5;241m=\u001B[39m \u001B[43my_true\u001B[49m\u001B[43m[\u001B[49m\u001B[43m:\u001B[49m\u001B[43m,\u001B[49m\u001B[43m \u001B[49m\u001B[38;5;241;43m0\u001B[39;49m\u001B[43m,\u001B[49m\u001B[43m \u001B[49m\u001B[43m:\u001B[49m\u001B[43m,\u001B[49m\u001B[43m \u001B[49m\u001B[43m:\u001B[49m\u001B[43m]\u001B[49m\u001B[38;5;241;43m.\u001B[39;49m\u001B[43mtype\u001B[49m\u001B[43m(\u001B[49m\u001B[43mtorch\u001B[49m\u001B[38;5;241;43m.\u001B[39;49m\u001B[43mLongTensor\u001B[49m\u001B[43m)\u001B[49m\u001B[38;5;241m.\u001B[39mto(device)\n\u001B[0;32m     13\u001B[0m     loss \u001B[38;5;241m=\u001B[39m dice_loss(y_pred, y_true)\n\u001B[0;32m     14\u001B[0m     loss_test\u001B[38;5;241m.\u001B[39mappend(loss)\n",
      "\u001B[1;31mKeyboardInterrupt\u001B[0m: "
     ]
    }
   ],
   "source": [
    "#evaluation\n",
    "dice_loss = Dice_Metric()\n",
    "loss_test = []\n",
    "loaders = {\"train\": trainloader, \"valid\": testloader}\n",
    "for i, data in enumerate(loaders['valid']):\n",
    "    x_whole = data['image']\n",
    "    y_true_whole = data['label']\n",
    "    for i in range(len(x_whole[0, 0])):\n",
    "        x, y_true = x_whole[:, :, i, :, :].to(device), y_true_whole[:, :, i, :, :].to(device)\n",
    "        with torch.set_grad_enabled(False):\n",
    "            y_pred = unet_loaded(x)\n",
    "            y_true = y_true[:, 0, :, :].type(torch.LongTensor).to(device)\n",
    "            loss = dice_loss(y_pred, y_true)\n",
    "            loss_test.append(loss)\n",
    "background_loss = np.mean([x[0] for x in loss_test])\n",
    "edema_loss = np.mean([x[1] for x in loss_test])\n",
    "non_enhance_loss = np.mean([x[2] for x in loss_test])\n",
    "enhance_loss = np.mean([x[3] for x in loss_test])\n",
    "print('Background: %f, edema: %f, non-enhancing tumor: %f, enhancing tumor: %f '% (background_loss, edema_loss, non_enhance_loss, enhance_loss))"
   ]
  },
  {
   "cell_type": "code",
   "execution_count": 18,
   "id": "003b4772",
   "metadata": {
    "pycharm": {
     "name": "#%%\n"
    }
   },
   "outputs": [
    {
     "name": "stdout",
     "output_type": "stream",
     "text": [
      "(192, 192)\n",
      "torch.Size([20, 4, 192, 192])\n"
     ]
    }
   ],
   "source": [
    "batch_slices = sample_batch['image']\n",
    "batch_slices = batch_slices[:, :, 70, :, :].to(device)\n",
    "output = unet_loaded(batch_slices)\n",
    "output_array = torch.round(torch.sigmoid(output[0])).detach().cpu().numpy()\n",
    "print(output_array[0].shape)\n",
    "print(output.shape)"
   ]
  },
  {
   "cell_type": "code",
   "execution_count": 19,
   "id": "1c97890b",
   "metadata": {
    "pycharm": {
     "name": "#%%\n"
    }
   },
   "outputs": [
    {
     "data": {
      "text/plain": [
       "<matplotlib.image.AxesImage at 0x1e47720ca00>"
      ]
     },
     "execution_count": 19,
     "metadata": {},
     "output_type": "execute_result"
    },
    {
     "data": {
      "image/png": "[encoded data removed]",
      "text/plain": [
       "<Figure size 432x288 with 1 Axes>"
      ]
     },
     "metadata": {
      "needs_background": "light"
     },
     "output_type": "display_data"
    }
   ],
   "source": [
    "plt.imshow(output_array[1], cmap=\"gray\", origin=\"lower\")"
   ]
  },
  {
   "cell_type": "code",
   "execution_count": 20,
   "id": "d0f1aced",
   "metadata": {
    "pycharm": {
     "name": "#%%\n"
    }
   },
   "outputs": [
    {
     "data": {
      "text/plain": [
       "<matplotlib.image.AxesImage at 0x1e477264160>"
      ]
     },
     "execution_count": 20,
     "metadata": {},
     "output_type": "execute_result"
    },
    {
     "data": {
      "image/png": "[encoded data removed]",
      "text/plain": [
       "<Figure size 432x288 with 1 Axes>"
      ]
     },
     "metadata": {
      "needs_background": "light"
     },
     "output_type": "display_data"
    }
   ],
   "source": [
    "plt.imshow(sample_batch['label'][0,0,70,:,:], cmap=\"gray\", origin=\"lower\")"
   ]
  },
  {
   "cell_type": "code",
   "execution_count": null,
   "id": "39a8cb84",
   "metadata": {
    "pycharm": {
     "name": "#%%\n"
    }
   },
   "outputs": [],
   "source": []
  }
 ],
 "metadata": {
  "kernelspec": {
   "display_name": "Python 3 (ipykernel)",
   "language": "python",
   "name": "python3"
  },
  "language_info": {
   "codemirror_mode": {
    "name": "ipython",
    "version": 3
   },
   "file_extension": ".py",
   "mimetype": "text/x-python",
   "name": "python",
   "nbconvert_exporter": "python",
   "pygments_lexer": "ipython3",
   "version": "3.8.13"
  }
 },
 "nbformat": 4,
 "nbformat_minor": 5
}