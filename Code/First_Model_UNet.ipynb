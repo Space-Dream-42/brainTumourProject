{
 "cells": [
  {
   "cell_type": "markdown",
   "id": "5b84f9c8",
   "metadata": {},
   "source": [
    "[![Colab](https://colab.research.google.com/assets/colab-badge.svg)](https://colab.research.google.com/github/Space-Dream-42/brainTumourProject/blob/main/Code/First_Model_UNet.ipynb)"
   ]
  },
  {
   "cell_type": "markdown",
   "id": "caf3d43d",
   "metadata": {},
   "source": [
    "## First approach: UNet  "
   ]
  },
  {
   "cell_type": "code",
   "execution_count": 1,
   "id": "a2c75132",
   "metadata": {
    "pycharm": {
     "name": "#%%\n"
    }
   },
   "outputs": [],
   "source": [
    "import torch\n",
    "import torchvision as tv\n",
    "import torchvision.transforms as transforms\n",
    "from torchvision.datasets.vision import StandardTransform\n",
    "from torch.utils.data import DataLoader\n",
    "from torchvision.utils import make_grid\n",
    "from torch.optim import Adam\n",
    "\n",
    "import torch.nn as nn\n",
    "import torch.optim as optim\n",
    "import torch.nn.functional as F\n",
    "\n",
    "import numpy as np\n",
    "import pandas as pd \n",
    "from PIL import Image\n",
    "import matplotlib.pyplot as plt \n",
    "%matplotlib inline \n",
    "import json\n",
    "import os\n",
    "os.environ[\"KMP_DUPLICATE_LIB_OK\"]=\"TRUE\"\n",
    "\n",
    "import SimpleITK as sitk\n",
    "\n",
    "from Dataset_Utils import BraTS_TrainingDataset\n",
    "from Dataset_Utils import BraTS_TestDataset\n",
    "from Dataset_Utils import plot_batch\n",
    "\n",
    "from unet_short import UNet\n",
    "from mateusbuda_utils import dsc, dsc_per_volume\n",
    "from mateusbuda_loss import DiceLoss"
   ]
  },
  {
   "cell_type": "code",
   "execution_count": 2,
   "id": "668bd3d2",
   "metadata": {
    "pycharm": {
     "name": "#%%\n"
    }
   },
   "outputs": [
    {
     "data": {
      "text/plain": [
       "<torch._C.Generator at 0x1c027973510>"
      ]
     },
     "execution_count": 2,
     "metadata": {},
     "output_type": "execute_result"
    }
   ],
   "source": [
    "torch.manual_seed(0)"
   ]
  },
  {
   "cell_type": "code",
   "execution_count": 3,
   "id": "5de4c7b7",
   "metadata": {},
   "outputs": [
    {
     "data": {
      "text/plain": [
       "True"
      ]
     },
     "execution_count": 3,
     "metadata": {},
     "output_type": "execute_result"
    }
   ],
   "source": [
    "torch.cuda.is_available()"
   ]
  },
  {
   "cell_type": "code",
   "execution_count": 4,
   "id": "784e421c",
   "metadata": {},
   "outputs": [
    {
     "data": {
      "text/plain": [
       "'NVIDIA GeForce RTX 3060 Laptop GPU'"
      ]
     },
     "execution_count": 4,
     "metadata": {},
     "output_type": "execute_result"
    }
   ],
   "source": [
    "torch.cuda.get_device_name(0)"
   ]
  },
  {
   "cell_type": "markdown",
   "id": "58959e03",
   "metadata": {
    "pycharm": {
     "name": "#%% md\n"
    }
   },
   "source": [
    "## Data loading setup"
   ]
  },
  {
   "cell_type": "code",
   "execution_count": 5,
   "id": "990616e2",
   "metadata": {
    "pycharm": {
     "name": "#%%\n"
    }
   },
   "outputs": [
    {
     "name": "stdout",
     "output_type": "stream",
     "text": [
      "../Task01_BrainTumour/cropped_small\\imagesTr\n",
      "../Task01_BrainTumour/cropped_small\\labelsTr\n",
      "../Task01_BrainTumour/cropped_small\\imagesTr\n",
      "../Task01_BrainTumour/cropped_small\\labelsTr\n"
     ]
    }
   ],
   "source": [
    "# PATH\n",
    "dataset_path = '../Task01_BrainTumour/cropped_small'\n",
    "\n",
    "train_data = BraTS_TrainingDataset(dataset_path, 30, 42)\n",
    "test_data = BraTS_TestDataset(dataset_path, 30, 42)"
   ]
  },
  {
   "cell_type": "code",
   "execution_count": 6,
   "id": "18e9893a",
   "metadata": {
    "pycharm": {
     "name": "#%%\n"
    }
   },
   "outputs": [
    {
     "name": "stdout",
     "output_type": "stream",
     "text": [
      "torch.Size([1, 4, 155, 191, 161])\n",
      "torch.Size([1, 1, 155, 191, 161])\n"
     ]
    }
   ],
   "source": [
    "trainloader = torch.utils.data.DataLoader(\n",
    "    train_data, batch_size=1, shuffle=True)\n",
    "\n",
    "testloader = torch.utils.data.DataLoader(\n",
    "    test_data, batch_size=1, shuffle=True)\n",
    "\n",
    "train_iter = iter(trainloader)\n",
    "test_iter = iter(testloader)\n",
    "\n",
    "sample_batch = train_iter.next()\n",
    "print(sample_batch['image'].shape)\n",
    "print(sample_batch['label'].shape)"
   ]
  },
  {
   "cell_type": "code",
   "execution_count": null,
   "outputs": [],
   "source": [
    "sample_batch = test_iter.next()\n",
    "# plot_batch(sample_batch, num_rows=2, height=75)"
   ],
   "metadata": {
    "collapsed": false,
    "pycharm": {
     "name": "#%%\n"
    }
   }
  },
  {
   "cell_type": "markdown",
   "source": [
    "## Create the model"
   ],
   "metadata": {
    "collapsed": false,
    "pycharm": {
     "name": "#%% md\n"
    }
   }
  },
  {
   "cell_type": "code",
   "execution_count": null,
   "outputs": [],
   "source": [
    "# predefined models:\n",
    "# https://pytorch.org/hub/mateuszbuda_brain-segmentation-pytorch_unet/\n",
    "# https://github.com/Project-MONAI/tutorials/blob/main/3d_segmentation/spleen_segmentation_3d.ipynb\n",
    "\n",
    "# unet implementation\n",
    "# https://github.com/milesial/Pytorch-UNet"
   ],
   "metadata": {
    "collapsed": false,
    "pycharm": {
     "name": "#%%\n"
    }
   }
  },
  {
   "cell_type": "code",
   "execution_count": null,
   "outputs": [],
   "source": [
    "device = 'cuda:0'\n",
    "loaders = {\"train\": trainloader, \"valid\": testloader}\n",
    "unet = UNet(in_channels=4, out_channels=1, init_features=4)\n",
    "unet.to(device)\n",
    "dsc_loss = DiceLoss()\n",
    "best_validation_dsc = 0.0\n",
    "optimizer = optim.Adam(unet.parameters(), lr=0.0001)\n",
    "loss_train = []\n",
    "loss_valid = []\n",
    "\n",
    "step = 0\n",
    "\n",
    "\n",
    "for epoch in range(3):\n",
    "        for phase in [\"train\", \"valid\"]:\n",
    "            if phase == \"train\":\n",
    "                unet.train()\n",
    "            else:\n",
    "                unet.eval()\n",
    "\n",
    "            validation_pred = []\n",
    "            validation_true = []\n",
    "\n",
    "            for i, data in enumerate(loaders[phase]):\n",
    "                if phase == \"train\":\n",
    "                    step += 1\n",
    "                \n",
    "                x = data['image']\n",
    "                y_true = data['label']\n",
    "                x, y_true = x.to(device), y_true.to(device)\n",
    "                optimizer.zero_grad()\n",
    "\n",
    "                with torch.set_grad_enabled(phase == \"train\"):\n",
    "                    y_pred = unet(x)\n",
    "                    loss = dsc_loss(y_pred, y_true)\n",
    "\n",
    "                    if phase == \"train\":\n",
    "                        loss_train.append(loss.item())\n",
    "                        loss.backward()\n",
    "                        optimizer.step()                "
   ],
   "metadata": {
    "collapsed": false,
    "pycharm": {
     "name": "#%%\n"
    }
   }
  },
  {
   "cell_type": "code",
   "execution_count": null,
   "outputs": [],
   "source": [
    "batch_slices = sample_batch['image']\n",
    "batch_slices = batch_slices.to(device)\n",
    "output = unet(batch_slices)\n",
    "output_array = torch.round(output[0][:,70,:,:]).detach().cpu().numpy()\n",
    "output_array[0].shape"
   ],
   "metadata": {
    "collapsed": false,
    "pycharm": {
     "name": "#%%\n"
    }
   }
  },
  {
   "cell_type": "code",
   "execution_count": 11,
   "id": "1c97890b",
   "metadata": {
    "pycharm": {
     "name": "#%%\n"
    }
   },
   "outputs": [
    {
     "data": {
      "text/plain": [
       "<matplotlib.image.AxesImage at 0x1c00ba55610>"
      ]
     },
     "execution_count": 11,
     "metadata": {},
     "output_type": "execute_result"
    },
    {
     "data": {
      "image/png": "[encoded data removed]",
      "text/plain": [
       "<Figure size 432x288 with 1 Axes>"
      ]
     },
     "metadata": {
      "needs_background": "light"
     },
     "output_type": "display_data"
    }
   ],
   "source": [
    "plt.imshow(output_array[0], cmap=\"gray\", origin=\"lower\")"
   ]
  },
  {
   "cell_type": "code",
   "execution_count": 12,
   "id": "d0f1aced",
   "metadata": {
    "pycharm": {
     "name": "#%%\n"
    }
   },
   "outputs": [
    {
     "data": {
      "text/plain": [
       "<matplotlib.image.AxesImage at 0x1c00bb4a490>"
      ]
     },
     "execution_count": 12,
     "metadata": {},
     "output_type": "execute_result"
    },
    {
     "data": {
      "image/png": "[encoded data removed]",
      "text/plain": [
       "<Figure size 432x288 with 1 Axes>"
      ]
     },
     "metadata": {
      "needs_background": "light"
     },
     "output_type": "display_data"
    }
   ],
   "source": [
    "plt.imshow(sample_batch['label'][0][0,70,:,:], cmap=\"gray\", origin=\"lower\")"
   ]
  },
  {
   "cell_type": "code",
   "execution_count": 13,
   "id": "0117adf6",
   "metadata": {},
   "outputs": [
    {
     "data": {
      "text/plain": [
       "<matplotlib.image.AxesImage at 0x1c01480e820>"
      ]
     },
     "execution_count": 13,
     "metadata": {},
     "output_type": "execute_result"
    },
    {
     "data": {
      "image/png": "[encoded data removed]",
      "text/plain": [
       "<Figure size 432x288 with 1 Axes>"
      ]
     },
     "metadata": {
      "needs_background": "light"
     },
     "output_type": "display_data"
    }
   ],
   "source": [
    "plt.imshow(sample_batch['label'][0][0,70,:,:], cmap=\"gray\", origin=\"lower\")"
   ]
  },
  {
   "cell_type": "code",
   "execution_count": null,
   "id": "457300ba",
   "metadata": {},
   "outputs": [],
   "source": []
  }
 ],
 "metadata": {
  "kernelspec": {
   "display_name": "Python 3 (ipykernel)",
   "language": "python",
   "name": "python3"
  },
  "language_info": {
   "codemirror_mode": {
    "name": "ipython",
    "version": 3
   },
   "file_extension": ".py",
   "mimetype": "text/x-python",
   "name": "python",
   "nbconvert_exporter": "python",
   "pygments_lexer": "ipython3",
   "version": "3.8.13"
  }
 },
 "nbformat": 4,
 "nbformat_minor": 5
}