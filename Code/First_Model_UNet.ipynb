{
 "cells": [
  {
   "cell_type": "markdown",
   "id": "5b84f9c8",
   "metadata": {
    "pycharm": {
     "name": "#%% md\n"
    }
   },
   "source": [
    "[![Colab](https://colab.research.google.com/assets/colab-badge.svg)](https://colab.research.google.com/github/Space-Dream-42/brainTumourProject/blob/main/Code/First_Model_UNet.ipynb)"
   ]
  },
  {
   "cell_type": "markdown",
   "id": "caf3d43d",
   "metadata": {
    "pycharm": {
     "name": "#%% md\n"
    }
   },
   "source": [
    "## First approach: UNet  "
   ]
  },
  {
   "cell_type": "code",
   "execution_count": 1,
   "id": "a2c75132",
   "metadata": {
    "pycharm": {
     "name": "#%%\n"
    }
   },
   "outputs": [],
   "source": [
    "import torch\n",
    "import torchvision as tv\n",
    "import torchvision.transforms as transforms\n",
    "from torchvision.datasets.vision import StandardTransform\n",
    "from torch.utils.data import DataLoader\n",
    "from torchvision.utils import make_grid\n",
    "from torch.optim import Adam\n",
    "\n",
    "import torch.nn as nn\n",
    "import torch.optim as optim\n",
    "import torch.nn.functional as F\n",
    "\n",
    "import numpy as np\n",
    "import pandas as pd \n",
    "from PIL import Image\n",
    "import matplotlib.pyplot as plt \n",
    "%matplotlib inline \n",
    "import json\n",
    "import os\n",
    "os.environ[\"KMP_DUPLICATE_LIB_OK\"]=\"TRUE\"\n",
    "\n",
    "import SimpleITK as sitk\n",
    "\n",
    "from Dataset_Utils import BraTS_TrainingDataset\n",
    "from Dataset_Utils import BraTS_TestDataset\n",
    "from Dataset_Utils import plot_batch\n",
    "\n",
    "from unet_short import UNet\n",
    "from mateusbuda_utils import dsc, dsc_per_volume\n",
    "from mateusbuda_loss import DiceLoss\n",
    "device = 'cuda:0'"
   ]
  },
  {
   "cell_type": "code",
   "execution_count": 2,
   "id": "668bd3d2",
   "metadata": {
    "pycharm": {
     "name": "#%%\n"
    }
   },
   "outputs": [
    {
     "data": {
      "text/plain": [
       "<torch._C.Generator at 0x2329a8774d0>"
      ]
     },
     "execution_count": 2,
     "metadata": {},
     "output_type": "execute_result"
    }
   ],
   "source": [
    "torch.manual_seed(0)"
   ]
  },
  {
   "cell_type": "code",
   "execution_count": 3,
   "id": "5de4c7b7",
   "metadata": {
    "pycharm": {
     "name": "#%%\n"
    }
   },
   "outputs": [
    {
     "data": {
      "text/plain": [
       "True"
      ]
     },
     "execution_count": 3,
     "metadata": {},
     "output_type": "execute_result"
    }
   ],
   "source": [
    "torch.cuda.is_available()"
   ]
  },
  {
   "cell_type": "code",
   "execution_count": 4,
   "id": "784e421c",
   "metadata": {
    "pycharm": {
     "name": "#%%\n"
    }
   },
   "outputs": [
    {
     "data": {
      "text/plain": [
       "'NVIDIA GeForce RTX 3060 Laptop GPU'"
      ]
     },
     "execution_count": 4,
     "metadata": {},
     "output_type": "execute_result"
    }
   ],
   "source": [
    "torch.cuda.get_device_name(0)"
   ]
  },
  {
   "cell_type": "markdown",
   "id": "58959e03",
   "metadata": {
    "pycharm": {
     "name": "#%% md\n"
    }
   },
   "source": [
    "## Data loading setup"
   ]
  },
  {
   "cell_type": "code",
   "execution_count": 5,
   "id": "990616e2",
   "metadata": {
    "pycharm": {
     "name": "#%%\n"
    }
   },
   "outputs": [
    {
     "name": "stdout",
     "output_type": "stream",
     "text": [
      "../Task01_BrainTumour/cropped\\imagesTr\n",
      "../Task01_BrainTumour/cropped\\labelsTr\n",
      "../Task01_BrainTumour/cropped\\imagesTr\n",
      "../Task01_BrainTumour/cropped\\labelsTr\n"
     ]
    }
   ],
   "source": [
    "# PATH\n",
    "dataset_path = '../Task01_BrainTumour/cropped'\n",
    "\n",
    "train_data = BraTS_TrainingDataset(dataset_path, 30, 42)\n",
    "test_data = BraTS_TestDataset(dataset_path, 30, 42)"
   ]
  },
  {
   "cell_type": "code",
   "execution_count": 6,
   "id": "18e9893a",
   "metadata": {
    "pycharm": {
     "name": "#%%\n"
    }
   },
   "outputs": [],
   "source": [
    "trainloader = torch.utils.data.DataLoader(\n",
    "    train_data, batch_size=20, shuffle=True)\n",
    "\n",
    "testloader = torch.utils.data.DataLoader(\n",
    "    test_data, batch_size=20, shuffle=True)\n",
    "\n",
    "train_iter = iter(trainloader)\n",
    "test_iter = iter(testloader)"
   ]
  },
  {
   "cell_type": "code",
   "execution_count": 7,
   "id": "c327562e",
   "metadata": {
    "pycharm": {
     "name": "#%%\n"
    }
   },
   "outputs": [
    {
     "name": "stdout",
     "output_type": "stream",
     "text": [
      "torch.Size([20, 4, 155, 192, 192])\n",
      "torch.Size([20, 1, 155, 192, 192])\n"
     ]
    }
   ],
   "source": [
    "sample_batch = test_iter.next()\n",
    "print(sample_batch['image'].shape)\n",
    "print(sample_batch['label'].shape)\n",
    "# plot_batch(sample_batch, num_rows=2, height=75)"
   ]
  },
  {
   "cell_type": "markdown",
   "id": "91cea80f",
   "metadata": {
    "pycharm": {
     "name": "#%% md\n"
    }
   },
   "source": [
    "## Create the model"
   ]
  },
  {
   "cell_type": "code",
   "execution_count": 8,
   "id": "1dce320e",
   "metadata": {
    "pycharm": {
     "name": "#%%\n"
    }
   },
   "outputs": [],
   "source": [
    "# predefined models:\n",
    "# https://pytorch.org/hub/mateuszbuda_brain-segmentation-pytorch_unet/\n",
    "# https://github.com/Project-MONAI/tutorials/blob/main/3d_segmentation/spleen_segmentation_3d.ipynb\n",
    "\n",
    "# unet implementation\n",
    "# https://github.com/milesial/Pytorch-UNet"
   ]
  },
  {
   "cell_type": "code",
   "execution_count": 8,
   "id": "2f1591cd",
   "metadata": {},
   "outputs": [],
   "source": [
    "# taken from https://www.kaggle.com/code/bigironsphere/loss-function-library-keras-pytorch/notebook\n",
    "def dice_loss_one_image(inputs, targets, smooth=1):\n",
    "    inputs = torch.sigmoid(inputs)       \n",
    "        \n",
    "    #flatten label and prediction tensors\n",
    "    inputs = inputs.view(-1)\n",
    "    targets = targets.view(-1)\n",
    "    \n",
    "    intersection = (inputs * targets).sum()                            \n",
    "    dice = (2.*intersection + smooth)/(inputs.sum() + targets.sum() + smooth)  \n",
    "        \n",
    "    return 1 - dice"
   ]
  },
  {
   "cell_type": "code",
   "execution_count": 9,
   "id": "4bd5aa85",
   "metadata": {},
   "outputs": [],
   "source": [
    "class DiceLoss(nn.Module):\n",
    "    def __init__(self, weight=None, size_average=True):\n",
    "        super(DiceLoss, self).__init__()\n",
    "\n",
    "    def forward(self, inputs, targets):\n",
    "        \n",
    "        loss_count = 0\n",
    "        for i in range(len(inputs[0])):\n",
    "            current_class = targets.clone()\n",
    "            current_class[current_class!=i] = 0\n",
    "            current_class[current_class==i] = 1\n",
    "            loss_count += dice_loss_one_image(inputs[:, i], current_class)\n",
    "        \n",
    "        return loss_count/4"
   ]
  },
  {
   "cell_type": "code",
   "execution_count": 11,
   "id": "01ecba0d",
   "metadata": {
    "pycharm": {
     "name": "#%%\n"
    }
   },
   "outputs": [
    {
     "name": "stdout",
     "output_type": "stream",
     "text": [
      "20\n",
      "0.7977109447602303\n",
      "40\n",
      "0.7870375194857198\n",
      "60\n",
      "0.7723287243996897\n",
      "80\n",
      "0.7598086714744567\n",
      "100\n",
      "0.7556573287133248\n",
      "120\n",
      "0.7440833707009592\n",
      "140\n",
      "0.7361104992128188\n",
      "160\n",
      "0.7244930644189158\n",
      "180\n",
      "0.7061432457739307\n",
      "200\n",
      "0.6991620782882937\n",
      "220\n",
      "0.6835800067070992\n",
      "240\n",
      "0.6635718884006623\n",
      "260\n",
      "0.6554424182061226\n",
      "280\n",
      "0.634023969019613\n",
      "300\n",
      "0.6288413201608966\n",
      "320\n",
      "0.6163812052819037\n",
      "340\n",
      "0.5919472584801335\n",
      "360\n",
      "0.5648211015808967\n",
      "380\n",
      "0.5741803688387717\n",
      "400\n",
      "0.5260742598964322\n",
      "420\n",
      "0.5403751569409524\n",
      "440\n",
      "0.5260780749782439\n",
      "460\n",
      "0.5601266109174298\n",
      "480\n",
      "0.5515573261245604\n",
      "500\n",
      "0.5013362943164764\n",
      "520\n",
      "0.5594954692548321\n",
      "540\n",
      "0.47425649166107176\n",
      "560\n",
      "0.513975602580655\n",
      "580\n",
      "0.4640586781886316\n",
      "600\n",
      "0.5057794128694842\n",
      "620\n",
      "0.45728591920868045\n",
      "640\n",
      "0.5356289678042935\n",
      "660\n",
      "0.4791096349877696\n",
      "680\n",
      "0.4858187448593878\n",
      "700\n",
      "0.4885829739032253\n",
      "720\n",
      "0.48642852854344154\n",
      "740\n",
      "0.45798814642813895\n",
      "760\n",
      "0.5021438887042384\n",
      "780\n",
      "0.4484183269162332\n",
      "800\n",
      "0.5812324546998547\n",
      "820\n",
      "0.512526120485798\n",
      "840\n",
      "0.4671474482743971\n",
      "860\n",
      "0.49246041678613234\n",
      "880\n",
      "0.4684673349703512\n",
      "900\n",
      "0.4418287567553982\n",
      "920\n",
      "0.4942981759386678\n",
      "940\n",
      "0.5383131438686002\n",
      "960\n",
      "0.5822250954566464\n",
      "980\n",
      "0.4507453210892216\n",
      "1000\n",
      "0.45652610813417743\n",
      "1020\n",
      "0.4263067739625131\n",
      "1040\n",
      "0.4421784625899407\n",
      "1060\n",
      "0.4917637549100384\n",
      "1080\n",
      "0.47161415536557477\n",
      "1100\n",
      "0.34978437260273965\n",
      "1120\n",
      "0.4667341060215427\n",
      "1140\n",
      "0.4243076785918205\n",
      "1160\n",
      "0.29746940116728504\n",
      "1180\n",
      "0.3517753227103141\n",
      "1200\n",
      "0.2553881849973432\n",
      "1220\n",
      "0.2850173407985318\n",
      "1240\n",
      "0.3825721424433493\n",
      "1260\n",
      "0.36653691309113656\n",
      "1280\n",
      "0.3549254314553353\n",
      "1300\n",
      "0.2897746581223703\n",
      "1320\n",
      "0.3677129351323651\n",
      "1340\n",
      "0.28876690633835334\n",
      "1360\n",
      "0.3144467446111864\n",
      "1380\n",
      "0.2880338505391152\n",
      "1400\n",
      "0.3320899798024085\n",
      "1420\n",
      "0.2563847221674458\n",
      "1440\n",
      "0.33068711546159557\n",
      "1460\n",
      "0.2814057078092329\n",
      "1480\n",
      "0.25177659776902966\n",
      "1500\n",
      "0.3109500039969721\n",
      "1520\n",
      "0.3119144061880727\n",
      "1540\n",
      "0.307982222399404\n",
      "1560\n",
      "0.31268162919629006\n",
      "1580\n",
      "0.2564495288556622\n",
      "1600\n",
      "0.2776602183618853\n",
      "1620\n",
      "0.3600017177481805\n",
      "1640\n",
      "0.37838715516751814\n",
      "1660\n",
      "0.3247359223904148\n",
      "1680\n",
      "0.3376258753961132\n",
      "1700\n",
      "0.29914197200729004\n",
      "1720\n",
      "0.24204292797273205\n",
      "1740\n",
      "0.25315852059471994\n",
      "1760\n",
      "0.36690258999024666\n",
      "1780\n",
      "0.2826595039136948\n",
      "1800\n",
      "0.3240080673848429\n",
      "1820\n",
      "0.31516748714831566\n",
      "1840\n",
      "0.33942904472351076\n",
      "1860\n",
      "0.3253615370681209\n",
      "1880\n",
      "0.299552720785141\n",
      "1900\n",
      "0.4470770562848737\n",
      "1920\n",
      "0.3555982598373967\n",
      "1940\n",
      "0.2955555142894868\n",
      "1960\n",
      "0.26458707048046975\n",
      "1980\n",
      "0.2569824576377869\n",
      "2000\n",
      "0.3795970558158813\n",
      "2020\n",
      "0.3094905746559943\n",
      "2040\n",
      "0.4713333688436016\n",
      "2060\n",
      "0.3903909449615786\n",
      "2080\n",
      "0.2787066194318956\n",
      "2100\n",
      "0.25734004359091484\n",
      "2120\n",
      "0.27461914554719\n",
      "2140\n",
      "0.32852200385062924\n",
      "2160\n",
      "0.2628876334236514\n",
      "2180\n",
      "0.31173455686338486\n",
      "2200\n",
      "0.2275439308535668\n",
      "2220\n",
      "0.2347665169546681\n",
      "2240\n",
      "0.2900622408236227\n",
      "2260\n",
      "0.3334270781086337\n",
      "2280\n",
      "0.2550436875512523\n",
      "2300\n",
      "0.25592948621319184\n"
     ]
    }
   ],
   "source": [
    "device = 'cuda:0'\n",
    "loaders = {\"train\": trainloader, \"valid\": testloader}\n",
    "unet = UNet(in_channels=4, out_channels=4, init_features=32)\n",
    "unet.to(device)\n",
    "dice_loss = DiceLoss()\n",
    "best_validation_dsc = 0.0\n",
    "optimizer = optim.Adam(unet.parameters(), lr=0.0001)\n",
    "loss_train = []\n",
    "loss_valid = []\n",
    "\n",
    "step = 0\n",
    "\n",
    "\n",
    "for epoch in range(5):\n",
    "    for phase in [\"train\"]:\n",
    "        if phase == \"train\":\n",
    "            unet.train()\n",
    "        else:\n",
    "            unet.eval()\n",
    "\n",
    "        validation_pred = []\n",
    "        validation_true = []\n",
    "\n",
    "        for i, data in enumerate(loaders[phase]):\n",
    "            if phase == \"train\":\n",
    "                step += 1\n",
    "            print(step*20)\n",
    "            x_whole = data['image']\n",
    "            y_true_whole = data['label']\n",
    "            loss_train = []\n",
    "            for i in range(len(x_whole[0, 0])):\n",
    "                x, y_true = x_whole[:, :, i, :, :].to(device), y_true_whole[:, :, i, :, :].to(device)\n",
    "                optimizer.zero_grad()\n",
    "\n",
    "                with torch.set_grad_enabled(phase == \"train\"):\n",
    "                    y_pred = unet(x)\n",
    "                    y_true = y_true[:, 0, :, :].type(torch.LongTensor).to(device)\n",
    "                    loss = dice_loss(y_pred, y_true)\n",
    "                    if phase == \"train\":\n",
    "                        loss_train.append(loss.item())\n",
    "                        loss.backward()\n",
    "                        optimizer.step()\n",
    "            print(np.mean(loss_train))\n",
    "        torch.save(unet.state_dict(), '../Saved_Models/model_weights_%i' % epoch)"
   ]
  },
  {
   "cell_type": "code",
   "execution_count": 10,
   "id": "e9fd3512",
   "metadata": {},
   "outputs": [
    {
     "data": {
      "text/plain": [
       "UNet(\n",
       "  (encoder1): Sequential(\n",
       "    (enc1conv1): Conv2d(4, 32, kernel_size=(3, 3), stride=(1, 1), padding=(1, 1), bias=False)\n",
       "    (enc1norm1): BatchNorm2d(32, eps=1e-05, momentum=0.1, affine=True, track_running_stats=True)\n",
       "    (enc1relu1): ReLU(inplace=True)\n",
       "    (enc1conv2): Conv2d(32, 32, kernel_size=(3, 3), stride=(1, 1), padding=(1, 1), bias=False)\n",
       "    (enc1norm2): BatchNorm2d(32, eps=1e-05, momentum=0.1, affine=True, track_running_stats=True)\n",
       "    (enc1relu2): ReLU(inplace=True)\n",
       "  )\n",
       "  (pool1): MaxPool2d(kernel_size=2, stride=2, padding=0, dilation=1, ceil_mode=False)\n",
       "  (encoder2): Sequential(\n",
       "    (enc2conv1): Conv2d(32, 64, kernel_size=(3, 3), stride=(1, 1), padding=(1, 1), bias=False)\n",
       "    (enc2norm1): BatchNorm2d(64, eps=1e-05, momentum=0.1, affine=True, track_running_stats=True)\n",
       "    (enc2relu1): ReLU(inplace=True)\n",
       "    (enc2conv2): Conv2d(64, 64, kernel_size=(3, 3), stride=(1, 1), padding=(1, 1), bias=False)\n",
       "    (enc2norm2): BatchNorm2d(64, eps=1e-05, momentum=0.1, affine=True, track_running_stats=True)\n",
       "    (enc2relu2): ReLU(inplace=True)\n",
       "  )\n",
       "  (pool2): MaxPool2d(kernel_size=2, stride=2, padding=0, dilation=1, ceil_mode=False)\n",
       "  (encoder3): Sequential(\n",
       "    (enc3conv1): Conv2d(64, 128, kernel_size=(3, 3), stride=(1, 1), padding=(1, 1), bias=False)\n",
       "    (enc3norm1): BatchNorm2d(128, eps=1e-05, momentum=0.1, affine=True, track_running_stats=True)\n",
       "    (enc3relu1): ReLU(inplace=True)\n",
       "    (enc3conv2): Conv2d(128, 128, kernel_size=(3, 3), stride=(1, 1), padding=(1, 1), bias=False)\n",
       "    (enc3norm2): BatchNorm2d(128, eps=1e-05, momentum=0.1, affine=True, track_running_stats=True)\n",
       "    (enc3relu2): ReLU(inplace=True)\n",
       "  )\n",
       "  (pool3): MaxPool2d(kernel_size=2, stride=2, padding=0, dilation=1, ceil_mode=False)\n",
       "  (encoder4): Sequential(\n",
       "    (enc4conv1): Conv2d(128, 256, kernel_size=(3, 3), stride=(1, 1), padding=(1, 1), bias=False)\n",
       "    (enc4norm1): BatchNorm2d(256, eps=1e-05, momentum=0.1, affine=True, track_running_stats=True)\n",
       "    (enc4relu1): ReLU(inplace=True)\n",
       "    (enc4conv2): Conv2d(256, 256, kernel_size=(3, 3), stride=(1, 1), padding=(1, 1), bias=False)\n",
       "    (enc4norm2): BatchNorm2d(256, eps=1e-05, momentum=0.1, affine=True, track_running_stats=True)\n",
       "    (enc4relu2): ReLU(inplace=True)\n",
       "  )\n",
       "  (pool4): MaxPool2d(kernel_size=2, stride=2, padding=0, dilation=1, ceil_mode=False)\n",
       "  (bottleneck): Sequential(\n",
       "    (bottleneckconv1): Conv2d(256, 512, kernel_size=(3, 3), stride=(1, 1), padding=(1, 1), bias=False)\n",
       "    (bottlenecknorm1): BatchNorm2d(512, eps=1e-05, momentum=0.1, affine=True, track_running_stats=True)\n",
       "    (bottleneckrelu1): ReLU(inplace=True)\n",
       "    (bottleneckconv2): Conv2d(512, 512, kernel_size=(3, 3), stride=(1, 1), padding=(1, 1), bias=False)\n",
       "    (bottlenecknorm2): BatchNorm2d(512, eps=1e-05, momentum=0.1, affine=True, track_running_stats=True)\n",
       "    (bottleneckrelu2): ReLU(inplace=True)\n",
       "  )\n",
       "  (upconv4): ConvTranspose2d(512, 256, kernel_size=(2, 2), stride=(2, 2))\n",
       "  (decoder4): Sequential(\n",
       "    (dec4conv1): Conv2d(512, 256, kernel_size=(3, 3), stride=(1, 1), padding=(1, 1), bias=False)\n",
       "    (dec4norm1): BatchNorm2d(256, eps=1e-05, momentum=0.1, affine=True, track_running_stats=True)\n",
       "    (dec4relu1): ReLU(inplace=True)\n",
       "    (dec4conv2): Conv2d(256, 256, kernel_size=(3, 3), stride=(1, 1), padding=(1, 1), bias=False)\n",
       "    (dec4norm2): BatchNorm2d(256, eps=1e-05, momentum=0.1, affine=True, track_running_stats=True)\n",
       "    (dec4relu2): ReLU(inplace=True)\n",
       "  )\n",
       "  (upconv3): ConvTranspose2d(256, 128, kernel_size=(2, 2), stride=(2, 2))\n",
       "  (decoder3): Sequential(\n",
       "    (dec3conv1): Conv2d(256, 128, kernel_size=(3, 3), stride=(1, 1), padding=(1, 1), bias=False)\n",
       "    (dec3norm1): BatchNorm2d(128, eps=1e-05, momentum=0.1, affine=True, track_running_stats=True)\n",
       "    (dec3relu1): ReLU(inplace=True)\n",
       "    (dec3conv2): Conv2d(128, 128, kernel_size=(3, 3), stride=(1, 1), padding=(1, 1), bias=False)\n",
       "    (dec3norm2): BatchNorm2d(128, eps=1e-05, momentum=0.1, affine=True, track_running_stats=True)\n",
       "    (dec3relu2): ReLU(inplace=True)\n",
       "  )\n",
       "  (upconv2): ConvTranspose2d(128, 64, kernel_size=(2, 2), stride=(2, 2))\n",
       "  (decoder2): Sequential(\n",
       "    (dec2conv1): Conv2d(128, 64, kernel_size=(3, 3), stride=(1, 1), padding=(1, 1), bias=False)\n",
       "    (dec2norm1): BatchNorm2d(64, eps=1e-05, momentum=0.1, affine=True, track_running_stats=True)\n",
       "    (dec2relu1): ReLU(inplace=True)\n",
       "    (dec2conv2): Conv2d(64, 64, kernel_size=(3, 3), stride=(1, 1), padding=(1, 1), bias=False)\n",
       "    (dec2norm2): BatchNorm2d(64, eps=1e-05, momentum=0.1, affine=True, track_running_stats=True)\n",
       "    (dec2relu2): ReLU(inplace=True)\n",
       "  )\n",
       "  (upconv1): ConvTranspose2d(64, 32, kernel_size=(2, 2), stride=(2, 2))\n",
       "  (decoder1): Sequential(\n",
       "    (dec1conv1): Conv2d(64, 32, kernel_size=(3, 3), stride=(1, 1), padding=(1, 1), bias=False)\n",
       "    (dec1norm1): BatchNorm2d(32, eps=1e-05, momentum=0.1, affine=True, track_running_stats=True)\n",
       "    (dec1relu1): ReLU(inplace=True)\n",
       "    (dec1conv2): Conv2d(32, 32, kernel_size=(3, 3), stride=(1, 1), padding=(1, 1), bias=False)\n",
       "    (dec1norm2): BatchNorm2d(32, eps=1e-05, momentum=0.1, affine=True, track_running_stats=True)\n",
       "    (dec1relu2): ReLU(inplace=True)\n",
       "  )\n",
       "  (conv): Conv2d(32, 4, kernel_size=(1, 1), stride=(1, 1))\n",
       ")"
      ]
     },
     "execution_count": 10,
     "metadata": {},
     "output_type": "execute_result"
    }
   ],
   "source": [
    "unet_loaded = UNet(in_channels=4, out_channels=4, init_features=32)\n",
    "unet_loaded.load_state_dict(torch.load('../Saved_Models/model_weights_4'))\n",
    "unet_loaded.to(device)"
   ]
  },
  {
   "cell_type": "markdown",
   "id": "42f2de7e",
   "metadata": {},
   "source": [
    "# Evaluation"
   ]
  },
  {
   "cell_type": "markdown",
   "id": "42f40a69",
   "metadata": {},
   "source": [
    "mean of the % of the intercept of all classes:"
   ]
  },
  {
   "cell_type": "code",
   "execution_count": 32,
   "id": "60d4fee4",
   "metadata": {},
   "outputs": [],
   "source": [
    "class Dice_Metric(nn.Module):\n",
    "    def __init__(self, weight=None, size_average=True):\n",
    "        super(Dice_Metric, self).__init__()\n",
    "\n",
    "    def forward(self, inputs, targets):\n",
    "        \n",
    "        loss_count = []\n",
    "        for i in range(len(inputs[0])):\n",
    "            current_class = targets.clone()\n",
    "            current_class[current_class!=i] = 0\n",
    "            current_class[current_class==i] = 1\n",
    "            loss_count.append(1-dice_loss_one_image(inputs[:, i], current_class).cpu().item())\n",
    "        \n",
    "        return loss_count"
   ]
  },
  {
   "cell_type": "code",
   "execution_count": 38,
   "id": "ac0d9990",
   "metadata": {},
   "outputs": [
    {
     "name": "stdout",
     "output_type": "stream",
     "text": [
      "Background: 0.999998, edema: 0.531586, non-enhancing tumor: 0.459354, enhancing tumor: 0.612728 \n"
     ]
    }
   ],
   "source": [
    "#evaluation\n",
    "dice_loss = Dice_Metric()\n",
    "loss_test = []\n",
    "loaders = {\"train\": trainloader, \"valid\": testloader}\n",
    "for i, data in enumerate(loaders['valid']):\n",
    "    x_whole = data['image']\n",
    "    y_true_whole = data['label']\n",
    "    for i in range(len(x_whole[0, 0])):\n",
    "        x, y_true = x_whole[:, :, i, :, :].to(device), y_true_whole[:, :, i, :, :].to(device)\n",
    "        with torch.set_grad_enabled(False):\n",
    "            y_pred = unet_loaded(x)\n",
    "            y_true = y_true[:, 0, :, :].type(torch.LongTensor).to(device)\n",
    "            loss = dice_loss(y_pred, y_true)\n",
    "            loss_test.append(loss)\n",
    "background_loss = np.mean([x[0] for x in loss_test])\n",
    "edema_loss = np.mean([x[1] for x in loss_test])\n",
    "non_enhance_loss = np.mean([x[2] for x in loss_test])\n",
    "enhance_loss = np.mean([x[3] for x in loss_test])\n",
    "print('Background: %f, edema: %f, non-enhancing tumor: %f, enhancing tumor: %f '% (background_loss, edema_loss, non_enhance_loss, enhance_loss))"
   ]
  },
  {
   "cell_type": "code",
   "execution_count": 17,
   "id": "003b4772",
   "metadata": {
    "pycharm": {
     "name": "#%%\n"
    }
   },
   "outputs": [
    {
     "name": "stdout",
     "output_type": "stream",
     "text": [
      "(192, 192)\n",
      "torch.Size([20, 4, 192, 192])\n"
     ]
    }
   ],
   "source": [
    "batch_slices = sample_batch['image']\n",
    "batch_slices = batch_slices[:, :, 70, :, :].to(device)\n",
    "output = unet_loaded(batch_slices)\n",
    "output_array = torch.round(torch.sigmoid(output[0])).detach().cpu().numpy()\n",
    "print(output_array[0].shape)\n",
    "print(output.shape)"
   ]
  },
  {
   "cell_type": "code",
   "execution_count": 21,
   "id": "1c97890b",
   "metadata": {
    "pycharm": {
     "name": "#%%\n"
    }
   },
   "outputs": [
    {
     "data": {
      "text/plain": [
       "<matplotlib.image.AxesImage at 0x23328615ac0>"
      ]
     },
     "execution_count": 21,
     "metadata": {},
     "output_type": "execute_result"
    },
    {
     "data": {
      "image/png": "[encoded data removed]",
      "text/plain": [
       "<Figure size 432x288 with 1 Axes>"
      ]
     },
     "metadata": {
      "needs_background": "light"
     },
     "output_type": "display_data"
    }
   ],
   "source": [
    "plt.imshow(output_array[1], cmap=\"gray\", origin=\"lower\")"
   ]
  },
  {
   "cell_type": "code",
   "execution_count": 19,
   "id": "d0f1aced",
   "metadata": {
    "pycharm": {
     "name": "#%%\n"
    }
   },
   "outputs": [
    {
     "data": {
      "text/plain": [
       "<matplotlib.image.AxesImage at 0x2332178e640>"
      ]
     },
     "execution_count": 19,
     "metadata": {},
     "output_type": "execute_result"
    },
    {
     "data": {
      "image/png": "[encoded data removed]",
      "text/plain": [
       "<Figure size 432x288 with 1 Axes>"
      ]
     },
     "metadata": {
      "needs_background": "light"
     },
     "output_type": "display_data"
    }
   ],
   "source": [
    "plt.imshow(sample_batch['label'][0,0,70,:,:], cmap=\"gray\", origin=\"lower\")"
   ]
  },
  {
   "cell_type": "code",
   "execution_count": null,
   "id": "550da8c7",
   "metadata": {},
   "outputs": [],
   "source": []
  }
 ],
 "metadata": {
  "kernelspec": {
   "display_name": "Python 3 (ipykernel)",
   "language": "python",
   "name": "python3"
  },
  "language_info": {
   "codemirror_mode": {
    "name": "ipython",
    "version": 3
   },
   "file_extension": ".py",
   "mimetype": "text/x-python",
   "name": "python",
   "nbconvert_exporter": "python",
   "pygments_lexer": "ipython3",
   "version": "3.8.13"
  }
 },
 "nbformat": 4,
 "nbformat_minor": 5
}
