{
 "cells": [
  {
   "cell_type": "code",
   "execution_count": 4,
   "id": "6a39b9b2",
   "metadata": {},
   "outputs": [],
   "source": [
    "import SimpleITK as sitk\n",
    "import numpy as np\n",
    "import matplotlib.pyplot as plt\n",
    "from skimage.transform import resize\n",
    "from operator import itemgetter\n",
    "import torchvision.transforms\n",
    "import os"
   ]
  },
  {
   "cell_type": "markdown",
   "id": "48f70142",
   "metadata": {},
   "source": [
    "Images already need to be extracted for this script to work  \n",
    "Only crops the images within the Tr directory since the Tl directory doesn´t have labels"
   ]
  },
  {
   "cell_type": "code",
   "execution_count": 6,
   "id": "c497cde3",
   "metadata": {},
   "outputs": [],
   "source": [
    "extracted_directory = '../Task01_BrainTumour/extracted/'\n",
    "cropped_directory = '../Task01_BrainTumour/cropped/'\n",
    "image_directory = 'imagesTr/%i.npy'\n",
    "label_directory = 'labelsTr/%i.npy'\n",
    "def get_image_and_target(i):\n",
    "    return np.load(extracted_directory + image_directory % i), np.load(extracted_directory + label_directory % i)"
   ]
  },
  {
   "cell_type": "markdown",
   "id": "b2a70053",
   "metadata": {},
   "source": [
    "Crop and save the images:"
   ]
  },
  {
   "cell_type": "code",
   "execution_count": 13,
   "id": "0728f476",
   "metadata": {},
   "outputs": [
    {
     "name": "stdout",
     "output_type": "stream",
     "text": [
      "cropping images: 483/483\r"
     ]
    }
   ],
   "source": [
    "if not os.path.exists('../Task01_BrainTumour/cropped/'):\n",
    "    print('data not extracted yet.\\n -> creating new extracted dir.')\n",
    "    os.mkdir('../Task01_BrainTumour/cropped/')\n",
    "    os.mkdir('../Task01_BrainTumour/cropped/imagesTr/')\n",
    "    os.mkdir('../Task01_BrainTumour/cropped/labelsTr/')\n",
    "\n",
    "\n",
    "for i in range(484):\n",
    "    current_image, current_label = get_image_and_target(i)\n",
    "    np.save(cropped_directory + image_directory % i, current_image[:, :, 19:210, 38:199])\n",
    "    np.save(cropped_directory + label_directory % i, current_label[:, 19:210, 38:199])\n",
    "    print(f'cropping images: {i}/483', end=\"\\r\")"
   ]
  }
 ],
 "metadata": {
  "kernelspec": {
   "display_name": "Python 3 (ipykernel)",
   "language": "python",
   "name": "python3"
  },
  "language_info": {
   "codemirror_mode": {
    "name": "ipython",
    "version": 3
   },
   "file_extension": ".py",
   "mimetype": "text/x-python",
   "name": "python",
   "nbconvert_exporter": "python",
   "pygments_lexer": "ipython3",
   "version": "3.8.13"
  }
 },
 "nbformat": 4,
 "nbformat_minor": 5
}
