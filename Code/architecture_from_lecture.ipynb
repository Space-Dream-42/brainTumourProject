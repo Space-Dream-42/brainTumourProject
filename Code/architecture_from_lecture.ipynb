{
 "cells": [
  {
   "cell_type": "code",
   "execution_count": 1,
   "id": "a7f80684",
   "metadata": {},
   "outputs": [],
   "source": [
    "import torch\n",
    "import torchvision as tv\n",
    "import torchvision.transforms as transforms\n",
    "from torchvision.datasets.vision import StandardTransform\n",
    "from torch.utils.data import DataLoader\n",
    "from torchvision.utils import make_grid\n",
    "\n",
    "import torch.nn as nn\n",
    "import torch.optim as optim\n",
    "import torch.nn.functional as F\n",
    "\n",
    "import numpy as np\n",
    "import pandas as pd \n",
    "from PIL import Image\n",
    "import matplotlib.pyplot as plt \n",
    "%matplotlib inline \n",
    "import json\n",
    "import os\n",
    "\n",
    "import SimpleITK as sitk\n",
    "\n",
    "#from Dataset_Utils import BraTS_TrainingDataset\n",
    "#from Dataset_Utils import BraTS_TestDataset\n",
    "#from Dataset_Utils import plot_batch"
   ]
  },
  {
   "cell_type": "markdown",
   "id": "c8ecde9f",
   "metadata": {},
   "source": [
    "## Architecture"
   ]
  },
  {
   "cell_type": "markdown",
   "id": "2488ae7a",
   "metadata": {},
   "source": [
    "<img src=\"Lecture_Architecture.png\" alt=\"Lecture_Architecture\" width=\"400\"/>"
   ]
  },
  {
   "cell_type": "code",
   "execution_count": 2,
   "id": "4b4d0986",
   "metadata": {
    "scrolled": true
   },
   "outputs": [],
   "source": [
    "class SmallSegNet(nn.Module):\n",
    "    \n",
    "    def __init__(self, in_channels=4, num_classes=4, img_height=5, img_width=5):\n",
    "        super(SmallSegNet, self).__init__()\n",
    "        self.sm = nn.Softmax(dim=0)\n",
    "        self.layers = nn.Sequential(\n",
    "        \n",
    "        # decrease x,y and increase channels\n",
    "            # Conv\n",
    "            nn.Conv2d(in_channels,4,2,stride=1,padding=0),\n",
    "            # nn.Batchnorm\n",
    "            nn.ReLU(),\n",
    "        \n",
    "        # change number of channels\n",
    "            # 1x1 Conv\n",
    "            nn.Conv2d(4,num_classes*2,1,stride=1,padding=0),\n",
    "            # nn.Batchnorm\n",
    "            nn.ReLU(),\n",
    "        \n",
    "        # increase x,y and decrease channels\n",
    "            # Transpose-Conv\n",
    "            nn.ConvTranspose2d(num_classes*2, num_classes, 2, stride=1, padding=0)\n",
    "        )\n",
    "    \n",
    "    def forward(self, x):\n",
    "        x = torch.FloatTensor(x)\n",
    "        x = self.layers(x)\n",
    "        # x = self.sm(x)\n",
    "        # Skip Softmax because Torch CrossEntropyLoss\n",
    "        # takes logits and already applies Softmax.\n",
    "        return x\n",
    "\n",
    "# summary\n",
    "# print(SmallSegNet())\n",
    "\n",
    "model = SmallSegNet(in_channels=1, num_classes=4, img_height=5, img_width=5)"
   ]
  },
  {
   "cell_type": "code",
   "execution_count": 3,
   "id": "2bce121f",
   "metadata": {},
   "outputs": [
    {
     "name": "stdout",
     "output_type": "stream",
     "text": [
      "input img:\n",
      "[[1 1 0 1 0]\n",
      " [1 0 0 0 0]\n",
      " [1 0 0 0 1]\n",
      " [1 1 1 0 1]\n",
      " [0 1 0 1 0]]\n"
     ]
    },
    {
     "data": {
      "text/plain": [
       "tensor([[[-0.2904, -0.4218, -0.3541, -0.4042, -0.3024],\n",
       "         [-0.4086, -0.3836, -0.2520, -0.3435, -0.1339],\n",
       "         [-0.3972, -0.2626, -0.3221, -0.2970, -0.2199],\n",
       "         [-0.3539, -0.2423, -0.3733, -0.2767, -0.2373],\n",
       "         [-0.2753, -0.2215, -0.2331, -0.1676, -0.1880]],\n",
       "\n",
       "        [[ 0.2003,  0.0898,  0.1254,  0.0838,  0.1532],\n",
       "         [ 0.0766, -0.0092,  0.0352,  0.0470,  0.1396],\n",
       "         [ 0.0809,  0.0245,  0.0411,  0.0478,  0.1368],\n",
       "         [ 0.1031,  0.0733,  0.0132,  0.0695,  0.1488],\n",
       "         [ 0.1643,  0.1269,  0.0959,  0.1260,  0.1372]],\n",
       "\n",
       "        [[ 0.0290,  0.1543,  0.0189,  0.1070, -0.0023],\n",
       "         [ 0.0325, -0.1307, -0.0250, -0.0924, -0.0066],\n",
       "         [-0.0029, -0.0748, -0.0465, -0.0557, -0.0400],\n",
       "         [-0.0245, -0.1211, -0.0224, -0.1244,  0.0275],\n",
       "         [-0.0404, -0.0804, -0.1662, -0.0716, -0.0850]],\n",
       "\n",
       "        [[-0.2068, -0.1510, -0.0516, -0.1685,  0.0208],\n",
       "         [-0.2615,  0.1108,  0.0618,  0.0459,  0.1334],\n",
       "         [-0.2571,  0.1265,  0.0436,  0.0931,  0.1017],\n",
       "         [-0.2030,  0.1100,  0.0473,  0.1244,  0.1047],\n",
       "         [-0.1175,  0.0004,  0.0485,  0.0246,  0.0260]]],\n",
       "       grad_fn=<SqueezeBackward1>)"
      ]
     },
     "execution_count": 3,
     "metadata": {},
     "output_type": "execute_result"
    }
   ],
   "source": [
    "x = np.random.randint(2, size=(5,5))\n",
    "print('input img:')\n",
    "print(x)\n",
    "\n",
    "y_hat = model.forward(x[None,:])\n",
    "y_hat"
   ]
  },
  {
   "cell_type": "code",
   "execution_count": 4,
   "id": "272cc854",
   "metadata": {},
   "outputs": [
    {
     "name": "stdout",
     "output_type": "stream",
     "text": [
      "tensor([[0.2003, 0.1543, 0.1254, 0.1070, 0.1532],\n",
      "        [0.0766, 0.1108, 0.0618, 0.0470, 0.1396],\n",
      "        [0.0809, 0.1265, 0.0436, 0.0931, 0.1368],\n",
      "        [0.1031, 0.1100, 0.0473, 0.1244, 0.1488],\n",
      "        [0.1643, 0.1269, 0.0959, 0.1260, 0.1372]], grad_fn=<MaxBackward0>)\n",
      "tensor([[1, 2, 1, 2, 1],\n",
      "        [1, 3, 3, 1, 1],\n",
      "        [1, 3, 3, 3, 1],\n",
      "        [1, 3, 3, 3, 1],\n",
      "        [1, 1, 1, 1, 1]])\n"
     ]
    },
    {
     "data": {
      "text/plain": [
       "<matplotlib.image.AxesImage at 0x7f539b782550>"
      ]
     },
     "execution_count": 4,
     "metadata": {},
     "output_type": "execute_result"
    },
    {
     "data": {
      "image/png": "[encoded data removed]",
      "text/plain": [
       "<Figure size 432x288 with 1 Axes>"
      ]
     },
     "metadata": {
      "needs_background": "light"
     },
     "output_type": "display_data"
    }
   ],
   "source": [
    "probs, out = torch.max(y_hat, dim=0)\n",
    "print(probs)\n",
    "print(out)\n",
    "plt.imshow(out)"
   ]
  },
  {
   "cell_type": "markdown",
   "id": "50108695",
   "metadata": {},
   "source": [
    "## Crossentropy Loss"
   ]
  },
  {
   "cell_type": "code",
   "execution_count": 5,
   "id": "bc4ce750",
   "metadata": {},
   "outputs": [],
   "source": [
    "label =  torch.tensor(\n",
    "       [[3, 1, 1, 1, 3],\n",
    "        [3, 3, 0, 3, 1],\n",
    "        [0, 3, 2, 2, 3],\n",
    "        [1, 0, 0, 2, 3],\n",
    "        [0, 0, 3, 3, 3]])"
   ]
  },
  {
   "cell_type": "code",
   "execution_count": 6,
   "id": "986b6986",
   "metadata": {},
   "outputs": [],
   "source": [
    "# Crossentropy Loss\n",
    "criterion = nn.CrossEntropyLoss()"
   ]
  },
  {
   "cell_type": "code",
   "execution_count": 7,
   "id": "99a05ba1",
   "metadata": {},
   "outputs": [
    {
     "name": "stdout",
     "output_type": "stream",
     "text": [
      "torch.Size([4, 5, 5])\n",
      "torch.Size([1, 4, 5, 5])\n",
      "torch.Size([5, 5])\n",
      "torch.Size([1, 5, 5])\n"
     ]
    }
   ],
   "source": [
    "print(y_hat.shape)\n",
    "y_hat_batch = y_hat[None,:]\n",
    "print(y_hat_batch.shape)\n",
    "\n",
    "print(label.shape)\n",
    "label_batch = label[None,:]\n",
    "print(label_batch.shape)"
   ]
  },
  {
   "cell_type": "code",
   "execution_count": 8,
   "id": "1c91dd6f",
   "metadata": {},
   "outputs": [
    {
     "data": {
      "text/plain": [
       "tensor(1.3906, grad_fn=<NllLoss2DBackward0>)"
      ]
     },
     "execution_count": 8,
     "metadata": {},
     "output_type": "execute_result"
    }
   ],
   "source": [
    "loss = criterion(y_hat_batch, label_batch)\n",
    "loss"
   ]
  },
  {
   "cell_type": "markdown",
   "id": "4af0cbab",
   "metadata": {},
   "source": [
    "Training loop: Overfitting to one sample"
   ]
  },
  {
   "cell_type": "code",
   "execution_count": 9,
   "id": "bbde53d2",
   "metadata": {},
   "outputs": [],
   "source": [
    "optim = torch.optim.Adam(model.parameters(), lr=0.1)"
   ]
  },
  {
   "cell_type": "code",
   "execution_count": 10,
   "id": "d6716976",
   "metadata": {},
   "outputs": [],
   "source": [
    "# training loop\n",
    "epochs = 100\n",
    "losses = []\n",
    "for epoch in range(epochs):\n",
    "    # get output\n",
    "    pixel_logits = model.forward(x[None,:])\n",
    "    pixel_logits_batch = pixel_logits[None,:]\n",
    "    \n",
    "    # get loss\n",
    "    loss = criterion(pixel_logits_batch, label_batch)\n",
    "    losses.append(loss)\n",
    "    \n",
    "    # backprop loss\n",
    "    optim.zero_grad()\n",
    "    loss.backward()\n",
    "    optim.step()"
   ]
  },
  {
   "cell_type": "code",
   "execution_count": 11,
   "id": "0357ef8c",
   "metadata": {
    "scrolled": true
   },
   "outputs": [
    {
     "data": {
      "text/plain": [
       "[<matplotlib.lines.Line2D at 0x7f5378cc3610>]"
      ]
     },
     "execution_count": 11,
     "metadata": {},
     "output_type": "execute_result"
    },
    {
     "data": {
      "image/png": "[encoded data removed]",
      "text/plain": [
       "<Figure size 432x288 with 1 Axes>"
      ]
     },
     "metadata": {
      "needs_background": "light"
     },
     "output_type": "display_data"
    }
   ],
   "source": [
    "losses_array = [l.detach().numpy() for l in losses]\n",
    "plt.plot(losses_array)"
   ]
  },
  {
   "cell_type": "code",
   "execution_count": 12,
   "id": "60f80b6e",
   "metadata": {},
   "outputs": [
    {
     "name": "stdout",
     "output_type": "stream",
     "text": [
      "tensor([[0.9999, 1.0000, 0.9997, 1.0000, 0.9549],\n",
      "        [0.9999, 1.0000, 1.0000, 0.9999, 0.9981],\n",
      "        [0.9999, 0.9999, 0.9999, 0.9999, 0.9999],\n",
      "        [1.0000, 1.0000, 1.0000, 0.9999, 1.0000],\n",
      "        [0.9999, 1.0000, 1.0000, 1.0000, 1.0000]], grad_fn=<MaxBackward0>)\n",
      "tensor([[3, 1, 1, 1, 3],\n",
      "        [3, 3, 0, 3, 1],\n",
      "        [0, 3, 2, 2, 3],\n",
      "        [1, 0, 0, 2, 3],\n",
      "        [0, 0, 3, 3, 3]])\n"
     ]
    },
    {
     "data": {
      "text/plain": [
       "<matplotlib.image.AxesImage at 0x7f5378c461c0>"
      ]
     },
     "execution_count": 12,
     "metadata": {},
     "output_type": "execute_result"
    },
    {
     "data": {
      "image/png": "[encoded data removed]",
      "text/plain": [
       "<Figure size 432x288 with 1 Axes>"
      ]
     },
     "metadata": {
      "needs_background": "light"
     },
     "output_type": "display_data"
    }
   ],
   "source": [
    "pixel_logits = model.forward(x[None,:])\n",
    "sm = nn.Softmax(dim=0)\n",
    "pixel_probs = sm(pixel_logits)\n",
    "probs, out = torch.max(pixel_probs, dim=0)\n",
    "print(probs)\n",
    "print(out)\n",
    "plt.imshow(out)"
   ]
  },
  {
   "cell_type": "code",
   "execution_count": 13,
   "id": "306240af",
   "metadata": {
    "scrolled": true
   },
   "outputs": [
    {
     "data": {
      "text/plain": [
       "<matplotlib.image.AxesImage at 0x7f5378ba42b0>"
      ]
     },
     "execution_count": 13,
     "metadata": {},
     "output_type": "execute_result"
    },
    {
     "data": {
      "image/png": "[encoded data removed]",
      "text/plain": [
       "<Figure size 432x288 with 1 Axes>"
      ]
     },
     "metadata": {
      "needs_background": "light"
     },
     "output_type": "display_data"
    }
   ],
   "source": [
    "plt.imshow(label)"
   ]
  },
  {
   "cell_type": "code",
   "execution_count": 14,
   "id": "a8a420a2",
   "metadata": {},
   "outputs": [],
   "source": [
    "# save params\n",
    "# torch.save(model.state_dict(), 'SmallSegNet.pt')\n",
    "\n",
    "# load params\n",
    "# model = SmallSegNet()\n",
    "# model.load_state_dict(torch.load('SmallSegNet.pt'))\n",
    "# model.eval()"
   ]
  }
 ],
 "metadata": {
  "kernelspec": {
   "display_name": "Python 3 (ipykernel)",
   "language": "python",
   "name": "python3"
  },
  "language_info": {
   "codemirror_mode": {
    "name": "ipython",
    "version": 3
   },
   "file_extension": ".py",
   "mimetype": "text/x-python",
   "name": "python",
   "nbconvert_exporter": "python",
   "pygments_lexer": "ipython3",
   "version": "3.8.10"
  }
 },
 "nbformat": 4,
 "nbformat_minor": 5
}
