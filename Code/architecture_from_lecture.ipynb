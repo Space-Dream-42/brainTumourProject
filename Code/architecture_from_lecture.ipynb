{
 "cells": [
  {
   "cell_type": "code",
   "execution_count": 1,
   "id": "a7f80684",
   "metadata": {},
   "outputs": [],
   "source": [
    "import torch\n",
    "import torchvision as tv\n",
    "import torchvision.transforms as transforms\n",
    "from torchvision.datasets.vision import StandardTransform\n",
    "from torch.utils.data import DataLoader\n",
    "from torchvision.utils import make_grid\n",
    "\n",
    "import torch.nn as nn\n",
    "import torch.optim as optim\n",
    "import torch.nn.functional as F\n",
    "\n",
    "import numpy as np\n",
    "import pandas as pd \n",
    "from PIL import Image\n",
    "import matplotlib.pyplot as plt \n",
    "%matplotlib inline \n",
    "import json\n",
    "import os\n",
    "\n",
    "import SimpleITK as sitk\n",
    "\n",
    "#from Dataset_Utils import BraTS_TrainingDataset\n",
    "#from Dataset_Utils import BraTS_TestDataset\n",
    "#from Dataset_Utils import plot_batch"
   ]
  },
  {
   "cell_type": "markdown",
   "id": "c8ecde9f",
   "metadata": {},
   "source": [
    "## Architecture"
   ]
  },
  {
   "cell_type": "markdown",
   "id": "2488ae7a",
   "metadata": {},
   "source": [
    "<img src=\"Lecture_Architecture.png\" alt=\"Lecture_Architecture\" width=\"400\"/>"
   ]
  },
  {
   "cell_type": "code",
   "execution_count": 2,
   "id": "4b4d0986",
   "metadata": {
    "scrolled": true
   },
   "outputs": [
    {
     "name": "stdout",
     "output_type": "stream",
     "text": [
      "input img:\n",
      "[[0 0 1 0 0]\n",
      " [1 1 0 0 1]\n",
      " [0 0 1 1 0]\n",
      " [1 0 1 1 0]\n",
      " [1 0 1 1 1]]\n"
     ]
    },
    {
     "data": {
      "text/plain": [
       "tensor([[[ 0.0413,  0.0571, -0.0997,  0.0198, -0.1223],\n",
       "         [ 0.1456,  0.1739,  0.2964,  0.2903, -0.1197],\n",
       "         [ 0.1347,  0.2592,  0.2673,  0.2048, -0.0438],\n",
       "         [ 0.1642,  0.1689,  0.2810,  0.2325,  0.0128],\n",
       "         [-0.0700,  0.0719,  0.0996,  0.1264,  0.0419]],\n",
       "\n",
       "        [[ 0.1570,  0.2588,  0.1248,  0.1236,  0.0873],\n",
       "         [ 0.0662, -0.1238, -0.0896,  0.0719, -0.0793],\n",
       "         [ 0.1347, -0.1356,  0.1285, -0.0952, -0.2496],\n",
       "         [ 0.1424, -0.1869,  0.1257, -0.1513, -0.1662],\n",
       "         [-0.0091, -0.2744, -0.1468, -0.2276, -0.0937]],\n",
       "\n",
       "        [[-0.0357,  0.1466,  0.1671,  0.0828,  0.2482],\n",
       "         [ 0.0511,  0.1596,  0.0040,  0.2370,  0.3132],\n",
       "         [ 0.0318,  0.0936,  0.3153,  0.1655,  0.0958],\n",
       "         [-0.0062,  0.2156,  0.1487,  0.1155,  0.1994],\n",
       "         [ 0.1673,  0.2384,  0.0726,  0.1179,  0.1024]],\n",
       "\n",
       "        [[ 0.1378,  0.2131,  0.3136,  0.1677,  0.1810],\n",
       "         [-0.0130,  0.0499, -0.1145, -0.0363,  0.2648],\n",
       "         [-0.0543, -0.0592, -0.0282,  0.0515,  0.1517],\n",
       "         [-0.0399,  0.0604, -0.0445, -0.0548,  0.0706],\n",
       "         [-0.0107, -0.0963, -0.1049, -0.1716,  0.0052]]],\n",
       "       grad_fn=<SqueezeBackward1>)"
      ]
     },
     "execution_count": 2,
     "metadata": {},
     "output_type": "execute_result"
    }
   ],
   "source": [
    "class SmallSegNet(nn.Module):\n",
    "    \n",
    "    def __init__(self, in_channels=4, num_classes=4, img_height=5, img_width=5):\n",
    "        super(SmallSegNet, self).__init__()\n",
    "        self.sm = nn.Softmax(dim=0)\n",
    "        self.layers = nn.Sequential(\n",
    "        \n",
    "        # decrease x,y and increase channels\n",
    "            # Conv\n",
    "            nn.Conv2d(in_channels,4,2,stride=1,padding=0),\n",
    "            # nn.Batchnorm\n",
    "            nn.ReLU(),\n",
    "        \n",
    "        # change number of channels\n",
    "            # 1x1 Conv\n",
    "            nn.Conv2d(4,num_classes*2,1,stride=1,padding=0),\n",
    "            # nn.Batchnorm\n",
    "            nn.ReLU(),\n",
    "        \n",
    "        # increase x,y and decrease channels\n",
    "            # Transpose-Conv\n",
    "            nn.ConvTranspose2d(num_classes*2, num_classes, 2, stride=1, padding=0)\n",
    "        )\n",
    "    \n",
    "    def forward(self, x):\n",
    "        x = torch.FloatTensor(x)\n",
    "        x = self.layers(x)\n",
    "        # x = self.sm(x)\n",
    "        # Skip Softmax because Torch CrossEntropyLoss\n",
    "        # takes logits and already applies Softmax.\n",
    "        return x\n",
    "\n",
    "# summary\n",
    "# print(SmallSegNet())\n",
    "\n",
    "model = SmallSegNet(in_channels=1, num_classes=4, img_height=5, img_width=5)\n",
    "\n",
    "x = np.random.randint(2, size=(5,5))\n",
    "print('input img:')\n",
    "print(x)\n",
    "\n",
    "y_hat = model.forward(x[None,:])\n",
    "y_hat"
   ]
  },
  {
   "cell_type": "code",
   "execution_count": 3,
   "id": "272cc854",
   "metadata": {},
   "outputs": [
    {
     "name": "stdout",
     "output_type": "stream",
     "text": [
      "tensor([[0.1570, 0.2588, 0.3136, 0.1677, 0.2482],\n",
      "        [0.1456, 0.1739, 0.2964, 0.2903, 0.3132],\n",
      "        [0.1347, 0.2592, 0.3153, 0.2048, 0.1517],\n",
      "        [0.1642, 0.2156, 0.2810, 0.2325, 0.1994],\n",
      "        [0.1673, 0.2384, 0.0996, 0.1264, 0.1024]], grad_fn=<MaxBackward0>)\n",
      "tensor([[1, 1, 3, 3, 2],\n",
      "        [0, 0, 0, 0, 2],\n",
      "        [1, 0, 2, 0, 3],\n",
      "        [0, 2, 0, 0, 2],\n",
      "        [2, 2, 0, 0, 2]])\n"
     ]
    },
    {
     "data": {
      "text/plain": [
       "<matplotlib.image.AxesImage at 0x7f2646c973a0>"
      ]
     },
     "execution_count": 3,
     "metadata": {},
     "output_type": "execute_result"
    },
    {
     "data": {
      "image/png": "[encoded data removed]",
      "text/plain": [
       "<Figure size 432x288 with 1 Axes>"
      ]
     },
     "metadata": {
      "needs_background": "light"
     },
     "output_type": "display_data"
    }
   ],
   "source": [
    "probs, out = torch.max(y_hat, dim=0)\n",
    "print(probs)\n",
    "print(out)\n",
    "plt.imshow(out)"
   ]
  },
  {
   "cell_type": "code",
   "execution_count": 4,
   "id": "36651fc7",
   "metadata": {},
   "outputs": [],
   "source": [
    "# TODO:\n",
    "# make dataset\n",
    "# train\n",
    "\n",
    "# save params\n",
    "# torch.save(model.state_dict(), 'SmallSegNet.pt')\n",
    "\n",
    "# load params\n",
    "# model = SmallSegNet()\n",
    "# model.load_state_dict(torch.load('SmallSegNet.pt'))\n",
    "# model.eval()"
   ]
  },
  {
   "cell_type": "markdown",
   "id": "10ebbd69",
   "metadata": {},
   "source": [
    "## Crossentropy Loss"
   ]
  },
  {
   "cell_type": "code",
   "execution_count": 5,
   "id": "9e43e1f7",
   "metadata": {},
   "outputs": [],
   "source": [
    "label =  torch.tensor(\n",
    "       [[3, 1, 1, 1, 3],\n",
    "        [3, 3, 0, 3, 3],\n",
    "        [0, 3, 3, 3, 3],\n",
    "        [1, 3, 0, 3, 3],\n",
    "        [0, 3, 3, 3, 3]])"
   ]
  },
  {
   "cell_type": "code",
   "execution_count": 6,
   "id": "fac8b25e",
   "metadata": {},
   "outputs": [],
   "source": [
    "# Crossentropy Loss\n",
    "criterion = nn.CrossEntropyLoss()"
   ]
  },
  {
   "cell_type": "code",
   "execution_count": 7,
   "id": "03ed9a67",
   "metadata": {},
   "outputs": [
    {
     "name": "stdout",
     "output_type": "stream",
     "text": [
      "torch.Size([4, 5, 5])\n",
      "torch.Size([1, 4, 5, 5])\n",
      "torch.Size([5, 5])\n",
      "torch.Size([1, 5, 5])\n"
     ]
    }
   ],
   "source": [
    "print(y_hat.shape)\n",
    "y_hat_batch = y_hat[None,:]\n",
    "print(y_hat_batch.shape)\n",
    "\n",
    "print(label.shape)\n",
    "label_batch = label[None,:]\n",
    "print(label_batch.shape)"
   ]
  },
  {
   "cell_type": "code",
   "execution_count": 8,
   "id": "a0359fdf",
   "metadata": {},
   "outputs": [
    {
     "data": {
      "text/plain": [
       "tensor(1.3896, grad_fn=<NllLoss2DBackward0>)"
      ]
     },
     "execution_count": 8,
     "metadata": {},
     "output_type": "execute_result"
    }
   ],
   "source": [
    "loss = criterion(y_hat_batch, label_batch)\n",
    "loss"
   ]
  },
  {
   "cell_type": "code",
   "execution_count": null,
   "id": "060d923d",
   "metadata": {},
   "outputs": [],
   "source": []
  }
 ],
 "metadata": {
  "kernelspec": {
   "display_name": "Python 3 (ipykernel)",
   "language": "python",
   "name": "python3"
  },
  "language_info": {
   "codemirror_mode": {
    "name": "ipython",
    "version": 3
   },
   "file_extension": ".py",
   "mimetype": "text/x-python",
   "name": "python",
   "nbconvert_exporter": "python",
   "pygments_lexer": "ipython3",
   "version": "3.8.10"
  }
 },
 "nbformat": 4,
 "nbformat_minor": 5
}
