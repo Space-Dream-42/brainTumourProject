{
 "cells": [
  {
   "cell_type": "markdown",
   "id": "63f30a4e",
   "metadata": {},
   "source": [
    "Simple Segmentation Net"
   ]
  },
  {
   "cell_type": "code",
   "execution_count": 1,
   "id": "3de382cc",
   "metadata": {},
   "outputs": [],
   "source": [
    "# overview\n",
    "Scans = {\n",
    "    0: 'FLAIR',\n",
    "    1: 'T1w',\n",
    "    2: 't1gd',\n",
    "    3: 'T2w'}\n",
    "\n",
    "Labels = {\n",
    "    0: 'background',\n",
    "    1: 'edema',\n",
    "    2: 'non-enhancing tumor',\n",
    "    3: 'enhancing tumour'}"
   ]
  },
  {
   "cell_type": "code",
   "execution_count": 2,
   "id": "dee409ff",
   "metadata": {},
   "outputs": [],
   "source": [
    "import torch\n",
    "import torchvision as tv\n",
    "import torchvision.transforms as transforms\n",
    "from torchvision.datasets.vision import StandardTransform\n",
    "from torch.utils.data import DataLoader\n",
    "from torchvision.utils import make_grid\n",
    "\n",
    "import torch.nn as nn\n",
    "import torch.optim as optim\n",
    "import torch.nn.functional as F\n",
    "\n",
    "import numpy as np\n",
    "import pandas as pd \n",
    "from PIL import Image\n",
    "import matplotlib.pyplot as plt \n",
    "%matplotlib inline \n",
    "import json\n",
    "import os\n",
    "os.environ[\"KMP_DUPLICATE_LIB_OK\"]=\"TRUE\"\n",
    "import SimpleITK as sitk\n",
    "\n",
    "from Dataset_Utils import BraTS_TrainingDataset\n",
    "# from Dataset_Utils import BraTS_TestDataset\n",
    "from Dataset_Utils import plot_batch"
   ]
  },
  {
   "cell_type": "code",
   "execution_count": 3,
   "id": "4ce2f1ea",
   "metadata": {},
   "outputs": [],
   "source": [
    "class DiceLoss(nn.Module):\n",
    "    \"\"\"\n",
    "    Computes the dice-loss for each output-channel of the model.\n",
    "    The label has to be split into 4 images to achieve this.\n",
    "    \"\"\"\n",
    "    def __init__(self, weight=None, size_average=True):\n",
    "        super(DiceLoss, self).__init__()\n",
    "\n",
    "    def forward(self, inputs, targets):\n",
    "        loss_count = torch.zeros(4)\n",
    "        sm = nn.Softmax(dim=1)\n",
    "        inputs = sm(inputs.float())\n",
    "        for i in range(len(inputs[0])):\n",
    "            current_class = targets.clone()\n",
    "            current_class[current_class != i] = 10\n",
    "            current_class[current_class == i] = 11\n",
    "            current_class = current_class-10\n",
    "            loss_count[i] = dice_loss_one_image(inputs[:, i], current_class)*(i+1)\n",
    "        return loss_count.sum() / 4\n",
    "\n",
    "\n",
    "def dice_loss_one_image(inputs, targets, smooth=1):\n",
    "\n",
    "    # flatten label and prediction tensors\n",
    "    inputs = inputs.contiguous().view(-1)\n",
    "    targets = targets.contiguous().view(-1)\n",
    "\n",
    "    intersection = (inputs * targets).sum()\n",
    "    dice = (2. * intersection + smooth) / (inputs.sum() + targets.sum() + smooth)\n",
    "\n",
    "    return (1 - dice)"
   ]
  },
  {
   "cell_type": "markdown",
   "id": "02690558",
   "metadata": {},
   "source": [
    "Data Loading"
   ]
  },
  {
   "cell_type": "code",
   "execution_count": 4,
   "id": "b6bb6a87",
   "metadata": {},
   "outputs": [
    {
     "name": "stdout",
     "output_type": "stream",
     "text": [
      "C:/Users/adria/Deep_Learning_Project/Task01_BrainTumour/cropped/imagesTr\n",
      "C:/Users/adria/Deep_Learning_Project/Task01_BrainTumour/cropped/labelsTr\n",
      "torch.Size([2, 4, 155, 192, 192])\n",
      "torch.Size([2, 155, 192, 192])\n"
     ]
    }
   ],
   "source": [
    "# PATH\n",
    "dataset_path = 'C:/Users/adria/Deep_Learning_Project/Task01_BrainTumour/cropped/'\n",
    "\n",
    "train_data = BraTS_TrainingDataset(dataset_path)\n",
    "\n",
    "trainloader = torch.utils.data.DataLoader(\n",
    "    train_data, batch_size=2, shuffle=True, num_workers=0)\n",
    "\n",
    "train_iter = iter(trainloader)\n",
    "\n",
    "sample_batch = train_iter.next()\n",
    "print(sample_batch['image'].shape)\n",
    "print(sample_batch['label'].shape)\n",
    "\n",
    "# plot_batch(sample_batch, num_rows=2, height=75)"
   ]
  },
  {
   "cell_type": "markdown",
   "id": "850a29b0",
   "metadata": {},
   "source": [
    "Create the model"
   ]
  },
  {
   "cell_type": "code",
   "execution_count": 5,
   "id": "7b6ba542",
   "metadata": {},
   "outputs": [
    {
     "name": "stdout",
     "output_type": "stream",
     "text": [
      "SmallSegNet(\n",
      "  (sm): Softmax(dim=1)\n",
      "  (layers): Sequential(\n",
      "    (0): Conv3d(4, 8, kernel_size=(2, 2, 2), stride=(1, 1, 1))\n",
      "    (1): ReLU()\n",
      "    (2): Conv3d(8, 8, kernel_size=(1, 1, 1), stride=(1, 1, 1))\n",
      "    (3): ReLU()\n",
      "    (4): ConvTranspose3d(8, 4, kernel_size=(2, 2, 2), stride=(1, 1, 1))\n",
      "  )\n",
      ")\n"
     ]
    }
   ],
   "source": [
    "class SmallSegNet(nn.Module):\n",
    "    \n",
    "    def __init__(self, in_channels=4, num_classes=4, img_height=5, img_width=5):\n",
    "        super(SmallSegNet, self).__init__()\n",
    "        self.sm = nn.Softmax(dim=1)\n",
    "        self.layers = nn.Sequential(\n",
    "        \n",
    "        # decrease x,y and increase channels\n",
    "            # Conv\n",
    "           nn.Conv3d(in_channels,8,2,stride=1,padding=0),\n",
    "            # nn.Batchnorm\n",
    "            nn.ReLU(),\n",
    "        \n",
    "        # change number of channels\n",
    "            # 1x1 Conv\n",
    "            nn.Conv3d(8,8,1,stride=1,padding=0),\n",
    "            # nn.Batchnorm\n",
    "            nn.ReLU(),\n",
    "        \n",
    "        # increase x,y and decrease channels\n",
    "            # Transpose-Conv\n",
    "            nn.ConvTranspose3d(8, num_classes, 2, stride=1, padding=0)\n",
    "        )\n",
    "    \n",
    "    def forward(self, x):\n",
    "        #x = torch.FloatTensor(x)\n",
    "        x = self.layers(x)\n",
    "        # x = self.sm(x)\n",
    "        # Skip Softmax because Torch CrossEntropyLoss\n",
    "        # takes logits and already applies Softmax.\n",
    "        return x\n",
    "\n",
    "# summary\n",
    "print(SmallSegNet())\n",
    "\n",
    "model = SmallSegNet(in_channels=4, num_classes=4, img_height=240, img_width=240).to('cuda:0')"
   ]
  },
  {
   "cell_type": "code",
   "execution_count": 6,
   "id": "840284e6",
   "metadata": {},
   "outputs": [
    {
     "name": "stdout",
     "output_type": "stream",
     "text": [
      "torch.Size([2, 4, 155, 192, 192])\n"
     ]
    },
    {
     "data": {
      "text/plain": [
       "torch.Size([2, 4, 155, 192, 192])"
      ]
     },
     "execution_count": 6,
     "metadata": {},
     "output_type": "execute_result"
    }
   ],
   "source": [
    "x = sample_batch['image'].to('cuda:0')\n",
    "print(x.shape)\n",
    "\n",
    "y_hat = model.forward(x)\n",
    "y_hat.shape"
   ]
  },
  {
   "cell_type": "code",
   "execution_count": 7,
   "id": "76641117",
   "metadata": {},
   "outputs": [
    {
     "name": "stdout",
     "output_type": "stream",
     "text": [
      "torch.Size([2, 155, 192, 192])\n"
     ]
    },
    {
     "data": {
      "text/plain": [
       "<matplotlib.image.AxesImage at 0x1c2228564c0>"
      ]
     },
     "execution_count": 7,
     "metadata": {},
     "output_type": "execute_result"
    },
    {
     "data": {
      "image/png": "[encoded data removed]",
      "text/plain": [
       "<Figure size 432x288 with 1 Axes>"
      ]
     },
     "metadata": {
      "needs_background": "light"
     },
     "output_type": "display_data"
    }
   ],
   "source": [
    "probs, out = torch.max(y_hat, dim=1)\n",
    "print(out.shape)\n",
    "plt.imshow(out[0, 70, :, :].cpu())"
   ]
  },
  {
   "cell_type": "markdown",
   "id": "0dd4912e",
   "metadata": {},
   "source": [
    "Crossentropy Loss"
   ]
  },
  {
   "cell_type": "code",
   "execution_count": 8,
   "id": "b14859df",
   "metadata": {},
   "outputs": [],
   "source": [
    "criterion = DiceLoss()"
   ]
  },
  {
   "cell_type": "code",
   "execution_count": 9,
   "id": "4f36297f",
   "metadata": {},
   "outputs": [
    {
     "name": "stdout",
     "output_type": "stream",
     "text": [
      "torch.Size([2, 4, 155, 192, 192])\n",
      "torch.Size([2, 155, 192, 192])\n",
      "torch.Size([2, 4, 155, 192, 192])\n"
     ]
    },
    {
     "data": {
      "text/plain": [
       "tensor(0.9176, grad_fn=<DivBackward0>)"
      ]
     },
     "execution_count": 9,
     "metadata": {},
     "output_type": "execute_result"
    }
   ],
   "source": [
    "print(sample_batch['image'].shape)\n",
    "print(sample_batch['label'].shape)\n",
    "print(y_hat.shape)\n",
    "\n",
    "loss = criterion(y_hat, sample_batch['label'].long().to('cuda:0'))\n",
    "loss"
   ]
  },
  {
   "cell_type": "markdown",
   "id": "7c3c1f5b",
   "metadata": {},
   "source": [
    "Training loop: Overfit to one sample"
   ]
  },
  {
   "cell_type": "code",
   "execution_count": 10,
   "id": "152625b4",
   "metadata": {},
   "outputs": [],
   "source": [
    "optim = torch.optim.Adam(model.parameters(), lr=0.001)"
   ]
  },
  {
   "cell_type": "code",
   "execution_count": 11,
   "id": "524a2ecd",
   "metadata": {},
   "outputs": [],
   "source": [
    "# training loop\n",
    "epochs = 300\n",
    "losses = []\n",
    "for epoch in range(epochs):\n",
    "    # get output\n",
    "    voxel_logits_batch = model.forward(sample_batch['image'].to('cuda:0'))\n",
    "    \n",
    "    # get loss\n",
    "    loss = criterion(voxel_logits_batch, sample_batch['label'].long().to('cuda:0'))\n",
    "    del voxel_logits_batch\n",
    "    losses.append(loss)\n",
    "    \n",
    "    # backprop loss\n",
    "    optim.zero_grad()\n",
    "    loss.backward()\n",
    "    optim.step()"
   ]
  },
  {
   "cell_type": "code",
   "execution_count": 12,
   "id": "ab50662f",
   "metadata": {
    "scrolled": true
   },
   "outputs": [
    {
     "data": {
      "text/plain": [
       "[<matplotlib.lines.Line2D at 0x1c22b109190>]"
      ]
     },
     "execution_count": 12,
     "metadata": {},
     "output_type": "execute_result"
    },
    {
     "data": {
      "image/png": "[encoded data removed]",
      "text/plain": [
       "<Figure size 432x288 with 1 Axes>"
      ]
     },
     "metadata": {
      "needs_background": "light"
     },
     "output_type": "display_data"
    }
   ],
   "source": [
    "losses_array = [l.cpu().detach().numpy() for l in losses]\n",
    "plt.plot(losses_array)"
   ]
  },
  {
   "cell_type": "code",
   "execution_count": 13,
   "id": "46b1c8c9",
   "metadata": {},
   "outputs": [
    {
     "name": "stdout",
     "output_type": "stream",
     "text": [
      "[array(0.91760564, dtype=float32), array(0.9165622, dtype=float32), array(0.9137312, dtype=float32), array(0.9009853, dtype=float32), array(0.87966794, dtype=float32), array(0.86137813, dtype=float32), array(0.85827214, dtype=float32), array(0.8570113, dtype=float32), array(0.85612255, dtype=float32), array(0.8553965, dtype=float32), array(0.854758, dtype=float32), array(0.8542009, dtype=float32), array(0.8536955, dtype=float32), array(0.85322785, dtype=float32), array(0.8527822, dtype=float32), array(0.85234237, dtype=float32), array(0.85190856, dtype=float32), array(0.8514925, dtype=float32), array(0.85108984, dtype=float32), array(0.85071075, dtype=float32), array(0.8503504, dtype=float32), array(0.84999937, dtype=float32), array(0.849623, dtype=float32), array(0.84919965, dtype=float32), array(0.8487519, dtype=float32), array(0.84827304, dtype=float32), array(0.8477991, dtype=float32), array(0.8473541, dtype=float32), array(0.8468992, dtype=float32), array(0.84645957, dtype=float32), array(0.8460184, dtype=float32), array(0.84560055, dtype=float32), array(0.84519744, dtype=float32), array(0.8448072, dtype=float32), array(0.8444357, dtype=float32), array(0.8441162, dtype=float32), array(0.84387994, dtype=float32), array(0.84373724, dtype=float32), array(0.84362006, dtype=float32), array(0.84342384, dtype=float32), array(0.84313846, dtype=float32), array(0.8428107, dtype=float32), array(0.842488, dtype=float32), array(0.8421662, dtype=float32), array(0.8418381, dtype=float32), array(0.84152204, dtype=float32), array(0.84124, dtype=float32), array(0.8409748, dtype=float32), array(0.8407333, dtype=float32), array(0.84050363, dtype=float32), array(0.84026456, dtype=float32), array(0.8400134, dtype=float32), array(0.83974606, dtype=float32), array(0.83946025, dtype=float32), array(0.83915246, dtype=float32), array(0.83884394, dtype=float32), array(0.8385782, dtype=float32), array(0.83827144, dtype=float32), array(0.83797604, dtype=float32), array(0.8377079, dtype=float32), array(0.837437, dtype=float32), array(0.8371567, dtype=float32), array(0.8368663, dtype=float32), array(0.8365654, dtype=float32), array(0.83626115, dtype=float32), array(0.8359497, dtype=float32), array(0.8356202, dtype=float32), array(0.8352771, dtype=float32), array(0.8349289, dtype=float32), array(0.83458525, dtype=float32), array(0.83425546, dtype=float32), array(0.83392394, dtype=float32), array(0.83358777, dtype=float32), array(0.83324444, dtype=float32), array(0.832896, dtype=float32), array(0.8325418, dtype=float32), array(0.832191, dtype=float32), array(0.831847, dtype=float32), array(0.8315086, dtype=float32), array(0.83118755, dtype=float32), array(0.83087283, dtype=float32), array(0.83055997, dtype=float32), array(0.8302486, dtype=float32), array(0.82993615, dtype=float32), array(0.8296237, dtype=float32), array(0.829316, dtype=float32), array(0.8290124, dtype=float32), array(0.8287091, dtype=float32), array(0.8284055, dtype=float32), array(0.8281032, dtype=float32), array(0.8278004, dtype=float32), array(0.82749534, dtype=float32), array(0.8271905, dtype=float32), array(0.82688713, dtype=float32), array(0.826584, dtype=float32), array(0.826278, dtype=float32), array(0.82597077, dtype=float32), array(0.8256656, dtype=float32), array(0.8253598, dtype=float32), array(0.8250499, dtype=float32), array(0.82474065, dtype=float32), array(0.8244324, dtype=float32), array(0.82412124, dtype=float32), array(0.82380795, dtype=float32), array(0.8234954, dtype=float32), array(0.8231815, dtype=float32), array(0.82286507, dtype=float32), array(0.82254744, dtype=float32), array(0.82222843, dtype=float32), array(0.8219076, dtype=float32), array(0.82158446, dtype=float32), array(0.82125944, dtype=float32), array(0.82093334, dtype=float32), array(0.82060605, dtype=float32), array(0.8202772, dtype=float32), array(0.81994677, dtype=float32), array(0.81961465, dtype=float32), array(0.8192807, dtype=float32), array(0.8189448, dtype=float32), array(0.81860715, dtype=float32), array(0.8182679, dtype=float32), array(0.81792694, dtype=float32), array(0.8175846, dtype=float32), array(0.8172406, dtype=float32), array(0.81689495, dtype=float32), array(0.8165475, dtype=float32), array(0.8161982, dtype=float32), array(0.81584734, dtype=float32), array(0.8154947, dtype=float32), array(0.8151405, dtype=float32), array(0.8147846, dtype=float32), array(0.8144271, dtype=float32), array(0.814068, dtype=float32), array(0.8137072, dtype=float32), array(0.81334716, dtype=float32), array(0.8130024, dtype=float32), array(0.8126558, dtype=float32), array(0.81230867, dtype=float32), array(0.8119604, dtype=float32), array(0.8116104, dtype=float32), array(0.8112595, dtype=float32), array(0.81090754, dtype=float32), array(0.8105541, dtype=float32), array(0.81019926, dtype=float32), array(0.8098437, dtype=float32), array(0.80948716, dtype=float32), array(0.8091292, dtype=float32), array(0.8087702, dtype=float32), array(0.80841047, dtype=float32), array(0.80804944, dtype=float32), array(0.80768716, dtype=float32), array(0.8073237, dtype=float32), array(0.8069593, dtype=float32), array(0.80659366, dtype=float32), array(0.80622685, dtype=float32), array(0.8058592, dtype=float32), array(0.80549085, dtype=float32), array(0.80512166, dtype=float32), array(0.8047514, dtype=float32), array(0.8043802, dtype=float32), array(0.8040079, dtype=float32), array(0.8036348, dtype=float32), array(0.80326086, dtype=float32), array(0.80288637, dtype=float32), array(0.8025111, dtype=float32), array(0.80213505, dtype=float32), array(0.80175865, dtype=float32), array(0.80138147, dtype=float32), array(0.8010037, dtype=float32), array(0.8006255, dtype=float32), array(0.8002471, dtype=float32), array(0.7998684, dtype=float32), array(0.7994894, dtype=float32), array(0.7991103, dtype=float32), array(0.79873097, dtype=float32), array(0.79835135, dtype=float32), array(0.7979716, dtype=float32), array(0.7975919, dtype=float32), array(0.79721224, dtype=float32), array(0.7968325, dtype=float32), array(0.79645264, dtype=float32), array(0.79607284, dtype=float32), array(0.7956932, dtype=float32), array(0.7953136, dtype=float32), array(0.7949343, dtype=float32), array(0.79455507, dtype=float32), array(0.79417586, dtype=float32), array(0.793797, dtype=float32), array(0.7934183, dtype=float32), array(0.7930399, dtype=float32), array(0.7926617, dtype=float32), array(0.7922839, dtype=float32), array(0.7919064, dtype=float32), array(0.79152906, dtype=float32), array(0.79115194, dtype=float32), array(0.7907752, dtype=float32), array(0.7903986, dtype=float32), array(0.79002255, dtype=float32), array(0.7896468, dtype=float32), array(0.78927135, dtype=float32), array(0.7888968, dtype=float32), array(0.788523, dtype=float32), array(0.7881499, dtype=float32), array(0.78777725, dtype=float32), array(0.7874053, dtype=float32), array(0.787034, dtype=float32), array(0.78666353, dtype=float32), array(0.78629375, dtype=float32), array(0.78592503, dtype=float32), array(0.78555703, dtype=float32), array(0.78518975, dtype=float32), array(0.78482324, dtype=float32), array(0.7844577, dtype=float32), array(0.78409326, dtype=float32), array(0.7837298, dtype=float32), array(0.783367, dtype=float32), array(0.78300554, dtype=float32), array(0.7826453, dtype=float32), array(0.7822861, dtype=float32), array(0.7819278, dtype=float32), array(0.7815707, dtype=float32), array(0.7812148, dtype=float32), array(0.7808599, dtype=float32), array(0.78050566, dtype=float32), array(0.7801318, dtype=float32), array(0.779752, dtype=float32), array(0.77936864, dtype=float32), array(0.7789834, dtype=float32), array(0.7785972, dtype=float32), array(0.77821046, dtype=float32), array(0.7778238, dtype=float32), array(0.7774376, dtype=float32), array(0.7770524, dtype=float32), array(0.77666825, dtype=float32), array(0.7762852, dtype=float32), array(0.7759037, dtype=float32), array(0.77552354, dtype=float32), array(0.7751453, dtype=float32), array(0.7747686, dtype=float32), array(0.7743938, dtype=float32), array(0.77402085, dtype=float32), array(0.7736497, dtype=float32), array(0.77328056, dtype=float32), array(0.77291346, dtype=float32), array(0.7725483, dtype=float32), array(0.77218527, dtype=float32), array(0.7718241, dtype=float32), array(0.7714653, dtype=float32), array(0.7711084, dtype=float32), array(0.7707533, dtype=float32), array(0.77040035, dtype=float32), array(0.7700493, dtype=float32), array(0.7697001, dtype=float32), array(0.76935285, dtype=float32), array(0.76900744, dtype=float32), array(0.76866394, dtype=float32), array(0.76832235, dtype=float32), array(0.7679826, dtype=float32), array(0.7676447, dtype=float32), array(0.76730883, dtype=float32), array(0.7669745, dtype=float32), array(0.7666421, dtype=float32), array(0.7663112, dtype=float32), array(0.7659821, dtype=float32), array(0.76565444, dtype=float32), array(0.76532876, dtype=float32), array(0.765005, dtype=float32), array(0.76468235, dtype=float32), array(0.76436144, dtype=float32), array(0.7640422, dtype=float32), array(0.7637246, dtype=float32), array(0.7634085, dtype=float32), array(0.7630937, dtype=float32), array(0.76278067, dtype=float32), array(0.76246905, dtype=float32), array(0.762159, dtype=float32), array(0.7618504, dtype=float32), array(0.761543, dtype=float32), array(0.76123714, dtype=float32), array(0.7609325, dtype=float32), array(0.7606293, dtype=float32), array(0.76032734, dtype=float32), array(0.7600267, dtype=float32), array(0.7597273, dtype=float32), array(0.75942916, dtype=float32), array(0.75913215, dtype=float32), array(0.7588363, dtype=float32), array(0.75854164, dtype=float32), array(0.75824785, dtype=float32), array(0.7579553, dtype=float32), array(0.7576637, dtype=float32), array(0.7573734, dtype=float32), array(0.7570839, dtype=float32), array(0.75679535, dtype=float32), array(0.7565079, dtype=float32), array(0.7562213, dtype=float32), array(0.7559358, dtype=float32), array(0.75565094, dtype=float32), array(0.75536704, dtype=float32), array(0.7550839, dtype=float32)]\n"
     ]
    }
   ],
   "source": [
    "print(losses_array)"
   ]
  },
  {
   "cell_type": "markdown",
   "id": "640dad7d",
   "metadata": {},
   "source": [
    "Predict"
   ]
  },
  {
   "cell_type": "code",
   "execution_count": 14,
   "id": "8b56b6d1",
   "metadata": {},
   "outputs": [],
   "source": [
    "voxel_logits_batch = model.forward(sample_batch['image'].to('cuda:0'))"
   ]
  },
  {
   "cell_type": "code",
   "execution_count": 15,
   "id": "605a907d",
   "metadata": {},
   "outputs": [
    {
     "data": {
      "text/plain": [
       "torch.Size([2, 4, 155, 192, 192])"
      ]
     },
     "execution_count": 15,
     "metadata": {},
     "output_type": "execute_result"
    }
   ],
   "source": [
    "voxel_probs_batch = model.sm(voxel_logits_batch)\n",
    "voxel_probs_batch.shape"
   ]
  },
  {
   "cell_type": "code",
   "execution_count": 16,
   "id": "3c315402",
   "metadata": {},
   "outputs": [
    {
     "name": "stdout",
     "output_type": "stream",
     "text": [
      "tensor([[[0.4080, 0.5078, 0.5078,  ..., 0.5078, 0.5078, 0.4406],\n",
      "         [0.5001, 0.6480, 0.6480,  ..., 0.6480, 0.6480, 0.4974],\n",
      "         [0.5001, 0.6480, 0.6480,  ..., 0.6480, 0.6480, 0.4974],\n",
      "         ...,\n",
      "         [0.5001, 0.6480, 0.6480,  ..., 0.6480, 0.6480, 0.4974],\n",
      "         [0.5001, 0.6480, 0.6480,  ..., 0.6480, 0.6480, 0.4974],\n",
      "         [0.4316, 0.4920, 0.4920,  ..., 0.4920, 0.4920, 0.4014]],\n",
      "\n",
      "        [[0.4738, 0.6332, 0.6332,  ..., 0.6332, 0.6332, 0.5147],\n",
      "         [0.6652, 0.8465, 0.8465,  ..., 0.8465, 0.8465, 0.6327],\n",
      "         [0.6652, 0.8465, 0.8465,  ..., 0.8465, 0.8465, 0.6327],\n",
      "         ...,\n",
      "         [0.6652, 0.8465, 0.8465,  ..., 0.8465, 0.8465, 0.6327],\n",
      "         [0.6652, 0.8465, 0.8465,  ..., 0.8465, 0.8465, 0.6327],\n",
      "         [0.5412, 0.6656, 0.6656,  ..., 0.6656, 0.6656, 0.4760]],\n",
      "\n",
      "        [[0.4738, 0.6332, 0.6332,  ..., 0.6332, 0.6332, 0.5147],\n",
      "         [0.6652, 0.8465, 0.8465,  ..., 0.8465, 0.8465, 0.6327],\n",
      "         [0.6652, 0.8465, 0.8465,  ..., 0.8465, 0.8465, 0.6327],\n",
      "         ...,\n",
      "         [0.6652, 0.8465, 0.8465,  ..., 0.8465, 0.8465, 0.6327],\n",
      "         [0.6652, 0.8465, 0.8465,  ..., 0.8465, 0.8465, 0.6327],\n",
      "         [0.5412, 0.6656, 0.6656,  ..., 0.6656, 0.6656, 0.4760]],\n",
      "\n",
      "        ...,\n",
      "\n",
      "        [[0.4738, 0.6332, 0.6332,  ..., 0.6332, 0.6332, 0.5147],\n",
      "         [0.6652, 0.8465, 0.8465,  ..., 0.8465, 0.8465, 0.6327],\n",
      "         [0.6652, 0.8465, 0.8465,  ..., 0.8465, 0.8465, 0.6327],\n",
      "         ...,\n",
      "         [0.6652, 0.8465, 0.8465,  ..., 0.8465, 0.8465, 0.6327],\n",
      "         [0.6652, 0.8465, 0.8465,  ..., 0.8465, 0.8465, 0.6327],\n",
      "         [0.5412, 0.6656, 0.6656,  ..., 0.6656, 0.6656, 0.4760]],\n",
      "\n",
      "        [[0.4738, 0.6332, 0.6332,  ..., 0.6332, 0.6332, 0.5147],\n",
      "         [0.6652, 0.8465, 0.8465,  ..., 0.8465, 0.8465, 0.6327],\n",
      "         [0.6652, 0.8465, 0.8465,  ..., 0.8465, 0.8465, 0.6327],\n",
      "         ...,\n",
      "         [0.6652, 0.8465, 0.8465,  ..., 0.8465, 0.8465, 0.6327],\n",
      "         [0.6652, 0.8465, 0.8465,  ..., 0.8465, 0.8465, 0.6327],\n",
      "         [0.5412, 0.6656, 0.6656,  ..., 0.6656, 0.6656, 0.4760]],\n",
      "\n",
      "        [[0.4070, 0.4802, 0.4802,  ..., 0.4802, 0.4802, 0.4180],\n",
      "         [0.5145, 0.6526, 0.6526,  ..., 0.6526, 0.6526, 0.4929],\n",
      "         [0.5145, 0.6526, 0.6526,  ..., 0.6526, 0.6526, 0.4929],\n",
      "         ...,\n",
      "         [0.5145, 0.6526, 0.6526,  ..., 0.6526, 0.6526, 0.4929],\n",
      "         [0.5145, 0.6526, 0.6526,  ..., 0.6526, 0.6526, 0.4929],\n",
      "         [0.4487, 0.5246, 0.5246,  ..., 0.5246, 0.5246, 0.4164]]],\n",
      "       device='cuda:0', grad_fn=<SelectBackward0>)\n"
     ]
    }
   ],
   "source": [
    "print(voxel_probs_batch[0, 0])"
   ]
  },
  {
   "cell_type": "code",
   "execution_count": 17,
   "id": "05b0dc4a",
   "metadata": {},
   "outputs": [
    {
     "data": {
      "text/plain": [
       "torch.Size([2, 155, 192, 192])"
      ]
     },
     "execution_count": 17,
     "metadata": {},
     "output_type": "execute_result"
    }
   ],
   "source": [
    "probs, out = torch.max(voxel_probs_batch, dim=1)\n",
    "out.shape"
   ]
  },
  {
   "cell_type": "code",
   "execution_count": 18,
   "id": "868e9551",
   "metadata": {},
   "outputs": [
    {
     "data": {
      "text/plain": [
       "tensor(436508, device='cuda:0')"
      ]
     },
     "execution_count": 18,
     "metadata": {},
     "output_type": "execute_result"
    }
   ],
   "source": [
    "out.sum()"
   ]
  },
  {
   "cell_type": "code",
   "execution_count": 22,
   "id": "b01e9504",
   "metadata": {},
   "outputs": [
    {
     "name": "stdout",
     "output_type": "stream",
     "text": [
      "prediction:\n"
     ]
    },
    {
     "data": {
      "text/plain": [
       "<matplotlib.image.AxesImage at 0x1c23ddd54c0>"
      ]
     },
     "execution_count": 22,
     "metadata": {},
     "output_type": "execute_result"
    },
    {
     "data": {
      "image/png": "[encoded data removed]",
      "text/plain": [
       "<Figure size 432x288 with 1 Axes>"
      ]
     },
     "metadata": {
      "needs_background": "light"
     },
     "output_type": "display_data"
    }
   ],
   "source": [
    "print('prediction:')\n",
    "plt.imshow(out[0, 70, :, :].cpu())"
   ]
  },
  {
   "cell_type": "code",
   "execution_count": 23,
   "id": "136cd41d",
   "metadata": {},
   "outputs": [
    {
     "name": "stdout",
     "output_type": "stream",
     "text": [
      "label:\n"
     ]
    },
    {
     "data": {
      "text/plain": [
       "<matplotlib.image.AxesImage at 0x1c24eda8d60>"
      ]
     },
     "execution_count": 23,
     "metadata": {},
     "output_type": "execute_result"
    },
    {
     "data": {
      "image/png": "[encoded data removed]",
      "text/plain": [
       "<Figure size 432x288 with 1 Axes>"
      ]
     },
     "metadata": {
      "needs_background": "light"
     },
     "output_type": "display_data"
    }
   ],
   "source": [
    "print('label:')\n",
    "plt.imshow(sample_batch['label'][0, 70, :, :].cpu())"
   ]
  },
  {
   "cell_type": "code",
   "execution_count": 21,
   "id": "b010d7a1",
   "metadata": {},
   "outputs": [
    {
     "data": {
      "text/plain": [
       "<Figure size 432x288 with 0 Axes>"
      ]
     },
     "metadata": {},
     "output_type": "display_data"
    },
    {
     "data": {
      "image/png": "[encoded data removed]",
      "text/plain": [
       "<Figure size 864x432 with 5 Axes>"
      ]
     },
     "metadata": {
      "needs_background": "light"
     },
     "output_type": "display_data"
    }
   ],
   "source": [
    "plot_batch(sample_batch, 1)"
   ]
  },
  {
   "cell_type": "code",
   "execution_count": null,
   "id": "fbf9ff4d",
   "metadata": {},
   "outputs": [],
   "source": []
  }
 ],
 "metadata": {
  "kernelspec": {
   "display_name": "Python 3 (ipykernel)",
   "language": "python",
   "name": "python3"
  },
  "language_info": {
   "codemirror_mode": {
    "name": "ipython",
    "version": 3
   },
   "file_extension": ".py",
   "mimetype": "text/x-python",
   "name": "python",
   "nbconvert_exporter": "python",
   "pygments_lexer": "ipython3",
   "version": "3.8.13"
  }
 },
 "nbformat": 4,
 "nbformat_minor": 5
}
